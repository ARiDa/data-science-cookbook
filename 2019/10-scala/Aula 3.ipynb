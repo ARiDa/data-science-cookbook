{
 "cells": [
  {
   "cell_type": "markdown",
   "metadata": {},
   "source": [
    "# Aula 3\n",
    "---\n",
    "\n",
    "Essa aula é um desafio para por em prova seus conhecimentos em Scala! Para resolvê-lo, você deverá\n",
    "utilizar o que foi apresentado nas últimas aulas E consultar materiais complementares(stack overflow) para aprender ainda mais em um cenário prático!"
   ]
  },
  {
   "cell_type": "markdown",
   "metadata": {},
   "source": [
    "## Baixando o dataset\n",
    "\n",
    "O dataset desta atividade foi tirado do Kaggle e chama-se [Food Ingredient List](https://www.kaggle.com/datafiniti/food-ingredient-lists/version/1#). Ele contém os ingredientes presentes em 10000 produtos encontrados em supermercados. Para mais informações, visite a [página do dataset](https://www.kaggle.com/datafiniti/food-ingredient-lists/version/1#).\n",
    "\n",
    "O código abaixo faz o download do dataset para o diretório atual deste notebook."
   ]
  },
  {
   "cell_type": "code",
   "execution_count": 1,
   "metadata": {
    "scrolled": true
   },
   "outputs": [
    {
     "name": "stderr",
     "output_type": "stream",
     "text": [
      "--2019-05-31 12:54:38--  https://drive.google.com/uc?export=download&id=1oTjCLXJZjciOmpweGsirlreu9zcrm6Py\n",
      "Resolvendo drive.google.com (drive.google.com)... 2800:3f0:4001:81a::200e, 216.58.202.238\n",
      "Conectando-se a drive.google.com (drive.google.com)|2800:3f0:4001:81a::200e|:443... conectado.\n",
      "A requisição HTTP foi enviada, aguardando resposta... 302 Moved Temporarily\n",
      "Localização: https://doc-0k-54-docs.googleusercontent.com/docs/securesc/ha0ro937gcuc7l7deffksulhg5h7mbp1/e47bqk36vduicbcbdl5b9hu6u80633c5/1559311200000/11950412691737885275/*/1oTjCLXJZjciOmpweGsirlreu9zcrm6Py?e=download [redirecionando]\n",
      "Aviso: Não há suporte para caracteres coringa no HTTP.\n",
      "--2019-05-31 12:54:39--  https://doc-0k-54-docs.googleusercontent.com/docs/securesc/ha0ro937gcuc7l7deffksulhg5h7mbp1/e47bqk36vduicbcbdl5b9hu6u80633c5/1559311200000/11950412691737885275/*/1oTjCLXJZjciOmpweGsirlreu9zcrm6Py?e=download\n",
      "Resolvendo doc-0k-54-docs.googleusercontent.com (doc-0k-54-docs.googleusercontent.com)... 2800:3f0:4004:809::2001, 172.217.30.1\n",
      "Conectando-se a doc-0k-54-docs.googleusercontent.com (doc-0k-54-docs.googleusercontent.com)|2800:3f0:4004:809::2001|:443... conectado.\n",
      "A requisição HTTP foi enviada, aguardando resposta... 200 OK\n",
      "Tamanho: não especificada [text/tab-separated-values]\n",
      "Salvando em: “ingredients.tsv”\n",
      "\n",
      "     0K .......... .......... .......... .......... ..........  411K\n",
      "    50K .......... .......... .......... .......... ..........  390K\n",
      "   100K .......... .......... .......... .......... .......... 1,80M\n",
      "   150K .......... .......... .......... .......... .......... 1,50M\n",
      "   200K .......... .......... .......... .......... .......... 2,14M\n",
      "   250K .......... .......... .......... .......... .......... 3,55M\n",
      "   300K .......... .......... .......... .......... .......... 4,68M\n",
      "   350K .......... .......... .......... .......... .......... 3,76M\n",
      "   400K .......... .......... .......... .......... .......... 4,56M\n",
      "   450K .......... .......... .......... .......... .......... 5,13M\n",
      "   500K .......... .......... .......... .......... .......... 5,95M\n",
      "   550K .......... .......... .......... .......... .......... 7,96M\n",
      "   600K .......... .......... .......... .......... .......... 8,32M\n",
      "   650K .......... .......... .......... .......... .......... 9,54M\n",
      "   700K .......... .......... .......... .......... .......... 9,96M\n",
      "   750K .......... .......... .......... .......... .......... 10,1M\n",
      "   800K .......... .......... .......... .......... .......... 10,8M\n",
      "   850K .......... .......... .......... .......... .......... 9,95M\n",
      "   900K .......... .......... .......... .......... .......... 9,36M\n",
      "   950K .......... .......... .......... .......... .......... 8,64M\n",
      "  1000K .......... .......... .......... .......... .......... 7,57M\n",
      "  1050K .......... .......... .......... .......... .......... 10,2M\n",
      "  1100K .......... .......... .......... .......... .......... 8,76M\n",
      "  1150K .......... .......... .......... .......... ..........  361K\n",
      "  1200K .......... .......... .......... .......... ..........  637K\n",
      "  1250K .......... .......... .......... .......... ..........  231M\n",
      "  1300K .......... .......... .......... .......... ..........  234M\n",
      "  1350K .......... .......... .......... .......... ..........  253M\n",
      "  1400K .......... .......... .......... .......... ..........  113M\n",
      "  1450K .......... .......... .......... .......... ..........  251M\n",
      "  1500K .......... .......... .......... .......... ..........  201M\n",
      "  1550K .......... .......... .......... .......... ..........  245M\n",
      "  1600K .......... .......... .......... .......... ..........  255M\n",
      "  1650K .......... .......... .......... .......... ..........  261M\n",
      "  1700K .......... .......... .......... .......... ..........  192M\n",
      "  1750K .......... .......... .......... .......... ..........  252M\n",
      "  1800K .......... .......... .......... .......... ..........  262M\n",
      "  1850K .......... .......... .......... .......... ..........  256M\n",
      "  1900K .......... .......... .......... .......... ..........  216M\n",
      "  1950K .......... .......... .......... .......... ..........  252M\n",
      "  2000K .......... .......... .......... .......... ..........  234M\n",
      "  2050K .......... .......... .......... .......... ..........  267M\n",
      "  2100K .......... .......... .......... .......... ..........  231M\n",
      "  2150K .......... .......... .......... .......... ..........  246M\n",
      "  2200K .......... .......... .......... .......... ..........  142M\n",
      "  2250K .......... .......... .......... .......... ..........  267M\n",
      "  2300K .......... .......... .......... .......... ..........  201M\n",
      "  2350K .......... .......... .......... .......... ..........  262M\n",
      "  2400K .......... .......... .......... .......... ..........  249M\n",
      "  2450K .......... .......... .......... .......... ..........  240M\n",
      "  2500K .......... .......... .......... .......... ..........  236M\n",
      "  2550K .......... .......... .......... .......... ..........  260M\n",
      "  2600K .......... .......... .......... .......... ..........  253M\n",
      "  2650K .......... .......... .......... .......... ..........  250M\n",
      "  2700K .......... .......... .......... .......... ..........  213M\n",
      "  2750K .......... .......... .......... .......... ..........  249M\n",
      "  2800K .......... .......... .......... .......... ..........  272M\n",
      "  2850K .......... .......... .......... .......... ..........  241M\n",
      "  2900K .......... .......... .......... .......... ..........  251M\n",
      "  2950K .......... .......... .......... .......... .......... 8,09M\n",
      "  3000K .......... .......... .......... .......... ..........  717K\n",
      "  3050K .......... .......... .......... .......... .......... 1,82M\n",
      "  3100K .......... .......... .......... .......... ..........  292M\n",
      "  3150K .......... .......... .......... .......... ..........  255M\n",
      "  3200K .......... .......... .......... .......... ..........  318M\n",
      "  3250K .......... .......... .......... .......... ..........  331M\n",
      "  3300K .......... .......... .......... .......... ..........  331M\n",
      "  3350K .......... .......... .......... .......... .......... 8,07M\n",
      "  3400K .......... .......... .......... .......... .......... 23,6M\n",
      "  3450K .......... .......... .......... .......... ..........  187M\n",
      "  3500K .......... .......... .......... .......... ..........  292M\n",
      "  3550K .......... .......... .......... .......... ..........  253M\n",
      "  3600K .......... .......... .......... .......... ..........  315M\n",
      "  3650K .......... .......... .......... .......... ..........  319M\n",
      "  3700K .......... .......... .......... .......... .......... 14,4M\n",
      "  3750K .......... .......... .......... .......... ..........  279M\n",
      "  3800K .......... .......... .......... .......... ..........  329M\n",
      "  3850K .......... .......... .......... .......... .......... 29,3M\n",
      "  3900K .......... .......... .......... .......... .......... 10,1M\n",
      "  3950K .......... .......... .......... .......... ..........  701K\n",
      "  4000K .......... .......... .......... .......... .......... 4,37M\n",
      "  4050K .......... .......... .......... .......... .......... 22,4M\n",
      "  4100K .......... .......... .......... .......... ..........  306M\n",
      "  4150K .......... .......... .......... .......... .......... 22,9M\n",
      "  4200K .......... .......... .......... .......... ..........  298M\n",
      "  4250K .......... .......... .......... .......... .......... 4,85M\n",
      "  4300K .......... .......... .......... .......... ..........  216M\n",
      "  4350K .......... .......... .......... .......... .......... 7,71M\n",
      "  4400K .......... .......... .......... .......... ..........  313M\n",
      "  4450K .......... .......... .......... .......... .......... 57,5M\n",
      "  4500K .......... .......... .......... .......... .......... 19,2M\n",
      "  4550K .......... .......... .......... .......... .......... 13,8M\n",
      "  4600K .......... .......... .......... .......... .......... 8,34M\n",
      "  4650K .......... .......... .......... .......... .......... 42,1M\n",
      "  4700K .......... .......... .......... .......... .......... 15,2M\n",
      "  4750K .......... .......... .......... .......... .......... 17,0M\n",
      "  4800K .......... .......... .......... .......... .......... 23,7M\n",
      "  4850K .......... .......... .......... .......... .......... 28,4M\n",
      "  4900K .......... .......... .......... .......... .......... 17,9M\n",
      "  4950K .......... .......... .......... .......... .......... 29,6M\n",
      "  5000K .......... .......... .......... .......... ..........  307M\n"
     ]
    },
    {
     "name": "stderr",
     "output_type": "stream",
     "text": [
      "  5050K .......... .......... .......... .......... .......... 26,4M\n",
      "  5100K .......... .......... .......... .......... ..........  228M\n",
      "  5150K .......... ...                                          733M=0,9s\n",
      "\n",
      "2019-05-31 12:54:41 (5,35 MB/s) - “ingredients.tsv” salvo [5287404]\n",
      "\n"
     ]
    },
    {
     "data": {
      "text/plain": [
       "\u001b[32mimport \u001b[39m\u001b[36msys.process._\n",
       "\n",
       "\u001b[39m\n",
       "\u001b[36mres0_1\u001b[39m: \u001b[32mInt\u001b[39m = \u001b[32m0\u001b[39m"
      ]
     },
     "execution_count": 1,
     "metadata": {},
     "output_type": "execute_result"
    }
   ],
   "source": [
    "import sys.process._\n",
    "\n",
    "\"wget -O ingredients.tsv https://drive.google.com/uc?export=download&id=1oTjCLXJZjciOmpweGsirlreu9zcrm6Py\"!"
   ]
  },
  {
   "cell_type": "markdown",
   "metadata": {},
   "source": [
    "## Processando o dataset\n",
    "\n",
    "Para simplificar o desafio (pois já há muita coisa difícil para se fazer) o dataset foi mapeado para TSV. As informações estão separadas por **tabulações** (caractere \\t). Processe-o e armazene-o da maneira que achar mais conveniente"
   ]
  },
  {
   "cell_type": "code",
   "execution_count": 2,
   "metadata": {},
   "outputs": [
    {
     "data": {
      "text/html": [
       "<div class=\"jp-RenderedText\">\n",
       "<pre><span class=\"ansi-green-fg\">import </span><span class=\"ansi-cyan-fg\">scala.io.Source\n",
       "</span>\n",
       "<span class=\"ansi-cyan-fg\">dataset_name</span>: <span class=\"ansi-green-fg\">String</span> = <span class=\"ansi-green-fg\">&quot;ingredients.tsv&quot;</span></pre>\n",
       "</div>"
      ],
      "text/plain": [
       "\u001b[32mimport \u001b[39m\u001b[36mscala.io.Source\n",
       "\u001b[39m\n",
       "\u001b[36mdataset_name\u001b[39m: \u001b[32mString\u001b[39m = \u001b[32m\"ingredients.tsv\"\u001b[39m"
      ]
     },
     "metadata": {},
     "output_type": "display_data"
    }
   ],
   "source": [
    "import scala.io.Source\n",
    "var dataset_name = \"ingredients.tsv\"\n",
    "/*print(Source.fromFile(dataset_name).getLines.take(5).toList.mkString(\"/n\")) */"
   ]
  },
  {
   "cell_type": "code",
   "execution_count": 47,
   "metadata": {
    "scrolled": true
   },
   "outputs": [
    {
     "data": {
      "text/plain": [
       "defined \u001b[32mclass\u001b[39m \u001b[36mDataset\u001b[39m\n",
       "\u001b[36mlines\u001b[39m: \u001b[32mIterator\u001b[39m[\u001b[32mString\u001b[39m] = \u001b[32mempty iterator\u001b[39m\n",
       "\u001b[36mamostras\u001b[39m: \u001b[32mList\u001b[39m[\u001b[32mDataset\u001b[39m] = \u001b[33mList\u001b[39m(\n",
       "  \u001b[33mDataset\u001b[39m(\n",
       "    \u001b[32m\"Simon Fischer\"\u001b[39m,\n",
       "    \u001b[32m\"Dried Prunes,Water,Corn Syrup,Sugar,Pectin.\"\u001b[39m,\n",
       "    \u001b[32m\"Grocery & Gourmet Food,Food,Grocery\"\u001b[39m,\n",
       "    \u001b[32m\"Simon Fischer Fruit Bttr Prune Lekvar\"\u001b[39m\n",
       "  ),\n",
       "  \u001b[33mDataset\u001b[39m(\n",
       "    \u001b[32m\"McCormick\"\u001b[39m,\n",
       "    \u001b[32m\"Salt,Sugar,Molasses (Refinery Syrup, Molasses, Caramel Color),Spices (Including Black Pepper),Garlic Onion,Tapioca Maltodextrin,Bacon Fat and Cooked Bacon (Cured with Water, Salt, Sodium Erythorbate, Sodium Nitrate),Silicon Dioxide (To Make Free Flowing),Autolyzed Yeast,Sunflower Oil,Corn Maltodextrin,Vinegar,Extractives of Paprika,and Natural Flavor (Including Smoke)\"\u001b[39m,\n",
       "    \u001b[32m\"Grocery & Gourmet Food,Food,Grocery\"\u001b[39m,\n",
       "    \u001b[32m\"McCORMICK GRILL MATES MOLASSES BACON SEASONING 1 x 77g JAR AMERICAN IMPORT\"\u001b[39m\n",
       "  ),\n",
       "  \u001b[33mDataset\u001b[39m(\n",
       "    \u001b[32m\"Jolly Time\"\u001b[39m,\n",
       "    \u001b[32m\"Salt, Yellow 5 Lake, Tricalcium Phosphate And Artificial Butter Flavor\"\u001b[39m,\n",
       "    \u001b[32m\"Grocery & Gourmet Food,Grocery\"\u001b[39m,\n",
       "    \u001b[32m\"Jolly Time Popcorn\"\u001b[39m\n",
       "  ),\n",
       "  \u001b[33mDataset\u001b[39m(\n",
       "    \u001b[32m\"Ziyad\"\u001b[39m,\n",
       "    \u001b[32m\"Mechanically hulled seasame seeds.Allergy Information: Packed in a facility that processes wheat, flour, peanuts and tree nuts.,Mechanically hulled seasame seeds.Allergy Information: Packed in a facility that processes wheat,flour,peanuts and tree nuts.\"\u001b[39m,\n",
       "    \u001b[32m\"Grocery & Gourmet Food,grocery\"\u001b[39m,\n",
       "    \u001b[32m\"Ziyad Tahini Sesame Sauce\"\u001b[39m\n",
       "  ),\n",
       "  \u001b[33mDataset\u001b[39m(\n",
       "    \u001b[32m\"Fla-Vor-Ice\"\u001b[39m,\n",
       "    \u001b[32m\"FALSE\"\u001b[39m,\n",
       "    \u001b[32m\"Grocery & Gourmet Food,grocery\"\u001b[39m,\n",
       "    \u001b[32m\"Fla-Vor-Ice Plus Giant Pops\"\u001b[39m\n",
       "  )\n",
       ")\n",
       "\u001b[36mamostrasAgrupadas\u001b[39m: \u001b[32mMap\u001b[39m[\u001b[32mString\u001b[39m, \u001b[32mList\u001b[39m[\u001b[32mDataset\u001b[39m]] = \u001b[33mMap\u001b[39m(\n",
       "  \u001b[32m\"Simon Fischer\"\u001b[39m -> \u001b[33mList\u001b[39m(\n",
       "    \u001b[33mDataset\u001b[39m(\n",
       "      \u001b[32m\"Simon Fischer\"\u001b[39m,\n",
       "      \u001b[32m\"Dried Prunes,Water,Corn Syrup,Sugar,Pectin.\"\u001b[39m,\n",
       "      \u001b[32m\"Grocery & Gourmet Food,Food,Grocery\"\u001b[39m,\n",
       "      \u001b[32m\"Simon Fischer Fruit Bttr Prune Lekvar\"\u001b[39m\n",
       "    )\n",
       "  ),\n",
       "  \u001b[32m\"Jolly Time\"\u001b[39m -> \u001b[33mList\u001b[39m(\n",
       "    \u001b[33mDataset\u001b[39m(\n",
       "      \u001b[32m\"Jolly Time\"\u001b[39m,\n",
       "      \u001b[32m\"Salt, Yellow 5 Lake, Tricalcium Phosphate And Artificial Butter Flavor\"\u001b[39m,\n",
       "      \u001b[32m\"Grocery & Gourmet Food,Grocery\"\u001b[39m,\n",
       "      \u001b[32m\"Jolly Time Popcorn\"\u001b[39m\n",
       "    )\n",
       "  ),\n",
       "  \u001b[32m\"Ziyad\"\u001b[39m -> \u001b[33mList\u001b[39m(\n",
       "    \u001b[33mDataset\u001b[39m(\n",
       "      \u001b[32m\"Ziyad\"\u001b[39m,\n",
       "      \u001b[32m\"Mechanically hulled seasame seeds.Allergy Information: Packed in a facility that processes wheat, flour, peanuts and tree nuts.,Mechanically hulled seasame seeds.Allergy Information: Packed in a facility that processes wheat,flour,peanuts and tree nuts.\"\u001b[39m,\n",
       "      \u001b[32m\"Grocery & Gourmet Food,grocery\"\u001b[39m,\n",
       "      \u001b[32m\"Ziyad Tahini Sesame Sauce\"\u001b[39m\n",
       "    )\n",
       "  ),\n",
       "  \u001b[32m\"Fla-Vor-Ice\"\u001b[39m -> \u001b[33mList\u001b[39m(\n",
       "    \u001b[33mDataset\u001b[39m(\n",
       "      \u001b[32m\"Fla-Vor-Ice\"\u001b[39m,\n",
       "      \u001b[32m\"FALSE\"\u001b[39m,\n",
       "      \u001b[32m\"Grocery & Gourmet Food,grocery\"\u001b[39m,\n",
       "      \u001b[32m\"Fla-Vor-Ice Plus Giant Pops\"\u001b[39m\n",
       "    )\n",
       "  ),\n",
       "  \u001b[32m\"McCormick\"\u001b[39m -> \u001b[33mList\u001b[39m(\n",
       "    \u001b[33mDataset\u001b[39m(\n",
       "      \u001b[32m\"McCormick\"\u001b[39m,\n",
       "..."
      ]
     },
     "execution_count": 47,
     "metadata": {},
     "output_type": "execute_result"
    }
   ],
   "source": [
    "case class Dataset(brand: String, ingredients: String, categories: String, name: String)\n",
    "val lines = Source.fromFile(dataset_name).getLines.drop(1).take(5)\n",
    "\n",
    "val amostras = lines\n",
    "                    .map(_.split(\"\\t\"))\n",
    "                    //.filter(_.length == 8)\n",
    "                    .map(l => Dataset(l(2), l(8), l(3), l(11)))\n",
    "                    .toList\n",
    "\n",
    "//agrupando as amostras pela classe\n",
    "val amostrasAgrupadas = amostras\n",
    "    .groupBy(_.brand)"
   ]
  },
  {
   "cell_type": "markdown",
   "metadata": {},
   "source": [
    "## Demandas\n",
    "---"
   ]
  },
  {
   "cell_type": "markdown",
   "metadata": {},
   "source": [
    "### 1 - Quantas e quais as marcas de produtos contidas no dataset?"
   ]
  },
  {
   "cell_type": "code",
   "execution_count": 5,
   "metadata": {},
   "outputs": [
    {
     "name": "stdout",
     "output_type": "stream",
     "text": [
      "Quantidade de amostras: 5\n",
      "Simon Fischer\n",
      "Jolly Time\n",
      "Ziyad\n",
      "Fla-Vor-Ice\n",
      "McCormick\n"
     ]
    }
   ],
   "source": [
    "println(s\"Quantidade de amostras: \" + amostrasAgrupadas.size)\n",
    "for((c,amostras) <- amostrasAgrupadas){\n",
    "    println(c)\n",
    "}"
   ]
  },
  {
   "cell_type": "markdown",
   "metadata": {},
   "source": [
    "### 2 - Quais as marcas que aparecem mais no dataset? Quais aparecem menos?"
   ]
  },
  {
   "cell_type": "code",
   "execution_count": 6,
   "metadata": {
    "scrolled": true
   },
   "outputs": [
    {
     "name": "stdout",
     "output_type": "stream",
     "text": [
      "Aparece mais: (Simon Fischer,1)\n",
      "Aparece menos: (Simon Fischer,1)\n"
     ]
    },
    {
     "data": {
      "text/plain": [
       "\u001b[36mamostrasAgrupadasTam\u001b[39m: \u001b[32mMap\u001b[39m[\u001b[32mString\u001b[39m, \u001b[32mInt\u001b[39m] = \u001b[33mMap\u001b[39m(\n",
       "  \u001b[32m\"Simon Fischer\"\u001b[39m -> \u001b[32m1\u001b[39m,\n",
       "  \u001b[32m\"Jolly Time\"\u001b[39m -> \u001b[32m1\u001b[39m,\n",
       "  \u001b[32m\"Ziyad\"\u001b[39m -> \u001b[32m1\u001b[39m,\n",
       "  \u001b[32m\"Fla-Vor-Ice\"\u001b[39m -> \u001b[32m1\u001b[39m,\n",
       "  \u001b[32m\"McCormick\"\u001b[39m -> \u001b[32m1\u001b[39m\n",
       ")"
      ]
     },
     "execution_count": 6,
     "metadata": {},
     "output_type": "execute_result"
    }
   ],
   "source": [
    "val amostrasAgrupadasTam = amostras\n",
    "    .groupBy(_.brand)\n",
    "    .mapValues(_.size)\n",
    "\n",
    "println(s\"Aparece mais: \" + amostrasAgrupadasTam.maxBy(_._2))\n",
    "println(s\"Aparece menos: \" + amostrasAgrupadasTam.minBy(_._2))"
   ]
  },
  {
   "cell_type": "markdown",
   "metadata": {},
   "source": [
    "### 3 - Compute a média e desvio padrão da frequência das marcas de produtos"
   ]
  },
  {
   "cell_type": "code",
   "execution_count": 25,
   "metadata": {},
   "outputs": [
    {
     "data": {
      "text/plain": [
       "\u001b[32mimport \u001b[39m\u001b[36mNumeric.Implicits._\n",
       "\n",
       "\u001b[39m\n",
       "defined \u001b[32mfunction\u001b[39m \u001b[36mmean\u001b[39m\n",
       "defined \u001b[32mfunction\u001b[39m \u001b[36mvariance\u001b[39m\n",
       "defined \u001b[32mfunction\u001b[39m \u001b[36mstdDev\u001b[39m"
      ]
     },
     "execution_count": 25,
     "metadata": {},
     "output_type": "execute_result"
    }
   ],
   "source": [
    "import Numeric.Implicits._\n",
    "\n",
    "def mean[T: Numeric](xs: Iterable[T]): Double = xs.sum.toDouble / xs.size\n",
    "\n",
    "def variance[T: Numeric](xs: Iterable[T]): Double = {\n",
    "  val avg = mean(xs)\n",
    "\n",
    "  xs.map(_.toDouble).map(a => math.pow(a - avg, 2)).sum / xs.size\n",
    "}\n",
    "\n",
    "def stdDev[T: Numeric](xs: Iterable[T]): Double = math.sqrt(variance(xs))"
   ]
  },
  {
   "cell_type": "code",
   "execution_count": 50,
   "metadata": {},
   "outputs": [
    {
     "name": "stdout",
     "output_type": "stream",
     "text": [
      "Média: 1.0\n",
      "Désvio padrão: 0.0\n"
     ]
    }
   ],
   "source": [
    "println( s\"Média: \" + mean(amostrasAgrupadasTam.values))\n",
    "println( s\"Désvio padrão: \" + stdDev(amostrasAgrupadasTam.values))"
   ]
  },
  {
   "cell_type": "markdown",
   "metadata": {},
   "source": [
    "### 4 - Quais os ingredientes que aparecem nos produtos? Mostre quantos são, os que mais aparecem e os que menos aparecem."
   ]
  },
  {
   "cell_type": "code",
   "execution_count": 51,
   "metadata": {},
   "outputs": [
    {
     "name": "stderr",
     "output_type": "stream",
     "text": [
      "cmd51.sc:6: type mismatch;\n",
      " found   : (String, String)\n",
      " required: (Nothing, Nothing)\n",
      "    name_ingredients = name_ingredients + (amostra.name -> amostra.ingredients)\n",
      "                                                        ^Compilation Failed"
     ]
    },
    {
     "ename": "",
     "evalue": "",
     "output_type": "error",
     "traceback": [
      "Compilation Failed"
     ]
    }
   ],
   "source": [
    "var name_ingredients:Map[String,String] = Map()\n",
    "\n",
    "for( amostra <- amostras){\n",
    "    name_ingredients + = (amostra.name -> amostra.ingredients)\n",
    "}\n",
    "//mapBrandIngredient"
   ]
  },
  {
   "cell_type": "code",
   "execution_count": 49,
   "metadata": {},
   "outputs": [
    {
     "data": {
      "text/plain": [
       "\u001b[36mamostrasAgrupadasNome\u001b[39m: \u001b[32mMap\u001b[39m[\u001b[32mString\u001b[39m, \u001b[32mList\u001b[39m[\u001b[32mDataset\u001b[39m]] = \u001b[33mMap\u001b[39m(\n",
       "  \u001b[32m\"Simon Fischer Fruit Bttr Prune Lekvar\"\u001b[39m -> \u001b[33mList\u001b[39m(\n",
       "    \u001b[33mDataset\u001b[39m(\n",
       "      \u001b[32m\"Simon Fischer\"\u001b[39m,\n",
       "      \u001b[32m\"Dried Prunes,Water,Corn Syrup,Sugar,Pectin.\"\u001b[39m,\n",
       "      \u001b[32m\"Grocery & Gourmet Food,Food,Grocery\"\u001b[39m,\n",
       "      \u001b[32m\"Simon Fischer Fruit Bttr Prune Lekvar\"\u001b[39m\n",
       "    )\n",
       "  ),\n",
       "  \u001b[32m\"McCORMICK GRILL MATES MOLASSES BACON SEASONING 1 x 77g JAR AMERICAN IMPORT\"\u001b[39m -> \u001b[33mList\u001b[39m(\n",
       "    \u001b[33mDataset\u001b[39m(\n",
       "      \u001b[32m\"McCormick\"\u001b[39m,\n",
       "      \u001b[32m\"Salt,Sugar,Molasses (Refinery Syrup, Molasses, Caramel Color),Spices (Including Black Pepper),Garlic Onion,Tapioca Maltodextrin,Bacon Fat and Cooked Bacon (Cured with Water, Salt, Sodium Erythorbate, Sodium Nitrate),Silicon Dioxide (To Make Free Flowing),Autolyzed Yeast,Sunflower Oil,Corn Maltodextrin,Vinegar,Extractives of Paprika,and Natural Flavor (Including Smoke)\"\u001b[39m,\n",
       "      \u001b[32m\"Grocery & Gourmet Food,Food,Grocery\"\u001b[39m,\n",
       "      \u001b[32m\"McCORMICK GRILL MATES MOLASSES BACON SEASONING 1 x 77g JAR AMERICAN IMPORT\"\u001b[39m\n",
       "    )\n",
       "  ),\n",
       "  \u001b[32m\"Fla-Vor-Ice Plus Giant Pops\"\u001b[39m -> \u001b[33mList\u001b[39m(\n",
       "    \u001b[33mDataset\u001b[39m(\n",
       "      \u001b[32m\"Fla-Vor-Ice\"\u001b[39m,\n",
       "      \u001b[32m\"FALSE\"\u001b[39m,\n",
       "      \u001b[32m\"Grocery & Gourmet Food,grocery\"\u001b[39m,\n",
       "      \u001b[32m\"Fla-Vor-Ice Plus Giant Pops\"\u001b[39m\n",
       "    )\n",
       "  ),\n",
       "  \u001b[32m\"Ziyad Tahini Sesame Sauce\"\u001b[39m -> \u001b[33mList\u001b[39m(\n",
       "    \u001b[33mDataset\u001b[39m(\n",
       "      \u001b[32m\"Ziyad\"\u001b[39m,\n",
       "      \u001b[32m\"Mechanically hulled seasame seeds.Allergy Information: Packed in a facility that processes wheat, flour, peanuts and tree nuts.,Mechanically hulled seasame seeds.Allergy Information: Packed in a facility that processes wheat,flour,peanuts and tree nuts.\"\u001b[39m,\n",
       "      \u001b[32m\"Grocery & Gourmet Food,grocery\"\u001b[39m,\n",
       "..."
      ]
     },
     "execution_count": 49,
     "metadata": {},
     "output_type": "execute_result"
    }
   ],
   "source": [
    "val amostrasAgrupadasNome = amostras\n",
    "    .groupBy(_.name)\n",
    "    \n"
   ]
  },
  {
   "cell_type": "markdown",
   "metadata": {},
   "source": [
    "### 5 - Compute a média e desvio padrão da frequência dos ingredientes"
   ]
  },
  {
   "cell_type": "code",
   "execution_count": null,
   "metadata": {},
   "outputs": [],
   "source": []
  },
  {
   "cell_type": "markdown",
   "metadata": {},
   "source": [
    "### 6 - Quais os ingredientes mais usados por cada marca? E os menos usados?"
   ]
  },
  {
   "cell_type": "code",
   "execution_count": null,
   "metadata": {},
   "outputs": [],
   "source": []
  },
  {
   "cell_type": "markdown",
   "metadata": {},
   "source": [
    "### 7 - Compute alguma informação não demandada pelas questões anteriores e justifique o porquê que tal informação é útil"
   ]
  },
  {
   "cell_type": "code",
   "execution_count": null,
   "metadata": {},
   "outputs": [],
   "source": []
  }
 ],
 "metadata": {
  "kernelspec": {
   "display_name": "Scala (sources)",
   "language": "scala",
   "name": "scala"
  },
  "language_info": {
   "codemirror_mode": "text/x-scala",
   "file_extension": ".scala",
   "mimetype": "text/x-scala",
   "name": "scala",
   "nbconvert_exporter": "script",
   "version": "2.12.8"
  }
 },
 "nbformat": 4,
 "nbformat_minor": 2
}
