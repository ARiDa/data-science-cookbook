{
 "cells": [
  {
   "cell_type": "markdown",
   "metadata": {},
   "source": [
    "# Aula 3\n",
    "---\n",
    "\n",
    "Essa aula é um desafio para por em prova seus conhecimentos em Scala! Para resolvê-lo, você deverá\n",
    "utilizar o que foi apresentado nas últimas aulas E consultar materiais complementares(stack overflow) para aprender ainda mais em um cenário prático!"
   ]
  },
  {
   "cell_type": "markdown",
   "metadata": {},
   "source": [
    "## Baixando o dataset\n",
    "\n",
    "O dataset desta atividade foi tirado do Kaggle e chama-se [Food Ingredient List](https://www.kaggle.com/datafiniti/food-ingredient-lists/version/1#). Ele contém os ingredientes presentes em 10000 produtos encontrados em supermercados. Para mais informações, visite a [página do dataset](https://www.kaggle.com/datafiniti/food-ingredient-lists/version/1#).\n",
    "\n",
    "O código abaixo faz o download do dataset para o diretório atual deste notebook."
   ]
  },
  {
   "cell_type": "code",
   "execution_count": 1,
   "metadata": {
    "scrolled": true
   },
   "outputs": [
    {
     "name": "stderr",
     "output_type": "stream",
     "text": [
      "--2019-06-06 15:03:46--  https://drive.google.com/uc?export=download&id=1oTjCLXJZjciOmpweGsirlreu9zcrm6Py\n",
      "Resolvendo drive.google.com (drive.google.com)... 172.217.172.142, 2800:3f0:4001:81a::200e\n",
      "Conectando-se a drive.google.com (drive.google.com)|172.217.172.142|:443... conectado.\n",
      "A requisição HTTP foi enviada, aguardando resposta... 302 Moved Temporarily\n",
      "Localização: https://doc-0k-54-docs.googleusercontent.com/docs/securesc/ha0ro937gcuc7l7deffksulhg5h7mbp1/bbik46gnkupct8r5l4885tdh3tprkhbr/1559844000000/11950412691737885275/*/1oTjCLXJZjciOmpweGsirlreu9zcrm6Py?e=download [redirecionando]\n",
      "Aviso: Não há suporte para caracteres coringa no HTTP.\n",
      "--2019-06-06 15:03:47--  https://doc-0k-54-docs.googleusercontent.com/docs/securesc/ha0ro937gcuc7l7deffksulhg5h7mbp1/bbik46gnkupct8r5l4885tdh3tprkhbr/1559844000000/11950412691737885275/*/1oTjCLXJZjciOmpweGsirlreu9zcrm6Py?e=download\n",
      "Resolvendo doc-0k-54-docs.googleusercontent.com (doc-0k-54-docs.googleusercontent.com)... 216.58.202.161, 2800:3f0:4001:816::2001\n",
      "Conectando-se a doc-0k-54-docs.googleusercontent.com (doc-0k-54-docs.googleusercontent.com)|216.58.202.161|:443... conectado.\n",
      "A requisição HTTP foi enviada, aguardando resposta... 200 OK\n",
      "Tamanho: não especificada [text/tab-separated-values]\n",
      "Salvando em: “ingredients.tsv”\n",
      "\n",
      "     0K .......... .......... .......... .......... ..........  418K\n",
      "    50K .......... .......... .......... .......... ..........  388K\n",
      "   100K .......... .......... .......... .......... .......... 1,40M\n",
      "   150K .......... .......... .......... .......... .......... 1,65M\n",
      "   200K .......... .......... .......... .......... .......... 2,94M\n",
      "   250K .......... .......... .......... .......... .......... 4,06M\n",
      "   300K .......... .......... .......... .......... .......... 3,08M\n",
      "   350K .......... .......... .......... .......... .......... 4,07M\n",
      "   400K .......... .......... .......... .......... .......... 4,02M\n",
      "   450K .......... .......... .......... .......... .......... 5,85M\n",
      "   500K .......... .......... .......... .......... .......... 5,61M\n",
      "   550K .......... .......... .......... .......... .......... 5,17M\n",
      "   600K .......... .......... .......... .......... .......... 6,35M\n",
      "   650K .......... .......... .......... .......... .......... 3,75M\n",
      "   700K .......... .......... .......... .......... .......... 6,98M\n",
      "   750K .......... .......... .......... .......... .......... 7,40M\n",
      "   800K .......... .......... .......... .......... .......... 6,25M\n",
      "   850K .......... .......... .......... .......... .......... 6,24M\n",
      "   900K .......... .......... .......... .......... .......... 5,74M\n",
      "   950K .......... .......... .......... .......... .......... 6,13M\n",
      "  1000K .......... .......... .......... .......... .......... 6,04M\n",
      "  1050K .......... .......... .......... .......... .......... 6,14M\n",
      "  1100K .......... .......... .......... .......... .......... 4,74M\n",
      "  1150K .......... .......... .......... .......... .......... 12,3M\n",
      "  1200K .......... .......... .......... .......... .......... 6,96M\n",
      "  1250K .......... .......... .......... .......... .......... 48,5M\n",
      "  1300K .......... .......... .......... .......... .......... 9,29M\n",
      "  1350K .......... .......... .......... .......... .......... 4,65M\n",
      "  1400K .......... .......... .......... .......... ..........  304M\n",
      "  1450K .......... .......... .......... .......... .......... 5,74M\n",
      "  1500K .......... .......... .......... .......... .......... 4,80M\n",
      "  1550K .......... .......... .......... .......... .......... 5,40M\n",
      "  1600K .......... .......... .......... .......... .......... 18,0M\n",
      "  1650K .......... .......... .......... .......... .......... 6,53M\n",
      "  1700K .......... .......... .......... .......... .......... 6,70M\n",
      "  1750K .......... .......... .......... .......... .......... 6,14M\n",
      "  1800K .......... .......... .......... .......... .......... 8,88M\n",
      "  1850K .......... .......... .......... .......... .......... 8,97M\n",
      "  1900K .......... .......... .......... .......... .......... 5,65M\n",
      "  1950K .......... .......... .......... .......... .......... 7,52M\n",
      "  2000K .......... .......... .......... .......... .......... 7,82M\n",
      "  2050K .......... .......... .......... .......... .......... 5,70M\n",
      "  2100K .......... .......... .......... .......... .......... 16,1M\n",
      "  2150K .......... .......... .......... .......... ..........  323K\n",
      "  2200K .......... .......... .......... .......... .......... 2,26M\n",
      "  2250K .......... .......... .......... .......... .......... 11,4M\n",
      "  2300K .......... .......... .......... .......... .......... 10,8M\n",
      "  2350K .......... .......... .......... .......... ..........  254M\n",
      "  2400K .......... .......... .......... .......... .......... 19,0M\n",
      "  2450K .......... .......... .......... .......... .......... 24,3M\n",
      "  2500K .......... .......... .......... .......... ..........  270M\n",
      "  2550K .......... .......... .......... .......... ..........  330M\n",
      "  2600K .......... .......... .......... .......... ..........  337M\n",
      "  2650K .......... .......... .......... .......... ..........  338M\n",
      "  2700K .......... .......... .......... .......... ..........  272M\n",
      "  2750K .......... .......... .......... .......... ..........  334M\n",
      "  2800K .......... .......... .......... .......... ..........  334M\n",
      "  2850K .......... .......... .......... .......... ..........  336M\n",
      "  2900K .......... .......... .......... .......... ..........  309M\n",
      "  2950K .......... .......... .......... .......... ..........  329M\n",
      "  3000K .......... .......... .......... .......... ..........  320M\n",
      "  3050K .......... .......... .......... .......... ..........  341M\n",
      "  3100K .......... .......... .......... .......... ..........  278M\n",
      "  3150K .......... .......... .......... .......... ..........  309M\n",
      "  3200K .......... .......... .......... .......... ..........  336M\n",
      "  3250K .......... .......... .......... .......... ..........  328M\n",
      "  3300K .......... .......... .......... .......... ..........  306M\n",
      "  3350K .......... .......... .......... .......... ..........  337M\n",
      "  3400K .......... .......... .......... .......... .......... 70,1M\n",
      "  3450K .......... .......... .......... .......... .......... 9,85M\n",
      "  3500K .......... .......... .......... .......... .......... 6,48M\n",
      "  3550K .......... .......... .......... .......... .......... 9,77M\n",
      "  3600K .......... .......... .......... .......... .......... 8,22M\n",
      "  3650K .......... .......... .......... .......... .......... 7,19M\n",
      "  3700K .......... .......... .......... .......... .......... 8,10M\n",
      "  3750K .......... .......... .......... .......... .......... 9,95M\n",
      "  3800K .......... .......... .......... .......... .......... 9,40M\n",
      "  3850K .......... .......... .......... .......... .......... 7,73M\n",
      "  3900K .......... .......... .......... .......... .......... 6,81M\n",
      "  3950K .......... .......... .......... .......... .......... 7,81M\n",
      "  4000K .......... .......... .......... .......... .......... 8,32M\n",
      "  4050K .......... .......... .......... .......... .......... 6,29M\n",
      "  4100K .......... .......... .......... .......... .......... 6,26M\n",
      "  4150K .......... .......... .......... .......... .......... 7,96M\n",
      "  4200K .......... .......... .......... .......... .......... 8,38M\n",
      "  4250K .......... .......... .......... .......... .......... 8,04M\n",
      "  4300K .......... .......... .......... .......... .......... 6,21M\n",
      "  4350K .......... .......... .......... .......... .......... 7,99M\n",
      "  4400K .......... .......... .......... .......... .......... 7,52M\n",
      "  4450K .......... .......... .......... .......... .......... 8,26M\n",
      "  4500K .......... .......... .......... .......... .......... 8,12M\n",
      "  4550K .......... .......... .......... .......... .......... 8,39M\n",
      "  4600K .......... .......... .......... .......... .......... 8,27M\n",
      "  4650K .......... .......... .......... .......... .......... 8,22M\n",
      "  4700K .......... .......... .......... .......... .......... 6,39M\n",
      "  4750K .......... .......... .......... .......... .......... 9,00M\n",
      "  4800K .......... .......... .......... .......... .......... 8,58M\n",
      "  4850K .......... .......... .......... .......... .......... 8,56M\n",
      "  4900K .......... .......... .......... .......... .......... 7,94M\n",
      "  4950K .......... .......... .......... .......... .......... 8,32M\n"
     ]
    },
    {
     "name": "stderr",
     "output_type": "stream",
     "text": [
      "  5000K .......... .......... .......... .......... .......... 8,35M\n",
      "  5050K .......... .......... .......... .......... .......... 8,70M\n",
      "  5100K .......... .......... .......... .......... .......... 7,16M\n",
      "  5150K .......... ...                                          234M=1,0s\n",
      "\n",
      "2019-06-06 15:03:49 (4,90 MB/s) - “ingredients.tsv” salvo [5287404]\n",
      "\n"
     ]
    },
    {
     "data": {
      "text/plain": [
       "\u001b[32mimport \u001b[39m\u001b[36msys.process._\n",
       "\n",
       "\u001b[39m\n",
       "\u001b[36mres0_1\u001b[39m: \u001b[32mInt\u001b[39m = \u001b[32m0\u001b[39m"
      ]
     },
     "execution_count": 1,
     "metadata": {},
     "output_type": "execute_result"
    }
   ],
   "source": [
    "import sys.process._\n",
    "\n",
    "\"wget -O ingredients.tsv https://drive.google.com/uc?export=download&id=1oTjCLXJZjciOmpweGsirlreu9zcrm6Py\"!"
   ]
  },
  {
   "cell_type": "markdown",
   "metadata": {},
   "source": [
    "## Processando o dataset\n",
    "\n",
    "Para simplificar o desafio (pois já há muita coisa difícil para se fazer) o dataset foi mapeado para TSV. As informações estão separadas por **tabulações** (caractere \\t). Processe-o e armazene-o da maneira que achar mais conveniente"
   ]
  },
  {
   "cell_type": "code",
   "execution_count": 3,
   "metadata": {},
   "outputs": [
    {
     "data": {
      "text/html": [
       "<div class=\"jp-RenderedText\">\n",
       "<pre><span class=\"ansi-green-fg\">import </span><span class=\"ansi-cyan-fg\">scala.io.Source\n",
       "</span>\n",
       "<span class=\"ansi-cyan-fg\">dataset_name</span>: <span class=\"ansi-green-fg\">String</span> = <span class=\"ansi-green-fg\">&quot;ingredients.tsv&quot;</span></pre>\n",
       "</div>"
      ],
      "text/plain": [
       "\u001b[32mimport \u001b[39m\u001b[36mscala.io.Source\n",
       "\u001b[39m\n",
       "\u001b[36mdataset_name\u001b[39m: \u001b[32mString\u001b[39m = \u001b[32m\"ingredients.tsv\"\u001b[39m"
      ]
     },
     "metadata": {},
     "output_type": "display_data"
    }
   ],
   "source": [
    "import scala.io.Source\n",
    "var dataset_name = \"ingredients.tsv\"\n",
    "/*print(Source.fromFile(dataset_name).getLines.take(5).toList.mkString(\"/n\")) */"
   ]
  },
  {
   "cell_type": "code",
   "execution_count": 4,
   "metadata": {
    "scrolled": true
   },
   "outputs": [
    {
     "data": {
      "text/plain": [
       "defined \u001b[32mclass\u001b[39m \u001b[36mDataset\u001b[39m\n",
       "\u001b[36mlines\u001b[39m: \u001b[32mIterator\u001b[39m[\u001b[32mString\u001b[39m] = \u001b[32mempty iterator\u001b[39m\n",
       "\u001b[36mamostras\u001b[39m: \u001b[32mList\u001b[39m[\u001b[32mDataset\u001b[39m] = \u001b[33mList\u001b[39m(\n",
       "  \u001b[33mDataset\u001b[39m(\n",
       "    \u001b[32m\"Simon Fischer\"\u001b[39m,\n",
       "    \u001b[32m\"Dried Prunes,Water,Corn Syrup,Sugar,Pectin.\"\u001b[39m,\n",
       "    \u001b[32m\"Grocery & Gourmet Food,Food,Grocery\"\u001b[39m,\n",
       "    \u001b[32m\"Simon Fischer Fruit Bttr Prune Lekvar\"\u001b[39m\n",
       "  ),\n",
       "  \u001b[33mDataset\u001b[39m(\n",
       "    \u001b[32m\"McCormick\"\u001b[39m,\n",
       "    \u001b[32m\"Salt,Sugar,Molasses (Refinery Syrup, Molasses, Caramel Color),Spices (Including Black Pepper),Garlic Onion,Tapioca Maltodextrin,Bacon Fat and Cooked Bacon (Cured with Water, Salt, Sodium Erythorbate, Sodium Nitrate),Silicon Dioxide (To Make Free Flowing),Autolyzed Yeast,Sunflower Oil,Corn Maltodextrin,Vinegar,Extractives of Paprika,and Natural Flavor (Including Smoke)\"\u001b[39m,\n",
       "    \u001b[32m\"Grocery & Gourmet Food,Food,Grocery\"\u001b[39m,\n",
       "    \u001b[32m\"McCORMICK GRILL MATES MOLASSES BACON SEASONING 1 x 77g JAR AMERICAN IMPORT\"\u001b[39m\n",
       "  ),\n",
       "  \u001b[33mDataset\u001b[39m(\n",
       "    \u001b[32m\"Jolly Time\"\u001b[39m,\n",
       "    \u001b[32m\"Salt, Yellow 5 Lake, Tricalcium Phosphate And Artificial Butter Flavor\"\u001b[39m,\n",
       "    \u001b[32m\"Grocery & Gourmet Food,Grocery\"\u001b[39m,\n",
       "    \u001b[32m\"Jolly Time Popcorn\"\u001b[39m\n",
       "  ),\n",
       "  \u001b[33mDataset\u001b[39m(\n",
       "    \u001b[32m\"Ziyad\"\u001b[39m,\n",
       "    \u001b[32m\"Mechanically hulled seasame seeds.Allergy Information: Packed in a facility that processes wheat, flour, peanuts and tree nuts.,Mechanically hulled seasame seeds.Allergy Information: Packed in a facility that processes wheat,flour,peanuts and tree nuts.\"\u001b[39m,\n",
       "    \u001b[32m\"Grocery & Gourmet Food,grocery\"\u001b[39m,\n",
       "    \u001b[32m\"Ziyad Tahini Sesame Sauce\"\u001b[39m\n",
       "  ),\n",
       "  \u001b[33mDataset\u001b[39m(\n",
       "    \u001b[32m\"Fla-Vor-Ice\"\u001b[39m,\n",
       "    \u001b[32m\"FALSE\"\u001b[39m,\n",
       "    \u001b[32m\"Grocery & Gourmet Food,grocery\"\u001b[39m,\n",
       "    \u001b[32m\"Fla-Vor-Ice Plus Giant Pops\"\u001b[39m\n",
       "  )\n",
       ")\n",
       "\u001b[36mamostrasAgrupadas\u001b[39m: \u001b[32mMap\u001b[39m[\u001b[32mString\u001b[39m, \u001b[32mList\u001b[39m[\u001b[32mDataset\u001b[39m]] = \u001b[33mMap\u001b[39m(\n",
       "  \u001b[32m\"Simon Fischer\"\u001b[39m -> \u001b[33mList\u001b[39m(\n",
       "    \u001b[33mDataset\u001b[39m(\n",
       "      \u001b[32m\"Simon Fischer\"\u001b[39m,\n",
       "      \u001b[32m\"Dried Prunes,Water,Corn Syrup,Sugar,Pectin.\"\u001b[39m,\n",
       "      \u001b[32m\"Grocery & Gourmet Food,Food,Grocery\"\u001b[39m,\n",
       "      \u001b[32m\"Simon Fischer Fruit Bttr Prune Lekvar\"\u001b[39m\n",
       "    )\n",
       "  ),\n",
       "  \u001b[32m\"Jolly Time\"\u001b[39m -> \u001b[33mList\u001b[39m(\n",
       "    \u001b[33mDataset\u001b[39m(\n",
       "      \u001b[32m\"Jolly Time\"\u001b[39m,\n",
       "      \u001b[32m\"Salt, Yellow 5 Lake, Tricalcium Phosphate And Artificial Butter Flavor\"\u001b[39m,\n",
       "      \u001b[32m\"Grocery & Gourmet Food,Grocery\"\u001b[39m,\n",
       "      \u001b[32m\"Jolly Time Popcorn\"\u001b[39m\n",
       "    )\n",
       "  ),\n",
       "  \u001b[32m\"Ziyad\"\u001b[39m -> \u001b[33mList\u001b[39m(\n",
       "    \u001b[33mDataset\u001b[39m(\n",
       "      \u001b[32m\"Ziyad\"\u001b[39m,\n",
       "      \u001b[32m\"Mechanically hulled seasame seeds.Allergy Information: Packed in a facility that processes wheat, flour, peanuts and tree nuts.,Mechanically hulled seasame seeds.Allergy Information: Packed in a facility that processes wheat,flour,peanuts and tree nuts.\"\u001b[39m,\n",
       "      \u001b[32m\"Grocery & Gourmet Food,grocery\"\u001b[39m,\n",
       "      \u001b[32m\"Ziyad Tahini Sesame Sauce\"\u001b[39m\n",
       "    )\n",
       "  ),\n",
       "  \u001b[32m\"Fla-Vor-Ice\"\u001b[39m -> \u001b[33mList\u001b[39m(\n",
       "    \u001b[33mDataset\u001b[39m(\n",
       "      \u001b[32m\"Fla-Vor-Ice\"\u001b[39m,\n",
       "      \u001b[32m\"FALSE\"\u001b[39m,\n",
       "      \u001b[32m\"Grocery & Gourmet Food,grocery\"\u001b[39m,\n",
       "      \u001b[32m\"Fla-Vor-Ice Plus Giant Pops\"\u001b[39m\n",
       "    )\n",
       "  ),\n",
       "  \u001b[32m\"McCormick\"\u001b[39m -> \u001b[33mList\u001b[39m(\n",
       "    \u001b[33mDataset\u001b[39m(\n",
       "      \u001b[32m\"McCormick\"\u001b[39m,\n",
       "..."
      ]
     },
     "execution_count": 4,
     "metadata": {},
     "output_type": "execute_result"
    }
   ],
   "source": [
    "case class Dataset(brand: String, ingredients: String, categories: String, name: String)\n",
    "val lines = Source.fromFile(dataset_name).getLines.drop(1).take(5)\n",
    "\n",
    "val amostras = lines\n",
    "                    .map(_.split(\"\\t\"))\n",
    "                    //.filter(_.length == 8)\n",
    "                    .map(l => Dataset(l(2), l(8), l(3), l(11)))\n",
    "                    .toList\n",
    "\n",
    "//agrupando as amostras pela classe\n",
    "val amostrasAgrupadas = amostras\n",
    "    .groupBy(_.brand)"
   ]
  },
  {
   "cell_type": "markdown",
   "metadata": {},
   "source": [
    "## Demandas\n",
    "---"
   ]
  },
  {
   "cell_type": "markdown",
   "metadata": {},
   "source": [
    "### 1 - Quantas e quais as marcas de produtos contidas no dataset?"
   ]
  },
  {
   "cell_type": "code",
   "execution_count": 5,
   "metadata": {},
   "outputs": [
    {
     "name": "stdout",
     "output_type": "stream",
     "text": [
      "Quantidade de amostras: 5\n",
      "Simon Fischer\n",
      "Jolly Time\n",
      "Ziyad\n",
      "Fla-Vor-Ice\n",
      "McCormick\n"
     ]
    }
   ],
   "source": [
    "println(s\"Quantidade de amostras: \" + amostrasAgrupadas.size)\n",
    "for((c,amostras) <- amostrasAgrupadas){\n",
    "    println(c)\n",
    "}"
   ]
  },
  {
   "cell_type": "markdown",
   "metadata": {},
   "source": [
    "### 2 - Quais as marcas que aparecem mais no dataset? Quais aparecem menos?"
   ]
  },
  {
   "cell_type": "code",
   "execution_count": 6,
   "metadata": {
    "scrolled": true
   },
   "outputs": [
    {
     "name": "stdout",
     "output_type": "stream",
     "text": [
      "Aparece mais: (Simon Fischer,1)\n",
      "Aparece menos: (Simon Fischer,1)\n"
     ]
    },
    {
     "data": {
      "text/plain": [
       "\u001b[36mamostrasAgrupadasTam\u001b[39m: \u001b[32mMap\u001b[39m[\u001b[32mString\u001b[39m, \u001b[32mInt\u001b[39m] = \u001b[33mMap\u001b[39m(\n",
       "  \u001b[32m\"Simon Fischer\"\u001b[39m -> \u001b[32m1\u001b[39m,\n",
       "  \u001b[32m\"Jolly Time\"\u001b[39m -> \u001b[32m1\u001b[39m,\n",
       "  \u001b[32m\"Ziyad\"\u001b[39m -> \u001b[32m1\u001b[39m,\n",
       "  \u001b[32m\"Fla-Vor-Ice\"\u001b[39m -> \u001b[32m1\u001b[39m,\n",
       "  \u001b[32m\"McCormick\"\u001b[39m -> \u001b[32m1\u001b[39m\n",
       ")"
      ]
     },
     "execution_count": 6,
     "metadata": {},
     "output_type": "execute_result"
    }
   ],
   "source": [
    "val amostrasAgrupadasTam = amostras\n",
    "    .groupBy(_.brand)\n",
    "    .mapValues(_.size)\n",
    "\n",
    "println(s\"Aparece mais: \" + amostrasAgrupadasTam.maxBy(_._2))\n",
    "println(s\"Aparece menos: \" + amostrasAgrupadasTam.minBy(_._2))"
   ]
  },
  {
   "cell_type": "markdown",
   "metadata": {},
   "source": [
    "### 3 - Compute a média e desvio padrão da frequência das marcas de produtos"
   ]
  },
  {
   "cell_type": "code",
   "execution_count": 7,
   "metadata": {},
   "outputs": [
    {
     "data": {
      "text/plain": [
       "\u001b[32mimport \u001b[39m\u001b[36mNumeric.Implicits._\n",
       "\n",
       "\u001b[39m\n",
       "defined \u001b[32mfunction\u001b[39m \u001b[36mmean\u001b[39m\n",
       "defined \u001b[32mfunction\u001b[39m \u001b[36mvariance\u001b[39m\n",
       "defined \u001b[32mfunction\u001b[39m \u001b[36mstdDev\u001b[39m"
      ]
     },
     "execution_count": 7,
     "metadata": {},
     "output_type": "execute_result"
    }
   ],
   "source": [
    "import Numeric.Implicits._\n",
    "\n",
    "def mean[T: Numeric](xs: Iterable[T]): Double = xs.sum.toDouble / xs.size\n",
    "\n",
    "def variance[T: Numeric](xs: Iterable[T]): Double = {\n",
    "  val avg = mean(xs)\n",
    "\n",
    "  xs.map(_.toDouble).map(a => math.pow(a - avg, 2)).sum / xs.size\n",
    "}\n",
    "\n",
    "def stdDev[T: Numeric](xs: Iterable[T]): Double = math.sqrt(variance(xs))"
   ]
  },
  {
   "cell_type": "code",
   "execution_count": 8,
   "metadata": {},
   "outputs": [
    {
     "name": "stdout",
     "output_type": "stream",
     "text": [
      "Média: 1.0\n",
      "Désvio padrão: 0.0\n"
     ]
    }
   ],
   "source": [
    "println( s\"Média: \" + mean(amostrasAgrupadasTam.values))\n",
    "println( s\"Désvio padrão: \" + stdDev(amostrasAgrupadasTam.values))"
   ]
  },
  {
   "cell_type": "markdown",
   "metadata": {},
   "source": [
    "### 4 - Quais os ingredientes que aparecem nos produtos? Mostre quantos são, os que mais aparecem e os que menos aparecem."
   ]
  },
  {
   "cell_type": "code",
   "execution_count": 14,
   "metadata": {
    "scrolled": true
   },
   "outputs": [
    {
     "data": {
      "text/html": [
       "<div class=\"jp-RenderedText\">\n",
       "<pre><span class=\"ansi-cyan-fg\">name_ingredients</span>: <span class=\"ansi-green-fg\">Map</span>[<span class=\"ansi-green-fg\">String</span>, <span class=\"ansi-green-fg\">List</span>[<span class=\"ansi-green-fg\">String</span>]] = <span class=\"ansi-yellow-fg\">Map</span>(\n",
       "  <span class=\"ansi-green-fg\">&quot;Simon Fischer Fruit Bttr Prune Lekvar&quot;</span> -&gt; <span class=\"ansi-yellow-fg\">List</span>(\n",
       "    <span class=\"ansi-green-fg\">&quot;Dried Prunes&quot;</span>,\n",
       "    <span class=\"ansi-green-fg\">&quot;Water&quot;</span>,\n",
       "    <span class=\"ansi-green-fg\">&quot;Corn Syrup&quot;</span>,\n",
       "    <span class=\"ansi-green-fg\">&quot;Sugar&quot;</span>,\n",
       "    <span class=\"ansi-green-fg\">&quot;Pectin.&quot;</span>\n",
       "  ),\n",
       "  <span class=\"ansi-green-fg\">&quot;McCORMICK GRILL MATES MOLASSES BACON SEASONING 1 x 77g JAR AMERICAN IMPORT&quot;</span> -&gt; <span class=\"ansi-yellow-fg\">List</span>(\n",
       "    <span class=\"ansi-green-fg\">&quot;Salt&quot;</span>,\n",
       "    <span class=\"ansi-green-fg\">&quot;Sugar&quot;</span>,\n",
       "    <span class=\"ansi-green-fg\">&quot;Molasses (Refinery Syrup&quot;</span>,\n",
       "    <span class=\"ansi-green-fg\">&quot; Molasses&quot;</span>,\n",
       "    <span class=\"ansi-green-fg\">&quot; Caramel Color)&quot;</span>,\n",
       "    <span class=\"ansi-green-fg\">&quot;Spices (Including Black Pepper)&quot;</span>,\n",
       "    <span class=\"ansi-green-fg\">&quot;Garlic Onion&quot;</span>,\n",
       "    <span class=\"ansi-green-fg\">&quot;Tapioca Maltodextrin&quot;</span>,\n",
       "    <span class=\"ansi-green-fg\">&quot;Bacon Fat and Cooked Bacon (Cured with Water&quot;</span>,\n",
       "    <span class=\"ansi-green-fg\">&quot; Salt&quot;</span>,\n",
       "    <span class=\"ansi-green-fg\">&quot; Sodium Erythorbate&quot;</span>,\n",
       "    <span class=\"ansi-green-fg\">&quot; Sodium Nitrate)&quot;</span>,\n",
       "    <span class=\"ansi-green-fg\">&quot;Silicon Dioxide (To Make Free Flowing)&quot;</span>,\n",
       "    <span class=\"ansi-green-fg\">&quot;Autolyzed Yeast&quot;</span>,\n",
       "    <span class=\"ansi-green-fg\">&quot;Sunflower Oil&quot;</span>,\n",
       "    <span class=\"ansi-green-fg\">&quot;Corn Maltodextrin&quot;</span>,\n",
       "    <span class=\"ansi-green-fg\">&quot;Vinegar&quot;</span>,\n",
       "    <span class=\"ansi-green-fg\">&quot;Extractives of Paprika&quot;</span>,\n",
       "    <span class=\"ansi-green-fg\">&quot;and Natural Flavor (Including Smoke)&quot;</span>\n",
       "  ),\n",
       "  <span class=\"ansi-green-fg\">&quot;Fla-Vor-Ice Plus Giant Pops&quot;</span> -&gt; <span class=\"ansi-yellow-fg\">List</span>(<span class=\"ansi-green-fg\">&quot;FALSE&quot;</span>),\n",
       "  <span class=\"ansi-green-fg\">&quot;Ziyad Tahini Sesame Sauce&quot;</span> -&gt; <span class=\"ansi-yellow-fg\">List</span>(\n",
       "    <span class=\"ansi-green-fg\">&quot;Mechanically hulled seasame seeds.Allergy Information: Packed in a facility that processes wheat&quot;</span>,\n",
       "    <span class=\"ansi-green-fg\">&quot; flour&quot;</span>,\n",
       "    <span class=\"ansi-green-fg\">&quot; peanuts and tree nuts.&quot;</span>,\n",
       "    <span class=\"ansi-green-fg\">&quot;Mechanically hulled seasame seeds.Allergy Information: Packed in a facility that processes wheat&quot;</span>,\n",
       "    <span class=\"ansi-green-fg\">&quot;flour&quot;</span>,\n",
       "...</pre>\n",
       "</div>"
      ],
      "text/plain": [
       "\u001b[36mname_ingredients\u001b[39m: \u001b[32mMap\u001b[39m[\u001b[32mString\u001b[39m, \u001b[32mList\u001b[39m[\u001b[32mString\u001b[39m]] = \u001b[33mMap\u001b[39m(\n",
       "  \u001b[32m\"Simon Fischer Fruit Bttr Prune Lekvar\"\u001b[39m -> \u001b[33mList\u001b[39m(\n",
       "    \u001b[32m\"Dried Prunes\"\u001b[39m,\n",
       "    \u001b[32m\"Water\"\u001b[39m,\n",
       "    \u001b[32m\"Corn Syrup\"\u001b[39m,\n",
       "    \u001b[32m\"Sugar\"\u001b[39m,\n",
       "    \u001b[32m\"Pectin.\"\u001b[39m\n",
       "  ),\n",
       "  \u001b[32m\"McCORMICK GRILL MATES MOLASSES BACON SEASONING 1 x 77g JAR AMERICAN IMPORT\"\u001b[39m -> \u001b[33mList\u001b[39m(\n",
       "    \u001b[32m\"Salt\"\u001b[39m,\n",
       "    \u001b[32m\"Sugar\"\u001b[39m,\n",
       "    \u001b[32m\"Molasses (Refinery Syrup\"\u001b[39m,\n",
       "    \u001b[32m\" Molasses\"\u001b[39m,\n",
       "    \u001b[32m\" Caramel Color)\"\u001b[39m,\n",
       "    \u001b[32m\"Spices (Including Black Pepper)\"\u001b[39m,\n",
       "    \u001b[32m\"Garlic Onion\"\u001b[39m,\n",
       "    \u001b[32m\"Tapioca Maltodextrin\"\u001b[39m,\n",
       "    \u001b[32m\"Bacon Fat and Cooked Bacon (Cured with Water\"\u001b[39m,\n",
       "    \u001b[32m\" Salt\"\u001b[39m,\n",
       "    \u001b[32m\" Sodium Erythorbate\"\u001b[39m,\n",
       "    \u001b[32m\" Sodium Nitrate)\"\u001b[39m,\n",
       "    \u001b[32m\"Silicon Dioxide (To Make Free Flowing)\"\u001b[39m,\n",
       "    \u001b[32m\"Autolyzed Yeast\"\u001b[39m,\n",
       "    \u001b[32m\"Sunflower Oil\"\u001b[39m,\n",
       "    \u001b[32m\"Corn Maltodextrin\"\u001b[39m,\n",
       "    \u001b[32m\"Vinegar\"\u001b[39m,\n",
       "    \u001b[32m\"Extractives of Paprika\"\u001b[39m,\n",
       "    \u001b[32m\"and Natural Flavor (Including Smoke)\"\u001b[39m\n",
       "  ),\n",
       "  \u001b[32m\"Fla-Vor-Ice Plus Giant Pops\"\u001b[39m -> \u001b[33mList\u001b[39m(\u001b[32m\"FALSE\"\u001b[39m),\n",
       "  \u001b[32m\"Ziyad Tahini Sesame Sauce\"\u001b[39m -> \u001b[33mList\u001b[39m(\n",
       "    \u001b[32m\"Mechanically hulled seasame seeds.Allergy Information: Packed in a facility that processes wheat\"\u001b[39m,\n",
       "    \u001b[32m\" flour\"\u001b[39m,\n",
       "    \u001b[32m\" peanuts and tree nuts.\"\u001b[39m,\n",
       "    \u001b[32m\"Mechanically hulled seasame seeds.Allergy Information: Packed in a facility that processes wheat\"\u001b[39m,\n",
       "    \u001b[32m\"flour\"\u001b[39m,\n",
       "..."
      ]
     },
     "metadata": {},
     "output_type": "display_data"
    }
   ],
   "source": [
    "var name_ingredients = Map.empty[String,List[String]]\n",
    "\n",
    "\n",
    "for( i <- amostras){\n",
    "    i match {\n",
    "        case Dataset(_ , ingredient, _ , name) => name_ingredients = name_ingredients + (name -> (ingredient.split(\",\").toList))\n",
    "    }\n",
    "}\n",
    "//mapBrandIngredient"
   ]
  },
  {
   "cell_type": "code",
   "execution_count": null,
   "metadata": {},
   "outputs": [],
   "source": []
  },
  {
   "cell_type": "markdown",
   "metadata": {},
   "source": [
    "### 5 - Compute a média e desvio padrão da frequência dos ingredientes"
   ]
  },
  {
   "cell_type": "code",
   "execution_count": null,
   "metadata": {},
   "outputs": [],
   "source": []
  },
  {
   "cell_type": "markdown",
   "metadata": {},
   "source": [
    "### 6 - Quais os ingredientes mais usados por cada marca? E os menos usados?"
   ]
  },
  {
   "cell_type": "code",
   "execution_count": null,
   "metadata": {},
   "outputs": [],
   "source": []
  },
  {
   "cell_type": "markdown",
   "metadata": {},
   "source": [
    "### 7 - Compute alguma informação não demandada pelas questões anteriores e justifique o porquê que tal informação é útil"
   ]
  },
  {
   "cell_type": "code",
   "execution_count": null,
   "metadata": {},
   "outputs": [],
   "source": []
  }
 ],
 "metadata": {
  "kernelspec": {
   "display_name": "Scala (sources)",
   "language": "scala",
   "name": "scala"
  },
  "language_info": {
   "codemirror_mode": "text/x-scala",
   "file_extension": ".scala",
   "mimetype": "text/x-scala",
   "name": "scala",
   "nbconvert_exporter": "script",
   "version": "2.12.8"
  }
 },
 "nbformat": 4,
 "nbformat_minor": 2
}
