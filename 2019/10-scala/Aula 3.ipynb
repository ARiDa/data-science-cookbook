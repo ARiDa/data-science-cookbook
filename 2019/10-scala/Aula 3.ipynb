{
 "cells": [
  {
   "cell_type": "markdown",
   "metadata": {},
   "source": [
    "# Aula 3\n",
    "---\n",
    "\n",
    "Essa aula é um desafio para por em prova seus conhecimentos em Scala! Para resolvê-lo, você deverá\n",
    "utilizar o que foi apresentado nas últimas aulas E consultar materiais complementares(stack overflow) para aprender ainda mais em um cenário prático!"
   ]
  },
  {
   "cell_type": "markdown",
   "metadata": {},
   "source": [
    "## Baixando o dataset\n",
    "\n",
    "O dataset desta atividade foi tirado do Kaggle e chama-se [Food Ingredient List](https://www.kaggle.com/datafiniti/food-ingredient-lists/version/1#). Ele contém os ingredientes presentes em 10000 produtos encontrados em supermercados. Para mais informações, visite a [página do dataset](https://www.kaggle.com/datafiniti/food-ingredient-lists/version/1#).\n",
    "\n",
    "O código abaixo faz o download do dataset para o diretório atual deste notebook."
   ]
  },
  {
   "cell_type": "code",
   "execution_count": 1,
   "metadata": {
    "collapsed": true
   },
   "outputs": [
    {
     "name": "stderr",
     "output_type": "stream",
     "text": [
      "--2019-06-11 15:08:20--  https://drive.google.com/uc?export=download&id=1oTjCLXJZjciOmpweGsirlreu9zcrm6Py\n",
      "Resolvendo drive.google.com (drive.google.com)... 2800:3f0:4001:810::200e, 172.217.29.46\n",
      "Conectando-se a drive.google.com (drive.google.com)|2800:3f0:4001:810::200e|:443... conectado.\n",
      "A requisição HTTP foi enviada, aguardando resposta... 302 Moved Temporarily\n",
      "Localização: https://doc-0k-54-docs.googleusercontent.com/docs/securesc/ha0ro937gcuc7l7deffksulhg5h7mbp1/cu531e381gmjn1v3f4r3lbo129l8tson/1560276000000/11950412691737885275/*/1oTjCLXJZjciOmpweGsirlreu9zcrm6Py?e=download [redirecionando]\n",
      "Aviso: Não há suporte para caracteres coringa no HTTP.\n",
      "--2019-06-11 15:08:22--  https://doc-0k-54-docs.googleusercontent.com/docs/securesc/ha0ro937gcuc7l7deffksulhg5h7mbp1/cu531e381gmjn1v3f4r3lbo129l8tson/1560276000000/11950412691737885275/*/1oTjCLXJZjciOmpweGsirlreu9zcrm6Py?e=download\n",
      "Resolvendo doc-0k-54-docs.googleusercontent.com (doc-0k-54-docs.googleusercontent.com)... 2800:3f0:4004:808::2001, 172.217.28.1\n",
      "Conectando-se a doc-0k-54-docs.googleusercontent.com (doc-0k-54-docs.googleusercontent.com)|2800:3f0:4004:808::2001|:443... conectado.\n",
      "A requisição HTTP foi enviada, aguardando resposta... 200 OK\n",
      "Tamanho: não especificada [text/tab-separated-values]\n",
      "Salvando em: “ingredients.tsv”\n",
      "\n",
      "     0K .......... .......... .......... .......... ..........  342K\n",
      "    50K .......... .......... .......... .......... ..........  363K\n",
      "   100K .......... .......... .......... .......... .......... 1,20M\n",
      "   150K .......... .......... .......... .......... ..........  735K\n",
      "   200K .......... .......... .......... .......... .......... 2,34M\n",
      "   250K .......... .......... .......... .......... .......... 2,76M\n",
      "   300K .......... .......... .......... .......... .......... 3,22M\n",
      "   350K .......... .......... .......... .......... ..........  879K\n",
      "   400K .......... .......... .......... .......... .......... 4,08M\n",
      "   450K .......... .......... .......... .......... .......... 4,59M\n",
      "   500K .......... .......... .......... .......... .......... 4,86M\n",
      "   550K .......... .......... .......... .......... .......... 3,98M\n",
      "   600K .......... .......... .......... .......... .......... 8,21M\n",
      "   650K .......... .......... .......... .......... .......... 6,51M\n",
      "   700K .......... .......... .......... .......... .......... 1,07M\n",
      "   750K .......... .......... .......... .......... .......... 7,06M\n",
      "   800K .......... .......... .......... .......... .......... 6,73M\n",
      "   850K .......... .......... .......... .......... .......... 8,18M\n",
      "   900K .......... .......... .......... .......... .......... 9,76M\n",
      "   950K .......... .......... .......... .......... .......... 6,09M\n",
      "  1000K .......... .......... .......... .......... .......... 12,8M\n",
      "  1050K .......... .......... .......... .......... .......... 12,3M\n",
      "  1100K .......... .......... .......... .......... .......... 6,63M\n",
      "  1150K .......... .......... .......... .......... .......... 11,7M\n",
      "  1200K .......... .......... .......... .......... .......... 11,1M\n",
      "  1250K .......... .......... .......... .......... .......... 11,5M\n",
      "  1300K .......... .......... .......... .......... .......... 11,6M\n",
      "  1350K .......... .......... .......... .......... .......... 13,3M\n",
      "  1400K .......... .......... .......... .......... .......... 13,4M\n",
      "  1450K .......... .......... .......... .......... .......... 12,2M\n",
      "  1500K .......... .......... .......... .......... .......... 1,16M\n",
      "  1550K .......... .......... .......... .......... .......... 15,6M\n",
      "  1600K .......... .......... .......... .......... .......... 17,8M\n",
      "  1650K .......... .......... .......... .......... .......... 17,3M\n",
      "  1700K .......... .......... .......... .......... .......... 10,9M\n",
      "  1750K .......... .......... .......... .......... .......... 19,5M\n",
      "  1800K .......... .......... .......... .......... .......... 20,2M\n",
      "  1850K .......... .......... .......... .......... .......... 15,2M\n",
      "  1900K .......... .......... .......... .......... .......... 11,6M\n",
      "  1950K .......... .......... .......... .......... .......... 19,0M\n",
      "  2000K .......... .......... .......... .......... .......... 16,6M\n",
      "  2050K .......... .......... .......... .......... .......... 20,2M\n",
      "  2100K .......... .......... .......... .......... .......... 20,0M\n",
      "  2150K .......... .......... .......... .......... .......... 20,1M\n",
      "  2200K .......... .......... .......... .......... .......... 18,2M\n",
      "  2250K .......... .......... .......... .......... .......... 24,4M\n",
      "  2300K .......... .......... .......... .......... .......... 5,92M\n",
      "  2350K .......... .......... .......... .......... ..........  224M\n",
      "  2400K .......... .......... .......... .......... ..........  301M\n",
      "  2450K .......... .......... .......... .......... .......... 27,7M\n",
      "  2500K .......... .......... .......... .......... .......... 35,6M\n",
      "  2550K .......... .......... .......... .......... .......... 14,2M\n",
      "  2600K .......... .......... .......... .......... .......... 40,5M\n",
      "  2650K .......... .......... .......... .......... .......... 19,3M\n",
      "  2700K .......... .......... .......... .......... .......... 20,8M\n",
      "  2750K .......... .......... .......... .......... .......... 27,2M\n",
      "  2800K .......... .......... .......... .......... .......... 17,6M\n",
      "  2850K .......... .......... .......... .......... .......... 38,5M\n",
      "  2900K .......... .......... .......... .......... .......... 31,1M\n",
      "  2950K .......... .......... .......... .......... .......... 24,7M\n",
      "  3000K .......... .......... .......... .......... .......... 1,29M\n",
      "  3050K .......... .......... .......... .......... .......... 22,3M\n",
      "  3100K .......... .......... .......... .......... .......... 26,0M\n",
      "  3150K .......... .......... .......... .......... .......... 17,5M\n",
      "  3200K .......... .......... .......... .......... .......... 63,8M\n",
      "  3250K .......... .......... .......... .......... .......... 22,5M\n",
      "  3300K .......... .......... .......... .......... .......... 33,5M\n",
      "  3350K .......... .......... .......... .......... .......... 33,3M\n",
      "  3400K .......... .......... .......... .......... .......... 25,6M\n",
      "  3450K .......... .......... .......... .......... .......... 33,3M\n",
      "  3500K .......... .......... .......... .......... .......... 18,7M\n",
      "  3550K .......... .......... .......... .......... .......... 38,6M\n",
      "  3600K .......... .......... .......... .......... .......... 46,8M\n",
      "  3650K .......... .......... .......... .......... .......... 24,8M\n",
      "  3700K .......... .......... .......... .......... .......... 39,8M\n",
      "  3750K .......... .......... .......... .......... .......... 31,0M\n",
      "  3800K .......... .......... .......... .......... .......... 36,4M\n",
      "  3850K .......... .......... .......... .......... .......... 37,0M\n",
      "  3900K .......... .......... .......... .......... .......... 38,1M\n",
      "  3950K .......... .......... .......... .......... .......... 23,7M\n",
      "  4000K .......... .......... .......... .......... .......... 38,2M\n",
      "  4050K .......... .......... .......... .......... .......... 31,8M\n",
      "  4100K .......... .......... .......... .......... .......... 43,1M\n",
      "  4150K .......... .......... .......... .......... .......... 52,8M\n",
      "  4200K .......... .......... .......... .......... .......... 33,4M\n",
      "  4250K .......... .......... .......... .......... .......... 35,1M\n",
      "  4300K .......... .......... .......... .......... .......... 28,6M\n",
      "  4350K .......... .......... .......... .......... .......... 43,5M\n",
      "  4400K .......... .......... .......... .......... .......... 29,8M\n",
      "  4450K .......... .......... .......... .......... .......... 45,9M\n",
      "  4500K .......... .......... .......... .......... .......... 33,8M\n",
      "  4550K .......... .......... .......... .......... .......... 57,4M\n",
      "  4600K .......... .......... .......... .......... .......... 41,5M\n",
      "  4650K .......... .......... .......... .......... .......... 27,9M\n",
      "  4700K .......... .......... .......... .......... .......... 47,7M\n",
      "  4750K .......... .......... .......... .......... .......... 28,1M\n",
      "  4800K .......... .......... .......... .......... .......... 58,9M\n",
      "  4850K .......... .......... .......... .......... .......... 46,7M\n",
      "  4900K .......... .......... .......... .......... .......... 31,8M\n",
      "  4950K .......... .......... .......... .......... ..........  155M\n",
      "  5000K .......... .......... .......... .......... .......... 33,2M\n",
      "  5050K .......... .......... .......... .......... .......... 53,7M\n",
      "  5100K .......... .......... .......... .......... .......... 28,7M\n",
      "  5150K .......... ...                                          398M=0,9s\n",
      "\n",
      "2019-06-11 15:08:23 (5,61 MB/s) - “ingredients.tsv” salvo [5287404]\n",
      "\n"
     ]
    },
    {
     "data": {
      "text/plain": [
       "\u001b[32mimport \u001b[39m\u001b[36msys.process._\n",
       "\n",
       "\u001b[39m\n",
       "\u001b[36mres0_1\u001b[39m: \u001b[32mInt\u001b[39m = \u001b[32m0\u001b[39m"
      ]
     },
     "execution_count": 1,
     "metadata": {},
     "output_type": "execute_result"
    }
   ],
   "source": [
    "import sys.process._\n",
    "\n",
    "\"wget -O ingredients.tsv https://drive.google.com/uc?export=download&id=1oTjCLXJZjciOmpweGsirlreu9zcrm6Py\"!"
   ]
  },
  {
   "cell_type": "markdown",
   "metadata": {},
   "source": [
    "## Processando o dataset\n",
    "\n",
    "Para simplificar o desafio (pois já há muita coisa difícil para se fazer) o dataset foi mapeado para TSV. As informações estão separadas por **tabulações** (caractere \\t). Processe-o e armazene-o da maneira que achar mais conveniente"
   ]
  },
  {
   "cell_type": "code",
   "execution_count": 2,
   "metadata": {},
   "outputs": [
    {
     "data": {
      "text/html": [
       "<div class=\"jp-RenderedText\">\n",
       "<pre><span class=\"ansi-green-fg\">import </span><span class=\"ansi-cyan-fg\">scala.io.Source\n",
       "</span>\n",
       "<span class=\"ansi-cyan-fg\">dataset_name</span>: <span class=\"ansi-green-fg\">String</span> = <span class=\"ansi-green-fg\">&quot;ingredients.tsv&quot;</span></pre>\n",
       "</div>"
      ],
      "text/plain": [
       "\u001b[32mimport \u001b[39m\u001b[36mscala.io.Source\n",
       "\u001b[39m\n",
       "\u001b[36mdataset_name\u001b[39m: \u001b[32mString\u001b[39m = \u001b[32m\"ingredients.tsv\"\u001b[39m"
      ]
     },
     "metadata": {},
     "output_type": "display_data"
    }
   ],
   "source": [
    "import scala.io.Source\n",
    "var dataset_name = \"ingredients.tsv\"\n",
    "/*print(Source.fromFile(dataset_name).getLines.take(5).toList.mkString(\"/n\")) */"
   ]
  },
  {
   "cell_type": "code",
   "execution_count": 3,
   "metadata": {
    "scrolled": true
   },
   "outputs": [
    {
     "data": {
      "text/plain": [
       "defined \u001b[32mclass\u001b[39m \u001b[36mDataset\u001b[39m\n",
       "\u001b[36mlines\u001b[39m: \u001b[32mIterator\u001b[39m[\u001b[32mString\u001b[39m] = \u001b[32mempty iterator\u001b[39m\n",
       "\u001b[36mamostras\u001b[39m: \u001b[32mList\u001b[39m[\u001b[32mDataset\u001b[39m] = \u001b[33mList\u001b[39m(\n",
       "  \u001b[33mDataset\u001b[39m(\n",
       "    \u001b[32m\"Simon Fischer\"\u001b[39m,\n",
       "    \u001b[32m\"Dried Prunes,Water,Corn Syrup,Sugar,Pectin.\"\u001b[39m,\n",
       "    \u001b[32m\"Grocery & Gourmet Food,Food,Grocery\"\u001b[39m,\n",
       "    \u001b[32m\"Simon Fischer Fruit Bttr Prune Lekvar\"\u001b[39m\n",
       "  ),\n",
       "  \u001b[33mDataset\u001b[39m(\n",
       "    \u001b[32m\"McCormick\"\u001b[39m,\n",
       "    \u001b[32m\"Salt,Sugar,Molasses (Refinery Syrup, Molasses, Caramel Color),Spices (Including Black Pepper),Garlic Onion,Tapioca Maltodextrin,Bacon Fat and Cooked Bacon (Cured with Water, Salt, Sodium Erythorbate, Sodium Nitrate),Silicon Dioxide (To Make Free Flowing),Autolyzed Yeast,Sunflower Oil,Corn Maltodextrin,Vinegar,Extractives of Paprika,and Natural Flavor (Including Smoke)\"\u001b[39m,\n",
       "    \u001b[32m\"Grocery & Gourmet Food,Food,Grocery\"\u001b[39m,\n",
       "    \u001b[32m\"McCORMICK GRILL MATES MOLASSES BACON SEASONING 1 x 77g JAR AMERICAN IMPORT\"\u001b[39m\n",
       "  ),\n",
       "  \u001b[33mDataset\u001b[39m(\n",
       "    \u001b[32m\"Jolly Time\"\u001b[39m,\n",
       "    \u001b[32m\"Salt, Yellow 5 Lake, Tricalcium Phosphate And Artificial Butter Flavor\"\u001b[39m,\n",
       "    \u001b[32m\"Grocery & Gourmet Food,Grocery\"\u001b[39m,\n",
       "    \u001b[32m\"Jolly Time Popcorn\"\u001b[39m\n",
       "  ),\n",
       "  \u001b[33mDataset\u001b[39m(\n",
       "    \u001b[32m\"Ziyad\"\u001b[39m,\n",
       "    \u001b[32m\"Mechanically hulled seasame seeds.Allergy Information: Packed in a facility that processes wheat, flour, peanuts and tree nuts.,Mechanically hulled seasame seeds.Allergy Information: Packed in a facility that processes wheat,flour,peanuts and tree nuts.\"\u001b[39m,\n",
       "    \u001b[32m\"Grocery & Gourmet Food,grocery\"\u001b[39m,\n",
       "    \u001b[32m\"Ziyad Tahini Sesame Sauce\"\u001b[39m\n",
       "  ),\n",
       "  \u001b[33mDataset\u001b[39m(\n",
       "    \u001b[32m\"Fla-Vor-Ice\"\u001b[39m,\n",
       "    \u001b[32m\"FALSE\"\u001b[39m,\n",
       "    \u001b[32m\"Grocery & Gourmet Food,grocery\"\u001b[39m,\n",
       "    \u001b[32m\"Fla-Vor-Ice Plus Giant Pops\"\u001b[39m\n",
       "  )\n",
       ")\n",
       "\u001b[36mamostrasAgrupadas\u001b[39m: \u001b[32mMap\u001b[39m[\u001b[32mString\u001b[39m, \u001b[32mList\u001b[39m[\u001b[32mDataset\u001b[39m]] = \u001b[33mMap\u001b[39m(\n",
       "  \u001b[32m\"Simon Fischer\"\u001b[39m -> \u001b[33mList\u001b[39m(\n",
       "    \u001b[33mDataset\u001b[39m(\n",
       "      \u001b[32m\"Simon Fischer\"\u001b[39m,\n",
       "      \u001b[32m\"Dried Prunes,Water,Corn Syrup,Sugar,Pectin.\"\u001b[39m,\n",
       "      \u001b[32m\"Grocery & Gourmet Food,Food,Grocery\"\u001b[39m,\n",
       "      \u001b[32m\"Simon Fischer Fruit Bttr Prune Lekvar\"\u001b[39m\n",
       "    )\n",
       "  ),\n",
       "  \u001b[32m\"Jolly Time\"\u001b[39m -> \u001b[33mList\u001b[39m(\n",
       "    \u001b[33mDataset\u001b[39m(\n",
       "      \u001b[32m\"Jolly Time\"\u001b[39m,\n",
       "      \u001b[32m\"Salt, Yellow 5 Lake, Tricalcium Phosphate And Artificial Butter Flavor\"\u001b[39m,\n",
       "      \u001b[32m\"Grocery & Gourmet Food,Grocery\"\u001b[39m,\n",
       "      \u001b[32m\"Jolly Time Popcorn\"\u001b[39m\n",
       "    )\n",
       "  ),\n",
       "  \u001b[32m\"Ziyad\"\u001b[39m -> \u001b[33mList\u001b[39m(\n",
       "    \u001b[33mDataset\u001b[39m(\n",
       "      \u001b[32m\"Ziyad\"\u001b[39m,\n",
       "      \u001b[32m\"Mechanically hulled seasame seeds.Allergy Information: Packed in a facility that processes wheat, flour, peanuts and tree nuts.,Mechanically hulled seasame seeds.Allergy Information: Packed in a facility that processes wheat,flour,peanuts and tree nuts.\"\u001b[39m,\n",
       "      \u001b[32m\"Grocery & Gourmet Food,grocery\"\u001b[39m,\n",
       "      \u001b[32m\"Ziyad Tahini Sesame Sauce\"\u001b[39m\n",
       "    )\n",
       "  ),\n",
       "  \u001b[32m\"Fla-Vor-Ice\"\u001b[39m -> \u001b[33mList\u001b[39m(\n",
       "    \u001b[33mDataset\u001b[39m(\n",
       "      \u001b[32m\"Fla-Vor-Ice\"\u001b[39m,\n",
       "      \u001b[32m\"FALSE\"\u001b[39m,\n",
       "      \u001b[32m\"Grocery & Gourmet Food,grocery\"\u001b[39m,\n",
       "      \u001b[32m\"Fla-Vor-Ice Plus Giant Pops\"\u001b[39m\n",
       "    )\n",
       "  ),\n",
       "  \u001b[32m\"McCormick\"\u001b[39m -> \u001b[33mList\u001b[39m(\n",
       "    \u001b[33mDataset\u001b[39m(\n",
       "      \u001b[32m\"McCormick\"\u001b[39m,\n",
       "..."
      ]
     },
     "execution_count": 3,
     "metadata": {},
     "output_type": "execute_result"
    }
   ],
   "source": [
    "case class Dataset(brand: String, ingredients: String, categories: String, name: String)\n",
    "val lines = Source.fromFile(dataset_name).getLines.drop(1).take(5)\n",
    "\n",
    "val amostras = lines\n",
    "                    .map(_.split(\"\\t\"))\n",
    "                    //.filter(_.length == 8)\n",
    "                    .map(l => Dataset(l(2), l(8), l(3), l(11)))\n",
    "                    .toList\n",
    "\n",
    "//agrupando as amostras pela classe\n",
    "val amostrasAgrupadas = amostras\n",
    "    .groupBy(_.brand)"
   ]
  },
  {
   "cell_type": "markdown",
   "metadata": {},
   "source": [
    "## Demandas\n",
    "---"
   ]
  },
  {
   "cell_type": "markdown",
   "metadata": {},
   "source": [
    "### 1 - Quantas e quais as marcas de produtos contidas no dataset?"
   ]
  },
  {
   "cell_type": "code",
   "execution_count": 4,
   "metadata": {
    "scrolled": true
   },
   "outputs": [
    {
     "name": "stdout",
     "output_type": "stream",
     "text": [
      "Quantidade de amostras: 5\n",
      "Simon Fischer\n",
      "Jolly Time\n",
      "Ziyad\n",
      "Fla-Vor-Ice\n",
      "McCormick\n"
     ]
    }
   ],
   "source": [
    "println(s\"Quantidade de amostras: \" + amostrasAgrupadas.size)\n",
    "for((c,amostras) <- amostrasAgrupadas){\n",
    "    println(c)\n",
    "}"
   ]
  },
  {
   "cell_type": "markdown",
   "metadata": {},
   "source": [
    "### 2 - Quais as marcas que aparecem mais no dataset? Quais aparecem menos?"
   ]
  },
  {
   "cell_type": "code",
   "execution_count": 5,
   "metadata": {
    "scrolled": true
   },
   "outputs": [
    {
     "name": "stdout",
     "output_type": "stream",
     "text": [
      "Aparece mais: (Simon Fischer,1)\n",
      "Aparece menos: (Simon Fischer,1)\n"
     ]
    },
    {
     "data": {
      "text/plain": [
       "\u001b[36mamostrasAgrupadasTam\u001b[39m: \u001b[32mMap\u001b[39m[\u001b[32mString\u001b[39m, \u001b[32mInt\u001b[39m] = \u001b[33mMap\u001b[39m(\n",
       "  \u001b[32m\"Simon Fischer\"\u001b[39m -> \u001b[32m1\u001b[39m,\n",
       "  \u001b[32m\"Jolly Time\"\u001b[39m -> \u001b[32m1\u001b[39m,\n",
       "  \u001b[32m\"Ziyad\"\u001b[39m -> \u001b[32m1\u001b[39m,\n",
       "  \u001b[32m\"Fla-Vor-Ice\"\u001b[39m -> \u001b[32m1\u001b[39m,\n",
       "  \u001b[32m\"McCormick\"\u001b[39m -> \u001b[32m1\u001b[39m\n",
       ")"
      ]
     },
     "execution_count": 5,
     "metadata": {},
     "output_type": "execute_result"
    }
   ],
   "source": [
    "val amostrasAgrupadasTam = amostras\n",
    "    .groupBy(_.brand)\n",
    "    .mapValues(_.size)\n",
    "\n",
    "println(s\"Aparece mais: \" + amostrasAgrupadasTam.maxBy(_._2))\n",
    "println(s\"Aparece menos: \" + amostrasAgrupadasTam.minBy(_._2))"
   ]
  },
  {
   "cell_type": "markdown",
   "metadata": {},
   "source": [
    "### 3 - Compute a média e desvio padrão da frequência das marcas de produtos"
   ]
  },
  {
   "cell_type": "code",
   "execution_count": 6,
   "metadata": {},
   "outputs": [
    {
     "data": {
      "text/plain": [
       "\u001b[32mimport \u001b[39m\u001b[36mNumeric.Implicits._\n",
       "\n",
       "\u001b[39m\n",
       "defined \u001b[32mfunction\u001b[39m \u001b[36mmean\u001b[39m\n",
       "defined \u001b[32mfunction\u001b[39m \u001b[36mvariance\u001b[39m\n",
       "defined \u001b[32mfunction\u001b[39m \u001b[36mstdDev\u001b[39m"
      ]
     },
     "execution_count": 6,
     "metadata": {},
     "output_type": "execute_result"
    }
   ],
   "source": [
    "import Numeric.Implicits._\n",
    "\n",
    "def mean[T: Numeric](xs: Iterable[T]): Double = xs.sum.toDouble / xs.size\n",
    "\n",
    "def variance[T: Numeric](xs: Iterable[T]): Double = {\n",
    "  val avg = mean(xs)\n",
    "\n",
    "  xs.map(_.toDouble).map(a => math.pow(a - avg, 2)).sum / xs.size\n",
    "}\n",
    "\n",
    "def stdDev[T: Numeric](xs: Iterable[T]): Double = math.sqrt(variance(xs))"
   ]
  },
  {
   "cell_type": "code",
   "execution_count": 7,
   "metadata": {},
   "outputs": [
    {
     "name": "stdout",
     "output_type": "stream",
     "text": [
      "Média: 1.0\n",
      "Désvio padrão: 0.0\n"
     ]
    }
   ],
   "source": [
    "println( s\"Média: \" + mean(amostrasAgrupadasTam.values))\n",
    "println( s\"Désvio padrão: \" + stdDev(amostrasAgrupadasTam.values))"
   ]
  },
  {
   "cell_type": "markdown",
   "metadata": {},
   "source": [
    "### 4 - Quais os ingredientes que aparecem nos produtos? Mostre quantos são, os que mais aparecem e os que menos aparecem."
   ]
  },
  {
   "cell_type": "code",
   "execution_count": 8,
   "metadata": {
    "collapsed": true
   },
   "outputs": [
    {
     "name": "stdout",
     "output_type": "stream",
     "text": [
      "Simon Fischer Fruit Bttr Prune Lekvar \n",
      "Ingredients: List(Dried Prunes, Water, Corn Syrup, Sugar, Pectin.)\n",
      "Quantidade:5\n",
      "\n",
      "McCORMICK GRILL MATES MOLASSES BACON SEASONING 1 x 77g JAR AMERICAN IMPORT \n",
      "Ingredients: List(Salt, Sugar, Molasses (Refinery Syrup,  Molasses,  Caramel Color), Spices (Including Black Pepper), Garlic Onion, Tapioca Maltodextrin, Bacon Fat and Cooked Bacon (Cured with Water,  Salt,  Sodium Erythorbate,  Sodium Nitrate), Silicon Dioxide (To Make Free Flowing), Autolyzed Yeast, Sunflower Oil, Corn Maltodextrin, Vinegar, Extractives of Paprika, and Natural Flavor (Including Smoke))\n",
      "Quantidade:19\n",
      "\n",
      "Fla-Vor-Ice Plus Giant Pops \n",
      "Ingredients: List(FALSE)\n",
      "Quantidade:1\n",
      "\n",
      "Ziyad Tahini Sesame Sauce \n",
      "Ingredients: List(Mechanically hulled seasame seeds.Allergy Information: Packed in a facility that processes wheat,  flour,  peanuts and tree nuts., Mechanically hulled seasame seeds.Allergy Information: Packed in a facility that processes wheat, flour, peanuts and tree nuts.)\n",
      "Quantidade:6\n",
      "\n",
      "Jolly Time Popcorn \n",
      "Ingredients: List(Salt,  Yellow 5 Lake,  Tricalcium Phosphate And Artificial Butter Flavor)\n",
      "Quantidade:3\n",
      "\n",
      "Most Usade Ingredient: (Sugar,2)\n",
      "Least Usade Ingredient: (Molasses (Refinery Syrup,1)\n"
     ]
    },
    {
     "data": {
      "text/html": [
       "<div class=\"jp-RenderedText\">\n",
       "<pre><span class=\"ansi-cyan-fg\">name_ingredients</span>: <span class=\"ansi-green-fg\">Map</span>[<span class=\"ansi-green-fg\">String</span>, <span class=\"ansi-green-fg\">List</span>[<span class=\"ansi-green-fg\">String</span>]] = <span class=\"ansi-yellow-fg\">Map</span>(\n",
       "  <span class=\"ansi-green-fg\">&quot;Simon Fischer Fruit Bttr Prune Lekvar&quot;</span> -&gt; <span class=\"ansi-yellow-fg\">List</span>(\n",
       "    <span class=\"ansi-green-fg\">&quot;Dried Prunes&quot;</span>,\n",
       "    <span class=\"ansi-green-fg\">&quot;Water&quot;</span>,\n",
       "    <span class=\"ansi-green-fg\">&quot;Corn Syrup&quot;</span>,\n",
       "    <span class=\"ansi-green-fg\">&quot;Sugar&quot;</span>,\n",
       "    <span class=\"ansi-green-fg\">&quot;Pectin.&quot;</span>\n",
       "  ),\n",
       "  <span class=\"ansi-green-fg\">&quot;McCORMICK GRILL MATES MOLASSES BACON SEASONING 1 x 77g JAR AMERICAN IMPORT&quot;</span> -&gt; <span class=\"ansi-yellow-fg\">List</span>(\n",
       "    <span class=\"ansi-green-fg\">&quot;Salt&quot;</span>,\n",
       "    <span class=\"ansi-green-fg\">&quot;Sugar&quot;</span>,\n",
       "    <span class=\"ansi-green-fg\">&quot;Molasses (Refinery Syrup&quot;</span>,\n",
       "    <span class=\"ansi-green-fg\">&quot; Molasses&quot;</span>,\n",
       "    <span class=\"ansi-green-fg\">&quot; Caramel Color)&quot;</span>,\n",
       "    <span class=\"ansi-green-fg\">&quot;Spices (Including Black Pepper)&quot;</span>,\n",
       "    <span class=\"ansi-green-fg\">&quot;Garlic Onion&quot;</span>,\n",
       "    <span class=\"ansi-green-fg\">&quot;Tapioca Maltodextrin&quot;</span>,\n",
       "    <span class=\"ansi-green-fg\">&quot;Bacon Fat and Cooked Bacon (Cured with Water&quot;</span>,\n",
       "    <span class=\"ansi-green-fg\">&quot; Salt&quot;</span>,\n",
       "    <span class=\"ansi-green-fg\">&quot; Sodium Erythorbate&quot;</span>,\n",
       "    <span class=\"ansi-green-fg\">&quot; Sodium Nitrate)&quot;</span>,\n",
       "    <span class=\"ansi-green-fg\">&quot;Silicon Dioxide (To Make Free Flowing)&quot;</span>,\n",
       "    <span class=\"ansi-green-fg\">&quot;Autolyzed Yeast&quot;</span>,\n",
       "    <span class=\"ansi-green-fg\">&quot;Sunflower Oil&quot;</span>,\n",
       "    <span class=\"ansi-green-fg\">&quot;Corn Maltodextrin&quot;</span>,\n",
       "    <span class=\"ansi-green-fg\">&quot;Vinegar&quot;</span>,\n",
       "    <span class=\"ansi-green-fg\">&quot;Extractives of Paprika&quot;</span>,\n",
       "    <span class=\"ansi-green-fg\">&quot;and Natural Flavor (Including Smoke)&quot;</span>\n",
       "  ),\n",
       "  <span class=\"ansi-green-fg\">&quot;Fla-Vor-Ice Plus Giant Pops&quot;</span> -&gt; <span class=\"ansi-yellow-fg\">List</span>(<span class=\"ansi-green-fg\">&quot;FALSE&quot;</span>),\n",
       "  <span class=\"ansi-green-fg\">&quot;Ziyad Tahini Sesame Sauce&quot;</span> -&gt; <span class=\"ansi-yellow-fg\">List</span>(\n",
       "    <span class=\"ansi-green-fg\">&quot;Mechanically hulled seasame seeds.Allergy Information: Packed in a facility that processes wheat&quot;</span>,\n",
       "    <span class=\"ansi-green-fg\">&quot; flour&quot;</span>,\n",
       "    <span class=\"ansi-green-fg\">&quot; peanuts and tree nuts.&quot;</span>,\n",
       "    <span class=\"ansi-green-fg\">&quot;Mechanically hulled seasame seeds.Allergy Information: Packed in a facility that processes wheat&quot;</span>,\n",
       "    <span class=\"ansi-green-fg\">&quot;flour&quot;</span>,\n",
       "...\n",
       "<span class=\"ansi-cyan-fg\">quantity_ingredients</span>: <span class=\"ansi-green-fg\">Map</span>[<span class=\"ansi-green-fg\">String</span>, <span class=\"ansi-green-fg\">Int</span>] = <span class=\"ansi-yellow-fg\">Map</span>(\n",
       "  <span class=\"ansi-green-fg\">&quot;Sugar&quot;</span> -&gt; <span class=\"ansi-green-fg\">2</span>,\n",
       "  <span class=\"ansi-green-fg\">&quot;Molasses (Refinery Syrup&quot;</span> -&gt; <span class=\"ansi-green-fg\">1</span>,\n",
       "  <span class=\"ansi-green-fg\">&quot;Dried Prunes&quot;</span> -&gt; <span class=\"ansi-green-fg\">1</span>,\n",
       "  <span class=\"ansi-green-fg\">&quot;Pectin.&quot;</span> -&gt; <span class=\"ansi-green-fg\">1</span>,\n",
       "  <span class=\"ansi-green-fg\">&quot; Molasses&quot;</span> -&gt; <span class=\"ansi-green-fg\">1</span>,\n",
       "  <span class=\"ansi-green-fg\">&quot; Tricalcium Phosphate And Artificial Butter Flavor&quot;</span> -&gt; <span class=\"ansi-green-fg\">1</span>,\n",
       "  <span class=\"ansi-green-fg\">&quot;Bacon Fat and Cooked Bacon (Cured with Water&quot;</span> -&gt; <span class=\"ansi-green-fg\">1</span>,\n",
       "  <span class=\"ansi-green-fg\">&quot;Silicon Dioxide (To Make Free Flowing)&quot;</span> -&gt; <span class=\"ansi-green-fg\">1</span>,\n",
       "  <span class=\"ansi-green-fg\">&quot; flour&quot;</span> -&gt; <span class=\"ansi-green-fg\">1</span>,\n",
       "  <span class=\"ansi-green-fg\">&quot;Water&quot;</span> -&gt; <span class=\"ansi-green-fg\">1</span>,\n",
       "  <span class=\"ansi-green-fg\">&quot; Sodium Nitrate)&quot;</span> -&gt; <span class=\"ansi-green-fg\">1</span>,\n",
       "  <span class=\"ansi-green-fg\">&quot;Mechanically hulled seasame seeds.Allergy Information: Packed in a facility that processes wheat&quot;</span> -&gt; <span class=\"ansi-green-fg\">2</span>,\n",
       "  <span class=\"ansi-green-fg\">&quot;FALSE&quot;</span> -&gt; <span class=\"ansi-green-fg\">1</span>,\n",
       "  <span class=\"ansi-green-fg\">&quot;flour&quot;</span> -&gt; <span class=\"ansi-green-fg\">1</span>,\n",
       "  <span class=\"ansi-green-fg\">&quot; Sodium Erythorbate&quot;</span> -&gt; <span class=\"ansi-green-fg\">1</span>,\n",
       "  <span class=\"ansi-green-fg\">&quot;Extractives of Paprika&quot;</span> -&gt; <span class=\"ansi-green-fg\">1</span>,\n",
       "  <span class=\"ansi-green-fg\">&quot;Salt&quot;</span> -&gt; <span class=\"ansi-green-fg\">2</span>,\n",
       "  <span class=\"ansi-green-fg\">&quot;Tapioca Maltodextrin&quot;</span> -&gt; <span class=\"ansi-green-fg\">1</span>,\n",
       "  <span class=\"ansi-green-fg\">&quot;Corn Syrup&quot;</span> -&gt; <span class=\"ansi-green-fg\">1</span>,\n",
       "  <span class=\"ansi-green-fg\">&quot;and Natural Flavor (Including Smoke)&quot;</span> -&gt; <span class=\"ansi-green-fg\">1</span>,\n",
       "  <span class=\"ansi-green-fg\">&quot; peanuts and tree nuts.&quot;</span> -&gt; <span class=\"ansi-green-fg\">1</span>,\n",
       "  <span class=\"ansi-green-fg\">&quot;Sunflower Oil&quot;</span> -&gt; <span class=\"ansi-green-fg\">1</span>,\n",
       "  <span class=\"ansi-green-fg\">&quot; Caramel Color)&quot;</span> -&gt; <span class=\"ansi-green-fg\">1</span>,\n",
       "  <span class=\"ansi-green-fg\">&quot; Yellow 5 Lake&quot;</span> -&gt; <span class=\"ansi-green-fg\">1</span>,\n",
       "  <span class=\"ansi-green-fg\">&quot;Corn Maltodextrin&quot;</span> -&gt; <span class=\"ansi-green-fg\">1</span>,\n",
       "  <span class=\"ansi-green-fg\">&quot;Spices (Including Black Pepper)&quot;</span> -&gt; <span class=\"ansi-green-fg\">1</span>,\n",
       "  <span class=\"ansi-green-fg\">&quot; Salt&quot;</span> -&gt; <span class=\"ansi-green-fg\">1</span>,\n",
       "  <span class=\"ansi-green-fg\">&quot;Garlic Onion&quot;</span> -&gt; <span class=\"ansi-green-fg\">1</span>,\n",
       "  <span class=\"ansi-green-fg\">&quot;Vinegar&quot;</span> -&gt; <span class=\"ansi-green-fg\">1</span>,\n",
       "  <span class=\"ansi-green-fg\">&quot;Autolyzed Yeast&quot;</span> -&gt; <span class=\"ansi-green-fg\">1</span>,\n",
       "  <span class=\"ansi-green-fg\">&quot;peanuts and tree nuts.&quot;</span> -&gt; <span class=\"ansi-green-fg\">1</span>\n",
       ")</pre>\n",
       "</div>"
      ],
      "text/plain": [
       "\u001b[36mname_ingredients\u001b[39m: \u001b[32mMap\u001b[39m[\u001b[32mString\u001b[39m, \u001b[32mList\u001b[39m[\u001b[32mString\u001b[39m]] = \u001b[33mMap\u001b[39m(\n",
       "  \u001b[32m\"Simon Fischer Fruit Bttr Prune Lekvar\"\u001b[39m -> \u001b[33mList\u001b[39m(\n",
       "    \u001b[32m\"Dried Prunes\"\u001b[39m,\n",
       "    \u001b[32m\"Water\"\u001b[39m,\n",
       "    \u001b[32m\"Corn Syrup\"\u001b[39m,\n",
       "    \u001b[32m\"Sugar\"\u001b[39m,\n",
       "    \u001b[32m\"Pectin.\"\u001b[39m\n",
       "  ),\n",
       "  \u001b[32m\"McCORMICK GRILL MATES MOLASSES BACON SEASONING 1 x 77g JAR AMERICAN IMPORT\"\u001b[39m -> \u001b[33mList\u001b[39m(\n",
       "    \u001b[32m\"Salt\"\u001b[39m,\n",
       "    \u001b[32m\"Sugar\"\u001b[39m,\n",
       "    \u001b[32m\"Molasses (Refinery Syrup\"\u001b[39m,\n",
       "    \u001b[32m\" Molasses\"\u001b[39m,\n",
       "    \u001b[32m\" Caramel Color)\"\u001b[39m,\n",
       "    \u001b[32m\"Spices (Including Black Pepper)\"\u001b[39m,\n",
       "    \u001b[32m\"Garlic Onion\"\u001b[39m,\n",
       "    \u001b[32m\"Tapioca Maltodextrin\"\u001b[39m,\n",
       "    \u001b[32m\"Bacon Fat and Cooked Bacon (Cured with Water\"\u001b[39m,\n",
       "    \u001b[32m\" Salt\"\u001b[39m,\n",
       "    \u001b[32m\" Sodium Erythorbate\"\u001b[39m,\n",
       "    \u001b[32m\" Sodium Nitrate)\"\u001b[39m,\n",
       "    \u001b[32m\"Silicon Dioxide (To Make Free Flowing)\"\u001b[39m,\n",
       "    \u001b[32m\"Autolyzed Yeast\"\u001b[39m,\n",
       "    \u001b[32m\"Sunflower Oil\"\u001b[39m,\n",
       "    \u001b[32m\"Corn Maltodextrin\"\u001b[39m,\n",
       "    \u001b[32m\"Vinegar\"\u001b[39m,\n",
       "    \u001b[32m\"Extractives of Paprika\"\u001b[39m,\n",
       "    \u001b[32m\"and Natural Flavor (Including Smoke)\"\u001b[39m\n",
       "  ),\n",
       "  \u001b[32m\"Fla-Vor-Ice Plus Giant Pops\"\u001b[39m -> \u001b[33mList\u001b[39m(\u001b[32m\"FALSE\"\u001b[39m),\n",
       "  \u001b[32m\"Ziyad Tahini Sesame Sauce\"\u001b[39m -> \u001b[33mList\u001b[39m(\n",
       "    \u001b[32m\"Mechanically hulled seasame seeds.Allergy Information: Packed in a facility that processes wheat\"\u001b[39m,\n",
       "    \u001b[32m\" flour\"\u001b[39m,\n",
       "    \u001b[32m\" peanuts and tree nuts.\"\u001b[39m,\n",
       "    \u001b[32m\"Mechanically hulled seasame seeds.Allergy Information: Packed in a facility that processes wheat\"\u001b[39m,\n",
       "    \u001b[32m\"flour\"\u001b[39m,\n",
       "...\n",
       "\u001b[36mquantity_ingredients\u001b[39m: \u001b[32mMap\u001b[39m[\u001b[32mString\u001b[39m, \u001b[32mInt\u001b[39m] = \u001b[33mMap\u001b[39m(\n",
       "  \u001b[32m\"Sugar\"\u001b[39m -> \u001b[32m2\u001b[39m,\n",
       "  \u001b[32m\"Molasses (Refinery Syrup\"\u001b[39m -> \u001b[32m1\u001b[39m,\n",
       "  \u001b[32m\"Dried Prunes\"\u001b[39m -> \u001b[32m1\u001b[39m,\n",
       "  \u001b[32m\"Pectin.\"\u001b[39m -> \u001b[32m1\u001b[39m,\n",
       "  \u001b[32m\" Molasses\"\u001b[39m -> \u001b[32m1\u001b[39m,\n",
       "  \u001b[32m\" Tricalcium Phosphate And Artificial Butter Flavor\"\u001b[39m -> \u001b[32m1\u001b[39m,\n",
       "  \u001b[32m\"Bacon Fat and Cooked Bacon (Cured with Water\"\u001b[39m -> \u001b[32m1\u001b[39m,\n",
       "  \u001b[32m\"Silicon Dioxide (To Make Free Flowing)\"\u001b[39m -> \u001b[32m1\u001b[39m,\n",
       "  \u001b[32m\" flour\"\u001b[39m -> \u001b[32m1\u001b[39m,\n",
       "  \u001b[32m\"Water\"\u001b[39m -> \u001b[32m1\u001b[39m,\n",
       "  \u001b[32m\" Sodium Nitrate)\"\u001b[39m -> \u001b[32m1\u001b[39m,\n",
       "  \u001b[32m\"Mechanically hulled seasame seeds.Allergy Information: Packed in a facility that processes wheat\"\u001b[39m -> \u001b[32m2\u001b[39m,\n",
       "  \u001b[32m\"FALSE\"\u001b[39m -> \u001b[32m1\u001b[39m,\n",
       "  \u001b[32m\"flour\"\u001b[39m -> \u001b[32m1\u001b[39m,\n",
       "  \u001b[32m\" Sodium Erythorbate\"\u001b[39m -> \u001b[32m1\u001b[39m,\n",
       "  \u001b[32m\"Extractives of Paprika\"\u001b[39m -> \u001b[32m1\u001b[39m,\n",
       "  \u001b[32m\"Salt\"\u001b[39m -> \u001b[32m2\u001b[39m,\n",
       "  \u001b[32m\"Tapioca Maltodextrin\"\u001b[39m -> \u001b[32m1\u001b[39m,\n",
       "  \u001b[32m\"Corn Syrup\"\u001b[39m -> \u001b[32m1\u001b[39m,\n",
       "  \u001b[32m\"and Natural Flavor (Including Smoke)\"\u001b[39m -> \u001b[32m1\u001b[39m,\n",
       "  \u001b[32m\" peanuts and tree nuts.\"\u001b[39m -> \u001b[32m1\u001b[39m,\n",
       "  \u001b[32m\"Sunflower Oil\"\u001b[39m -> \u001b[32m1\u001b[39m,\n",
       "  \u001b[32m\" Caramel Color)\"\u001b[39m -> \u001b[32m1\u001b[39m,\n",
       "  \u001b[32m\" Yellow 5 Lake\"\u001b[39m -> \u001b[32m1\u001b[39m,\n",
       "  \u001b[32m\"Corn Maltodextrin\"\u001b[39m -> \u001b[32m1\u001b[39m,\n",
       "  \u001b[32m\"Spices (Including Black Pepper)\"\u001b[39m -> \u001b[32m1\u001b[39m,\n",
       "  \u001b[32m\" Salt\"\u001b[39m -> \u001b[32m1\u001b[39m,\n",
       "  \u001b[32m\"Garlic Onion\"\u001b[39m -> \u001b[32m1\u001b[39m,\n",
       "  \u001b[32m\"Vinegar\"\u001b[39m -> \u001b[32m1\u001b[39m,\n",
       "  \u001b[32m\"Autolyzed Yeast\"\u001b[39m -> \u001b[32m1\u001b[39m,\n",
       "  \u001b[32m\"peanuts and tree nuts.\"\u001b[39m -> \u001b[32m1\u001b[39m\n",
       ")"
      ]
     },
     "metadata": {},
     "output_type": "display_data"
    }
   ],
   "source": [
    "var name_ingredients = Map.empty[String,List[String]]\n",
    "\n",
    "\n",
    "for( i <- amostras){\n",
    "    i match {\n",
    "        case Dataset(_ , ingredient, _ , name) => name_ingredients = name_ingredients + (name -> (ingredient.split(\",\").toList))\n",
    "    }\n",
    "}\n",
    "\n",
    "var quantity_ingredients = Map.empty[String,Int]\n",
    "\n",
    "for( (name, ingredients) <- name_ingredients){\n",
    "    println(name + \" \\nIngredients: \" + ingredients + \"\\nQuantidade:\" + ingredients.size + \"\\n\")\n",
    "    for(i <- ingredients){\n",
    "        if(quantity_ingredients.contains(i)){\n",
    "            var new_value = quantity_ingredients(i).toInt + 1\n",
    "            quantity_ingredients += (i -> new_value) \n",
    "        }else{\n",
    "            quantity_ingredients += (i -> 1) \n",
    "        }\n",
    "    }\n",
    "}\n",
    "\n",
    "println(\"Most Usade Ingredient: \" + quantity_ingredients.maxBy(_._2))\n",
    "println(\"Least Usade Ingredient: \" + quantity_ingredients.minBy(_._2))\n",
    "    \n",
    "//println(name_ingredients(\"Simon Fischer Fruit Bttr Prune Lekvar\").size)"
   ]
  },
  {
   "cell_type": "markdown",
   "metadata": {},
   "source": [
    "### 5 - Compute a média e desvio padrão da frequência dos ingredientes"
   ]
  },
  {
   "cell_type": "code",
   "execution_count": 15,
   "metadata": {
    "collapsed": true
   },
   "outputs": [
    {
     "name": "stdout",
     "output_type": "stream",
     "text": [
      "Média: 1.096774193548387\n",
      "Désvio padrão: 0.2956500448358607\n"
     ]
    },
    {
     "data": {
      "text/html": [
       "<div class=\"jp-RenderedText\">\n",
       "<pre><span class=\"ansi-cyan-fg\">listaQuantidade</span>: <span class=\"ansi-green-fg\">List</span>[<span class=\"ansi-green-fg\">Int</span>] = <span class=\"ansi-yellow-fg\">List</span>(\n",
       "  <span class=\"ansi-green-fg\">2</span>,\n",
       "  <span class=\"ansi-green-fg\">1</span>,\n",
       "  <span class=\"ansi-green-fg\">1</span>,\n",
       "  <span class=\"ansi-green-fg\">1</span>,\n",
       "  <span class=\"ansi-green-fg\">1</span>,\n",
       "  <span class=\"ansi-green-fg\">1</span>,\n",
       "  <span class=\"ansi-green-fg\">1</span>,\n",
       "  <span class=\"ansi-green-fg\">1</span>,\n",
       "  <span class=\"ansi-green-fg\">1</span>,\n",
       "  <span class=\"ansi-green-fg\">1</span>,\n",
       "  <span class=\"ansi-green-fg\">1</span>,\n",
       "  <span class=\"ansi-green-fg\">2</span>,\n",
       "  <span class=\"ansi-green-fg\">1</span>,\n",
       "  <span class=\"ansi-green-fg\">1</span>,\n",
       "  <span class=\"ansi-green-fg\">1</span>,\n",
       "  <span class=\"ansi-green-fg\">1</span>,\n",
       "  <span class=\"ansi-green-fg\">2</span>,\n",
       "  <span class=\"ansi-green-fg\">1</span>,\n",
       "  <span class=\"ansi-green-fg\">1</span>,\n",
       "  <span class=\"ansi-green-fg\">1</span>,\n",
       "  <span class=\"ansi-green-fg\">1</span>,\n",
       "  <span class=\"ansi-green-fg\">1</span>,\n",
       "  <span class=\"ansi-green-fg\">1</span>,\n",
       "  <span class=\"ansi-green-fg\">1</span>,\n",
       "  <span class=\"ansi-green-fg\">1</span>,\n",
       "  <span class=\"ansi-green-fg\">1</span>,\n",
       "  <span class=\"ansi-green-fg\">1</span>,\n",
       "  <span class=\"ansi-green-fg\">1</span>,\n",
       "  <span class=\"ansi-green-fg\">1</span>,\n",
       "  <span class=\"ansi-green-fg\">1</span>,\n",
       "  <span class=\"ansi-green-fg\">1</span>\n",
       ")</pre>\n",
       "</div>"
      ],
      "text/plain": [
       "\u001b[36mlistaQuantidade\u001b[39m: \u001b[32mList\u001b[39m[\u001b[32mInt\u001b[39m] = \u001b[33mList\u001b[39m(\n",
       "  \u001b[32m2\u001b[39m,\n",
       "  \u001b[32m1\u001b[39m,\n",
       "  \u001b[32m1\u001b[39m,\n",
       "  \u001b[32m1\u001b[39m,\n",
       "  \u001b[32m1\u001b[39m,\n",
       "  \u001b[32m1\u001b[39m,\n",
       "  \u001b[32m1\u001b[39m,\n",
       "  \u001b[32m1\u001b[39m,\n",
       "  \u001b[32m1\u001b[39m,\n",
       "  \u001b[32m1\u001b[39m,\n",
       "  \u001b[32m1\u001b[39m,\n",
       "  \u001b[32m2\u001b[39m,\n",
       "  \u001b[32m1\u001b[39m,\n",
       "  \u001b[32m1\u001b[39m,\n",
       "  \u001b[32m1\u001b[39m,\n",
       "  \u001b[32m1\u001b[39m,\n",
       "  \u001b[32m2\u001b[39m,\n",
       "  \u001b[32m1\u001b[39m,\n",
       "  \u001b[32m1\u001b[39m,\n",
       "  \u001b[32m1\u001b[39m,\n",
       "  \u001b[32m1\u001b[39m,\n",
       "  \u001b[32m1\u001b[39m,\n",
       "  \u001b[32m1\u001b[39m,\n",
       "  \u001b[32m1\u001b[39m,\n",
       "  \u001b[32m1\u001b[39m,\n",
       "  \u001b[32m1\u001b[39m,\n",
       "  \u001b[32m1\u001b[39m,\n",
       "  \u001b[32m1\u001b[39m,\n",
       "  \u001b[32m1\u001b[39m,\n",
       "  \u001b[32m1\u001b[39m,\n",
       "  \u001b[32m1\u001b[39m\n",
       ")"
      ]
     },
     "metadata": {},
     "output_type": "display_data"
    }
   ],
   "source": [
    "var listaQuantidade  = List[Int]()\n",
    "for( (name, quantidade) <- quantity_ingredients){\n",
    "    listaQuantidade = listaQuantidade ::: List(quantidade)\n",
    "}\n",
    "println( s\"Média: \" + mean(listaQuantidade))\n",
    "println( s\"Désvio padrão: \" + stdDev(listaQuantidade))"
   ]
  },
  {
   "cell_type": "markdown",
   "metadata": {},
   "source": [
    "### 6 - Quais os ingredientes mais usados por cada marca? E os menos usados?"
   ]
  },
  {
   "cell_type": "code",
   "execution_count": 31,
   "metadata": {
    "scrolled": true
   },
   "outputs": [
    {
     "data": {
      "text/html": [
       "<div class=\"jp-RenderedText\">\n",
       "<pre><span class=\"ansi-cyan-fg\">amostrasAgrupadasByBrand</span>: <span class=\"ansi-green-fg\">Map</span>[<span class=\"ansi-green-fg\">String</span>, <span class=\"ansi-green-fg\">List</span>[<span class=\"ansi-green-fg\">Dataset</span>]] = <span class=\"ansi-yellow-fg\">Map</span>(\n",
       "  <span class=\"ansi-green-fg\">&quot;Simon Fischer&quot;</span> -&gt; <span class=\"ansi-yellow-fg\">List</span>(\n",
       "    <span class=\"ansi-yellow-fg\">Dataset</span>(\n",
       "      <span class=\"ansi-green-fg\">&quot;Simon Fischer&quot;</span>,\n",
       "      <span class=\"ansi-green-fg\">&quot;Dried Prunes,Water,Corn Syrup,Sugar,Pectin.&quot;</span>,\n",
       "      <span class=\"ansi-green-fg\">&quot;Grocery &amp; Gourmet Food,Food,Grocery&quot;</span>,\n",
       "      <span class=\"ansi-green-fg\">&quot;Simon Fischer Fruit Bttr Prune Lekvar&quot;</span>\n",
       "    )\n",
       "  ),\n",
       "  <span class=\"ansi-green-fg\">&quot;Jolly Time&quot;</span> -&gt; <span class=\"ansi-yellow-fg\">List</span>(\n",
       "    <span class=\"ansi-yellow-fg\">Dataset</span>(\n",
       "      <span class=\"ansi-green-fg\">&quot;Jolly Time&quot;</span>,\n",
       "      <span class=\"ansi-green-fg\">&quot;Salt, Yellow 5 Lake, Tricalcium Phosphate And Artificial Butter Flavor&quot;</span>,\n",
       "      <span class=\"ansi-green-fg\">&quot;Grocery &amp; Gourmet Food,Grocery&quot;</span>,\n",
       "      <span class=\"ansi-green-fg\">&quot;Jolly Time Popcorn&quot;</span>\n",
       "    )\n",
       "  ),\n",
       "  <span class=\"ansi-green-fg\">&quot;Ziyad&quot;</span> -&gt; <span class=\"ansi-yellow-fg\">List</span>(\n",
       "    <span class=\"ansi-yellow-fg\">Dataset</span>(\n",
       "      <span class=\"ansi-green-fg\">&quot;Ziyad&quot;</span>,\n",
       "      <span class=\"ansi-green-fg\">&quot;Mechanically hulled seasame seeds.Allergy Information: Packed in a facility that processes wheat, flour, peanuts and tree nuts.,Mechanically hulled seasame seeds.Allergy Information: Packed in a facility that processes wheat,flour,peanuts and tree nuts.&quot;</span>,\n",
       "      <span class=\"ansi-green-fg\">&quot;Grocery &amp; Gourmet Food,grocery&quot;</span>,\n",
       "      <span class=\"ansi-green-fg\">&quot;Ziyad Tahini Sesame Sauce&quot;</span>\n",
       "    )\n",
       "  ),\n",
       "  <span class=\"ansi-green-fg\">&quot;Fla-Vor-Ice&quot;</span> -&gt; <span class=\"ansi-yellow-fg\">List</span>(\n",
       "    <span class=\"ansi-yellow-fg\">Dataset</span>(\n",
       "      <span class=\"ansi-green-fg\">&quot;Fla-Vor-Ice&quot;</span>,\n",
       "      <span class=\"ansi-green-fg\">&quot;FALSE&quot;</span>,\n",
       "      <span class=\"ansi-green-fg\">&quot;Grocery &amp; Gourmet Food,grocery&quot;</span>,\n",
       "      <span class=\"ansi-green-fg\">&quot;Fla-Vor-Ice Plus Giant Pops&quot;</span>\n",
       "    )\n",
       "  ),\n",
       "  <span class=\"ansi-green-fg\">&quot;McCormick&quot;</span> -&gt; <span class=\"ansi-yellow-fg\">List</span>(\n",
       "    <span class=\"ansi-yellow-fg\">Dataset</span>(\n",
       "      <span class=\"ansi-green-fg\">&quot;McCormick&quot;</span>,\n",
       "...\n",
       "<span class=\"ansi-cyan-fg\">a</span>: <span class=\"ansi-green-fg\">List</span>[<span class=\"ansi-green-fg\">Dataset</span>] = <span class=\"ansi-yellow-fg\">List</span>(\n",
       "  <span class=\"ansi-yellow-fg\">Dataset</span>(\n",
       "    <span class=\"ansi-green-fg\">&quot;Simon Fischer&quot;</span>,\n",
       "    <span class=\"ansi-green-fg\">&quot;Dried Prunes,Water,Corn Syrup,Sugar,Pectin.&quot;</span>,\n",
       "    <span class=\"ansi-green-fg\">&quot;Grocery &amp; Gourmet Food,Food,Grocery&quot;</span>,\n",
       "    <span class=\"ansi-green-fg\">&quot;Simon Fischer Fruit Bttr Prune Lekvar&quot;</span>\n",
       "  )\n",
       ")</pre>\n",
       "</div>"
      ],
      "text/plain": [
       "\u001b[36mamostrasAgrupadasByBrand\u001b[39m: \u001b[32mMap\u001b[39m[\u001b[32mString\u001b[39m, \u001b[32mList\u001b[39m[\u001b[32mDataset\u001b[39m]] = \u001b[33mMap\u001b[39m(\n",
       "  \u001b[32m\"Simon Fischer\"\u001b[39m -> \u001b[33mList\u001b[39m(\n",
       "    \u001b[33mDataset\u001b[39m(\n",
       "      \u001b[32m\"Simon Fischer\"\u001b[39m,\n",
       "      \u001b[32m\"Dried Prunes,Water,Corn Syrup,Sugar,Pectin.\"\u001b[39m,\n",
       "      \u001b[32m\"Grocery & Gourmet Food,Food,Grocery\"\u001b[39m,\n",
       "      \u001b[32m\"Simon Fischer Fruit Bttr Prune Lekvar\"\u001b[39m\n",
       "    )\n",
       "  ),\n",
       "  \u001b[32m\"Jolly Time\"\u001b[39m -> \u001b[33mList\u001b[39m(\n",
       "    \u001b[33mDataset\u001b[39m(\n",
       "      \u001b[32m\"Jolly Time\"\u001b[39m,\n",
       "      \u001b[32m\"Salt, Yellow 5 Lake, Tricalcium Phosphate And Artificial Butter Flavor\"\u001b[39m,\n",
       "      \u001b[32m\"Grocery & Gourmet Food,Grocery\"\u001b[39m,\n",
       "      \u001b[32m\"Jolly Time Popcorn\"\u001b[39m\n",
       "    )\n",
       "  ),\n",
       "  \u001b[32m\"Ziyad\"\u001b[39m -> \u001b[33mList\u001b[39m(\n",
       "    \u001b[33mDataset\u001b[39m(\n",
       "      \u001b[32m\"Ziyad\"\u001b[39m,\n",
       "      \u001b[32m\"Mechanically hulled seasame seeds.Allergy Information: Packed in a facility that processes wheat, flour, peanuts and tree nuts.,Mechanically hulled seasame seeds.Allergy Information: Packed in a facility that processes wheat,flour,peanuts and tree nuts.\"\u001b[39m,\n",
       "      \u001b[32m\"Grocery & Gourmet Food,grocery\"\u001b[39m,\n",
       "      \u001b[32m\"Ziyad Tahini Sesame Sauce\"\u001b[39m\n",
       "    )\n",
       "  ),\n",
       "  \u001b[32m\"Fla-Vor-Ice\"\u001b[39m -> \u001b[33mList\u001b[39m(\n",
       "    \u001b[33mDataset\u001b[39m(\n",
       "      \u001b[32m\"Fla-Vor-Ice\"\u001b[39m,\n",
       "      \u001b[32m\"FALSE\"\u001b[39m,\n",
       "      \u001b[32m\"Grocery & Gourmet Food,grocery\"\u001b[39m,\n",
       "      \u001b[32m\"Fla-Vor-Ice Plus Giant Pops\"\u001b[39m\n",
       "    )\n",
       "  ),\n",
       "  \u001b[32m\"McCormick\"\u001b[39m -> \u001b[33mList\u001b[39m(\n",
       "    \u001b[33mDataset\u001b[39m(\n",
       "      \u001b[32m\"McCormick\"\u001b[39m,\n",
       "...\n",
       "\u001b[36ma\u001b[39m: \u001b[32mList\u001b[39m[\u001b[32mDataset\u001b[39m] = \u001b[33mList\u001b[39m(\n",
       "  \u001b[33mDataset\u001b[39m(\n",
       "    \u001b[32m\"Simon Fischer\"\u001b[39m,\n",
       "    \u001b[32m\"Dried Prunes,Water,Corn Syrup,Sugar,Pectin.\"\u001b[39m,\n",
       "    \u001b[32m\"Grocery & Gourmet Food,Food,Grocery\"\u001b[39m,\n",
       "    \u001b[32m\"Simon Fischer Fruit Bttr Prune Lekvar\"\u001b[39m\n",
       "  )\n",
       ")"
      ]
     },
     "metadata": {},
     "output_type": "display_data"
    }
   ],
   "source": [
    "val amostrasAgrupadasByBrand = amostras\n",
    "    .groupBy(_.brand)\n",
    "    //.groupBy(_.ingredients)\n",
    "    //.mapValues(_.ingredients)\n",
    "\n",
    "//println(s\"Aparece mais: \" + amostrasAgrupadasByBrand.maxBy(_._2))\n",
    "//println(s\"Aparece menos: \" + amostrasAgrupadasByBrand.minBy(_._2))\n",
    "var a = amostrasAgrupadasByBrand(\"Simon Fischer\")"
   ]
  },
  {
   "cell_type": "code",
   "execution_count": 29,
   "metadata": {
    "scrolled": true
   },
   "outputs": [
    {
     "data": {
      "text/plain": [
       "\u001b[36mres28\u001b[39m: \u001b[32mList\u001b[39m[\u001b[32mString\u001b[39m] = \u001b[33mList\u001b[39m(\n",
       "  \u001b[32m\"Salt\"\u001b[39m,\n",
       "  \u001b[32m\"Sugar\"\u001b[39m,\n",
       "  \u001b[32m\"Molasses (Refinery Syrup\"\u001b[39m,\n",
       "  \u001b[32m\" Molasses\"\u001b[39m,\n",
       "  \u001b[32m\" Caramel Color)\"\u001b[39m,\n",
       "  \u001b[32m\"Spices (Including Black Pepper)\"\u001b[39m,\n",
       "  \u001b[32m\"Garlic Onion\"\u001b[39m,\n",
       "  \u001b[32m\"Tapioca Maltodextrin\"\u001b[39m,\n",
       "  \u001b[32m\"Bacon Fat and Cooked Bacon (Cured with Water\"\u001b[39m,\n",
       "  \u001b[32m\" Salt\"\u001b[39m,\n",
       "  \u001b[32m\" Sodium Erythorbate\"\u001b[39m,\n",
       "  \u001b[32m\" Sodium Nitrate)\"\u001b[39m,\n",
       "  \u001b[32m\"Silicon Dioxide (To Make Free Flowing)\"\u001b[39m,\n",
       "  \u001b[32m\"Autolyzed Yeast\"\u001b[39m,\n",
       "  \u001b[32m\"Sunflower Oil\"\u001b[39m,\n",
       "  \u001b[32m\"Corn Maltodextrin\"\u001b[39m,\n",
       "  \u001b[32m\"Vinegar\"\u001b[39m,\n",
       "  \u001b[32m\"Extractives of Paprika\"\u001b[39m,\n",
       "  \u001b[32m\"and Natural Flavor (Including Smoke)\"\u001b[39m\n",
       ")"
      ]
     },
     "execution_count": 29,
     "metadata": {},
     "output_type": "execute_result"
    }
   ],
   "source": [
    "\n",
    "amostras(1).ingredients.split(',').toList"
   ]
  },
  {
   "cell_type": "code",
   "execution_count": 32,
   "metadata": {},
   "outputs": [
    {
     "name": "stderr",
     "output_type": "stream",
     "text": [
      "cmd32.sc:12: reassignment to val\n",
      "            ingredients = (ingredients.split(\",\").toList);\n",
      "                        ^cmd32.sc:14: value ::: is not a member of String\n",
      "                brand_ingredients = brand_ingredients + (brand -> brand_ingredients(brand) ::: ingredients)\n",
      "                                                                                           ^cmd32.sc:16: type mismatch;\n",
      " found   : String\n",
      " required: List[String]\n",
      "                brand_ingredients = brand_ingredients + (brand -> ingredients)\n",
      "                                                                  ^Compilation Failed"
     ]
    },
    {
     "ename": "",
     "evalue": "",
     "output_type": "error",
     "traceback": [
      "Compilation Failed"
     ]
    }
   ],
   "source": [
    "var brand_ingredients = Map.empty[String,List[String]]\n",
    "\n",
    "var ingredients  = List[String]()\n",
    "\n",
    "for( amostra <- amostras){\n",
    "    amostra match {\n",
    "        case Dataset(brand , ingredients, _ , _) => {\n",
    "            ingredients = (ingredients.split(\",\").toList);\n",
    "            if(brand_ingredients.contains(brand)){\n",
    "                brand_ingredients = brand_ingredients + (brand -> brand_ingredients(brand) ::: ingredients)\n",
    "            }else{\n",
    "                brand_ingredients = brand_ingredients + (brand -> ingredients)\n",
    "            }\n",
    "        }\n",
    "    }\n",
    "}"
   ]
  },
  {
   "cell_type": "markdown",
   "metadata": {},
   "source": [
    "### 7 - Compute alguma informação não demandada pelas questões anteriores e justifique o porquê que tal informação é útil"
   ]
  },
  {
   "cell_type": "code",
   "execution_count": null,
   "metadata": {},
   "outputs": [],
   "source": []
  }
 ],
 "metadata": {
  "kernelspec": {
   "display_name": "Scala (sources)",
   "language": "scala",
   "name": "scala"
  },
  "language_info": {
   "codemirror_mode": "text/x-scala",
   "file_extension": ".scala",
   "mimetype": "text/x-scala",
   "name": "scala",
   "nbconvert_exporter": "script",
   "version": "2.12.8"
  }
 },
 "nbformat": 4,
 "nbformat_minor": 2
}
