{
 "cells": [
  {
   "cell_type": "markdown",
   "metadata": {},
   "source": [
    "# Aula 3\n",
    "---\n",
    "\n",
    "Essa aula é um desafio para por em prova seus conhecimentos em Scala! Para resolvê-lo, você deverá\n",
    "utilizar o que foi apresentado nas últimas aulas E consultar materiais complementares(stack overflow) para aprender ainda mais em um cenário prático!"
   ]
  },
  {
   "cell_type": "markdown",
   "metadata": {},
   "source": [
    "## Baixando o dataset\n",
    "\n",
    "O dataset desta atividade foi tirado do Kaggle e chama-se [Food Ingredient List](https://www.kaggle.com/datafiniti/food-ingredient-lists/version/1#). Ele contém os ingredientes presentes em 10000 produtos encontrados em supermercados. Para mais informações, visite a [página do dataset](https://www.kaggle.com/datafiniti/food-ingredient-lists/version/1#).\n",
    "\n",
    "O código abaixo faz o download do dataset para o diretório atual deste notebook."
   ]
  },
  {
   "cell_type": "code",
   "execution_count": null,
   "metadata": {
    "scrolled": true
   },
   "outputs": [],
   "source": [
    "import sys.process._\n",
    "\n",
    "\"wget -O ingredients.tsv https://drive.google.com/uc?export=download&id=1oTjCLXJZjciOmpweGsirlreu9zcrm6Py\"!"
   ]
  },
  {
   "cell_type": "markdown",
   "metadata": {},
   "source": [
    "## Processando o dataset\n",
    "\n",
    "Para simplificar o desafio (pois já há muita coisa difícil para se fazer) o dataset foi mapeado para TSV. As informações estão separadas por **tabulações** (caractere \\t). Processe-o e armazene-o da maneira que achar mais conveniente"
   ]
  },
  {
   "cell_type": "code",
   "execution_count": 4,
   "metadata": {},
   "outputs": [
    {
     "data": {
      "text/html": [
       "<div class=\"jp-RenderedText\">\n",
       "<pre><span class=\"ansi-green-fg\">import </span><span class=\"ansi-cyan-fg\">scala.io.Source\n",
       "</span>\n",
       "<span class=\"ansi-cyan-fg\">dataset_name</span>: <span class=\"ansi-green-fg\">String</span> = <span class=\"ansi-green-fg\">&quot;ingredients.tsv&quot;</span></pre>\n",
       "</div>"
      ],
      "text/plain": [
       "\u001b[32mimport \u001b[39m\u001b[36mscala.io.Source\n",
       "\u001b[39m\n",
       "\u001b[36mdataset_name\u001b[39m: \u001b[32mString\u001b[39m = \u001b[32m\"ingredients.tsv\"\u001b[39m"
      ]
     },
     "metadata": {},
     "output_type": "display_data"
    }
   ],
   "source": [
    "import scala.io.Source\n",
    "var dataset_name = \"ingredients.tsv\"\n",
    "/*print(Source.fromFile(dataset_name).getLines.take(5).toList.mkString(\"/n\")) */"
   ]
  },
  {
   "cell_type": "code",
   "execution_count": 5,
   "metadata": {
    "scrolled": true
   },
   "outputs": [
    {
     "data": {
      "text/plain": [
       "defined \u001b[32mclass\u001b[39m \u001b[36mDataset\u001b[39m\n",
       "\u001b[36mlines\u001b[39m: \u001b[32mIterator\u001b[39m[\u001b[32mString\u001b[39m] = \u001b[32mempty iterator\u001b[39m\n",
       "\u001b[36mamostras\u001b[39m: \u001b[32mList\u001b[39m[\u001b[32mDataset\u001b[39m] = \u001b[33mList\u001b[39m(\n",
       "  \u001b[33mDataset\u001b[39m(\n",
       "    \u001b[32m\"Simon Fischer\"\u001b[39m,\n",
       "    \u001b[32m\"Dried Prunes,Water,Corn Syrup,Sugar,Pectin.\"\u001b[39m,\n",
       "    \u001b[32m\"Grocery & Gourmet Food,Food,Grocery\"\u001b[39m\n",
       "  ),\n",
       "  \u001b[33mDataset\u001b[39m(\n",
       "    \u001b[32m\"McCormick\"\u001b[39m,\n",
       "    \u001b[32m\"Salt,Sugar,Molasses (Refinery Syrup, Molasses, Caramel Color),Spices (Including Black Pepper),Garlic Onion,Tapioca Maltodextrin,Bacon Fat and Cooked Bacon (Cured with Water, Salt, Sodium Erythorbate, Sodium Nitrate),Silicon Dioxide (To Make Free Flowing),Autolyzed Yeast,Sunflower Oil,Corn Maltodextrin,Vinegar,Extractives of Paprika,and Natural Flavor (Including Smoke)\"\u001b[39m,\n",
       "    \u001b[32m\"Grocery & Gourmet Food,Food,Grocery\"\u001b[39m\n",
       "  ),\n",
       "  \u001b[33mDataset\u001b[39m(\n",
       "    \u001b[32m\"Jolly Time\"\u001b[39m,\n",
       "    \u001b[32m\"Salt, Yellow 5 Lake, Tricalcium Phosphate And Artificial Butter Flavor\"\u001b[39m,\n",
       "    \u001b[32m\"Grocery & Gourmet Food,Grocery\"\u001b[39m\n",
       "  ),\n",
       "  \u001b[33mDataset\u001b[39m(\n",
       "    \u001b[32m\"Ziyad\"\u001b[39m,\n",
       "    \u001b[32m\"Mechanically hulled seasame seeds.Allergy Information: Packed in a facility that processes wheat, flour, peanuts and tree nuts.,Mechanically hulled seasame seeds.Allergy Information: Packed in a facility that processes wheat,flour,peanuts and tree nuts.\"\u001b[39m,\n",
       "    \u001b[32m\"Grocery & Gourmet Food,grocery\"\u001b[39m\n",
       "  ),\n",
       "  \u001b[33mDataset\u001b[39m(\u001b[32m\"Fla-Vor-Ice\"\u001b[39m, \u001b[32m\"FALSE\"\u001b[39m, \u001b[32m\"Grocery & Gourmet Food,grocery\"\u001b[39m)\n",
       ")\n",
       "\u001b[36mamostrasAgrupadas\u001b[39m: \u001b[32mMap\u001b[39m[\u001b[32mString\u001b[39m, \u001b[32mList\u001b[39m[\u001b[32mDataset\u001b[39m]] = \u001b[33mMap\u001b[39m(\n",
       "  \u001b[32m\"Simon Fischer\"\u001b[39m -> \u001b[33mList\u001b[39m(\n",
       "    \u001b[33mDataset\u001b[39m(\n",
       "      \u001b[32m\"Simon Fischer\"\u001b[39m,\n",
       "      \u001b[32m\"Dried Prunes,Water,Corn Syrup,Sugar,Pectin.\"\u001b[39m,\n",
       "      \u001b[32m\"Grocery & Gourmet Food,Food,Grocery\"\u001b[39m\n",
       "    )\n",
       "  ),\n",
       "  \u001b[32m\"Jolly Time\"\u001b[39m -> \u001b[33mList\u001b[39m(\n",
       "    \u001b[33mDataset\u001b[39m(\n",
       "      \u001b[32m\"Jolly Time\"\u001b[39m,\n",
       "      \u001b[32m\"Salt, Yellow 5 Lake, Tricalcium Phosphate And Artificial Butter Flavor\"\u001b[39m,\n",
       "      \u001b[32m\"Grocery & Gourmet Food,Grocery\"\u001b[39m\n",
       "    )\n",
       "  ),\n",
       "  \u001b[32m\"Ziyad\"\u001b[39m -> \u001b[33mList\u001b[39m(\n",
       "    \u001b[33mDataset\u001b[39m(\n",
       "      \u001b[32m\"Ziyad\"\u001b[39m,\n",
       "      \u001b[32m\"Mechanically hulled seasame seeds.Allergy Information: Packed in a facility that processes wheat, flour, peanuts and tree nuts.,Mechanically hulled seasame seeds.Allergy Information: Packed in a facility that processes wheat,flour,peanuts and tree nuts.\"\u001b[39m,\n",
       "      \u001b[32m\"Grocery & Gourmet Food,grocery\"\u001b[39m\n",
       "    )\n",
       "  ),\n",
       "  \u001b[32m\"Fla-Vor-Ice\"\u001b[39m -> \u001b[33mList\u001b[39m(\n",
       "    \u001b[33mDataset\u001b[39m(\u001b[32m\"Fla-Vor-Ice\"\u001b[39m, \u001b[32m\"FALSE\"\u001b[39m, \u001b[32m\"Grocery & Gourmet Food,grocery\"\u001b[39m)\n",
       "  ),\n",
       "  \u001b[32m\"McCormick\"\u001b[39m -> \u001b[33mList\u001b[39m(\n",
       "    \u001b[33mDataset\u001b[39m(\n",
       "      \u001b[32m\"McCormick\"\u001b[39m,\n",
       "      \u001b[32m\"Salt,Sugar,Molasses (Refinery Syrup, Molasses, Caramel Color),Spices (Including Black Pepper),Garlic Onion,Tapioca Maltodextrin,Bacon Fat and Cooked Bacon (Cured with Water, Salt, Sodium Erythorbate, Sodium Nitrate),Silicon Dioxide (To Make Free Flowing),Autolyzed Yeast,Sunflower Oil,Corn Maltodextrin,Vinegar,Extractives of Paprika,and Natural Flavor (Including Smoke)\"\u001b[39m,\n",
       "      \u001b[32m\"Grocery & Gourmet Food,Food,Grocery\"\u001b[39m\n",
       "    )\n",
       "  )\n",
       ")"
      ]
     },
     "execution_count": 5,
     "metadata": {},
     "output_type": "execute_result"
    }
   ],
   "source": [
    "case class Dataset(brand: String, ingredients: String, categories: String)\n",
    "val lines = Source.fromFile(dataset_name).getLines.drop(1).take(5)\n",
    "\n",
    "val amostras = lines\n",
    "                    .map(_.split(\"\\t\"))\n",
    "                    //.filter(_.length == 8)\n",
    "                    .map(l => Dataset(l(2), l(8), l(3)))\n",
    "                    .toList\n",
    "\n",
    "//agrupando as amostras pela classe\n",
    "val amostrasAgrupadas = amostras\n",
    "    .groupBy(_.brand)"
   ]
  },
  {
   "cell_type": "markdown",
   "metadata": {},
   "source": [
    "## Demandas\n",
    "---"
   ]
  },
  {
   "cell_type": "markdown",
   "metadata": {},
   "source": [
    "### 1 - Quantas e quais as marcas de produtos contidas no dataset?"
   ]
  },
  {
   "cell_type": "code",
   "execution_count": 6,
   "metadata": {},
   "outputs": [
    {
     "name": "stdout",
     "output_type": "stream",
     "text": [
      "Quantidade de amostras: 5\n",
      "Simon Fischer\n",
      "Jolly Time\n",
      "Ziyad\n",
      "Fla-Vor-Ice\n",
      "McCormick\n"
     ]
    }
   ],
   "source": [
    "println(s\"Quantidade de amostras: \" + amostrasAgrupadas.size)\n",
    "for((c,amostras) <- amostrasAgrupadas){\n",
    "    println(c)\n",
    "}"
   ]
  },
  {
   "cell_type": "markdown",
   "metadata": {},
   "source": [
    "### 2 - Quais as marcas que aparecem mais no dataset? Quais aparecem menos?"
   ]
  },
  {
   "cell_type": "code",
   "execution_count": 10,
   "metadata": {
    "scrolled": true
   },
   "outputs": [
    {
     "name": "stdout",
     "output_type": "stream",
     "text": [
      "Aparece mais: (Simon Fischer,1)\n",
      "Aparece menos: (Simon Fischer,1)\n"
     ]
    },
    {
     "data": {
      "text/plain": [
       "\u001b[36mamostrasAgrupadasTam\u001b[39m: \u001b[32mMap\u001b[39m[\u001b[32mString\u001b[39m, \u001b[32mInt\u001b[39m] = \u001b[33mMap\u001b[39m(\n",
       "  \u001b[32m\"Simon Fischer\"\u001b[39m -> \u001b[32m1\u001b[39m,\n",
       "  \u001b[32m\"Jolly Time\"\u001b[39m -> \u001b[32m1\u001b[39m,\n",
       "  \u001b[32m\"Ziyad\"\u001b[39m -> \u001b[32m1\u001b[39m,\n",
       "  \u001b[32m\"Fla-Vor-Ice\"\u001b[39m -> \u001b[32m1\u001b[39m,\n",
       "  \u001b[32m\"McCormick\"\u001b[39m -> \u001b[32m1\u001b[39m\n",
       ")"
      ]
     },
     "execution_count": 10,
     "metadata": {},
     "output_type": "execute_result"
    }
   ],
   "source": [
    "val amostrasAgrupadasTam = amostras\n",
    "    .groupBy(_.brand)\n",
    "    .mapValues(_.size)\n",
    "\n",
    "println(s\"Aparece mais: \" + amostrasAgrupadasTam.maxBy(_._2))\n",
    "println(s\"Aparece menos: \" + amostrasAgrupadasTam.minBy(_._2))"
   ]
  },
  {
   "cell_type": "markdown",
   "metadata": {},
   "source": [
    "### 3 - Compute a média e desvio padrão da frequência das marcas de produtos"
   ]
  },
  {
   "cell_type": "code",
   "execution_count": 10,
   "metadata": {},
   "outputs": [
    {
     "name": "stderr",
     "output_type": "stream",
     "text": [
      "cmd10.sc:5: value map is not a member of Int\n",
      "    val Media = mean(amostras.map(_.brand))\n",
      "                              ^cmd10.sc:1: could not find implicit value for parameter num: Numeric[String]\n",
      "def mean(values: Seq[String]): Double = values.sum / values.length\n",
      "                                               ^Compilation Failed"
     ]
    },
    {
     "ename": "",
     "evalue": "",
     "output_type": "error",
     "traceback": [
      "Compilation Failed"
     ]
    }
   ],
   "source": [
    "//definindo função que calcula a média de uma sequência de Doubles\n",
    "def mean(values: Seq[String]): Double = values.sum / values.length\n",
    "\n",
    "for((c,amostras) <- amostrasAgrupadasTam){\n",
    "    println(s\"Analisando classe $c...\")\n",
    "    val Media = mean(amostras.map(_.brand))\n",
    "    println(s\"Media da largura da pétala: $Media\")\n",
    "    println(\"-------------------\")\n",
    "}"
   ]
  },
  {
   "cell_type": "markdown",
   "metadata": {},
   "source": [
    "### 4 - Quais os ingredientes que aparecem nos produtos? Mostre quantos são, os que mais aparecem e os que menos aparecem."
   ]
  },
  {
   "cell_type": "code",
   "execution_count": null,
   "metadata": {},
   "outputs": [],
   "source": []
  },
  {
   "cell_type": "markdown",
   "metadata": {},
   "source": [
    "### 5 - Compute a média e desvio padrão da frequência dos ingredientes"
   ]
  },
  {
   "cell_type": "code",
   "execution_count": null,
   "metadata": {},
   "outputs": [],
   "source": []
  },
  {
   "cell_type": "markdown",
   "metadata": {},
   "source": [
    "### 6 - Quais os ingredientes mais usados por cada marca? E os menos usados?"
   ]
  },
  {
   "cell_type": "code",
   "execution_count": null,
   "metadata": {},
   "outputs": [],
   "source": []
  },
  {
   "cell_type": "markdown",
   "metadata": {},
   "source": [
    "### 7 - Compute alguma informação não demandada pelas questões anteriores e justifique o porquê que tal informação é útil"
   ]
  },
  {
   "cell_type": "code",
   "execution_count": null,
   "metadata": {},
   "outputs": [],
   "source": []
  }
 ],
 "metadata": {
  "kernelspec": {
   "display_name": "Scala (sources)",
   "language": "scala",
   "name": "scala"
  },
  "language_info": {
   "codemirror_mode": "text/x-scala",
   "file_extension": ".scala",
   "mimetype": "text/x-scala",
   "name": "scala",
   "nbconvert_exporter": "script",
   "version": "2.12.8"
  }
 },
 "nbformat": 4,
 "nbformat_minor": 2
}
