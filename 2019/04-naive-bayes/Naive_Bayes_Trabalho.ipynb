{
 "cells": [
  {
   "cell_type": "markdown",
   "metadata": {},
   "source": [
    "# Naive Bayes - Trabalho\n",
    "\n",
    "## Questão 1\n",
    "\n",
    "Implemente um classifacor Naive Bayes para o problema de predizer a qualidade de um carro. Para este fim, utilizaremos um conjunto de dados referente a qualidade de carros, disponível no [UCI](https://archive.ics.uci.edu/ml/datasets/car+evaluation). Este dataset de carros possui as seguintes features e classe:\n",
    "\n",
    "** Attributos **\n",
    "1. buying: vhigh, high, med, low\n",
    "2. maint: vhigh, high, med, low\n",
    "3. doors: 2, 3, 4, 5, more\n",
    "4. persons: 2, 4, more\n",
    "5. lug_boot: small, med, big\n",
    "6. safety: low, med, high\n",
    "\n",
    "** Classes **\n",
    "1. unacc, acc, good, vgood\n",
    "\n",
    "\n",
    "\n"
   ]
  },
  {
   "cell_type": "code",
   "execution_count": 13,
   "metadata": {},
   "outputs": [],
   "source": [
    "import csv\n",
    " \n",
    "def loadCsv(filename):\n",
    "    lines = csv.reader(open(filename, \"r\"))\n",
    "    dataset = list(lines)\n",
    "    for i in range(len(dataset)):\n",
    "        dataset[i] = [x for x in dataset[i]]\n",
    "    return dataset"
   ]
  },
  {
   "cell_type": "code",
   "execution_count": 16,
   "metadata": {},
   "outputs": [
    {
     "name": "stdout",
     "output_type": "stream",
     "text": [
      "O arquivo carData.csv foi carregado com 1728 linhas\n"
     ]
    }
   ],
   "source": [
    "filename = 'carData.csv'\n",
    "dataset = loadCsv(filename)\n",
    "print(('O arquivo {0} foi carregado com {1} linhas').format(filename, len(dataset)))"
   ]
  },
  {
   "cell_type": "code",
   "execution_count": 21,
   "metadata": {
    "collapsed": true
   },
   "outputs": [
    {
     "name": "stdout",
     "output_type": "stream",
     "text": [
      "          0      1      2     3      4     5      6\n",
      "0     vhigh  vhigh      2     2  small   low  unacc\n",
      "1     vhigh  vhigh      2     2  small   med  unacc\n",
      "2     vhigh  vhigh      2     2  small  high  unacc\n",
      "3     vhigh  vhigh      2     2    med   low  unacc\n",
      "4     vhigh  vhigh      2     2    med   med  unacc\n",
      "5     vhigh  vhigh      2     2    med  high  unacc\n",
      "6     vhigh  vhigh      2     2    big   low  unacc\n",
      "7     vhigh  vhigh      2     2    big   med  unacc\n",
      "8     vhigh  vhigh      2     2    big  high  unacc\n",
      "9     vhigh  vhigh      2     4  small   low  unacc\n",
      "10    vhigh  vhigh      2     4  small   med  unacc\n",
      "11    vhigh  vhigh      2     4  small  high  unacc\n",
      "12    vhigh  vhigh      2     4    med   low  unacc\n",
      "13    vhigh  vhigh      2     4    med   med  unacc\n",
      "14    vhigh  vhigh      2     4    med  high  unacc\n",
      "15    vhigh  vhigh      2     4    big   low  unacc\n",
      "16    vhigh  vhigh      2     4    big   med  unacc\n",
      "17    vhigh  vhigh      2     4    big  high  unacc\n",
      "18    vhigh  vhigh      2  more  small   low  unacc\n",
      "19    vhigh  vhigh      2  more  small   med  unacc\n",
      "20    vhigh  vhigh      2  more  small  high  unacc\n",
      "21    vhigh  vhigh      2  more    med   low  unacc\n",
      "22    vhigh  vhigh      2  more    med   med  unacc\n",
      "23    vhigh  vhigh      2  more    med  high  unacc\n",
      "24    vhigh  vhigh      2  more    big   low  unacc\n",
      "25    vhigh  vhigh      2  more    big   med  unacc\n",
      "26    vhigh  vhigh      2  more    big  high  unacc\n",
      "27    vhigh  vhigh      3     2  small   low  unacc\n",
      "28    vhigh  vhigh      3     2  small   med  unacc\n",
      "29    vhigh  vhigh      3     2  small  high  unacc\n",
      "...     ...    ...    ...   ...    ...   ...    ...\n",
      "1698    low    low      4  more    big   low  unacc\n",
      "1699    low    low      4  more    big   med   good\n",
      "1700    low    low      4  more    big  high  vgood\n",
      "1701    low    low  5more     2  small   low  unacc\n",
      "1702    low    low  5more     2  small   med  unacc\n",
      "1703    low    low  5more     2  small  high  unacc\n",
      "1704    low    low  5more     2    med   low  unacc\n",
      "1705    low    low  5more     2    med   med  unacc\n",
      "1706    low    low  5more     2    med  high  unacc\n",
      "1707    low    low  5more     2    big   low  unacc\n",
      "1708    low    low  5more     2    big   med  unacc\n",
      "1709    low    low  5more     2    big  high  unacc\n",
      "1710    low    low  5more     4  small   low  unacc\n",
      "1711    low    low  5more     4  small   med    acc\n",
      "1712    low    low  5more     4  small  high   good\n",
      "1713    low    low  5more     4    med   low  unacc\n",
      "1714    low    low  5more     4    med   med   good\n",
      "1715    low    low  5more     4    med  high  vgood\n",
      "1716    low    low  5more     4    big   low  unacc\n",
      "1717    low    low  5more     4    big   med   good\n",
      "1718    low    low  5more     4    big  high  vgood\n",
      "1719    low    low  5more  more  small   low  unacc\n",
      "1720    low    low  5more  more  small   med    acc\n",
      "1721    low    low  5more  more  small  high   good\n",
      "1722    low    low  5more  more    med   low  unacc\n",
      "1723    low    low  5more  more    med   med   good\n",
      "1724    low    low  5more  more    med  high  vgood\n",
      "1725    low    low  5more  more    big   low  unacc\n",
      "1726    low    low  5more  more    big   med   good\n",
      "1727    low    low  5more  more    big  high  vgood\n",
      "\n",
      "[1728 rows x 7 columns]\n"
     ]
    }
   ],
   "source": [
    "import pandas as pd\n",
    "df = pd.DataFrame(dataset)\n",
    "print(df)"
   ]
  },
  {
   "cell_type": "code",
   "execution_count": 22,
   "metadata": {},
   "outputs": [],
   "source": [
    "labels = {'buiyng': df[0],\n",
    "          'maint': df[1],\n",
    "          'doors': df[2],\n",
    "          'persons': df[3],\n",
    "          'lug_boot': df[4],\n",
    "          'safety': df[5],\n",
    "          'classes': df[6]}"
   ]
  },
  {
   "cell_type": "code",
   "execution_count": 53,
   "metadata": {},
   "outputs": [],
   "source": [
    "df = pd.DataFrame(labels)"
   ]
  },
  {
   "cell_type": "code",
   "execution_count": 54,
   "metadata": {
    "scrolled": true
   },
   "outputs": [],
   "source": [
    "#Transform data into numerical\n",
    "df = df.replace('vhigh', 4)\n",
    "df = df.replace('high', 3)\n",
    "df = df.replace('med', 2)\n",
    "df = df.replace('low', 1)\n",
    "df = df.replace('more', 6)\n",
    "df = df.replace('big', 3)\n",
    "df = df.replace('small', 1)\n",
    "df = df.replace('unacc', 1)\n",
    "df = df.replace('acc', 2)\n",
    "df = df.replace('good', 3)\n",
    "df = df.replace('vgood', 4)\n",
    "df = df.replace('5more', 6)\n",
    "df = df.replace('2', 2)\n",
    "df = df.replace('3', 3)\n",
    "df = df.replace('4', 4)"
   ]
  },
  {
   "cell_type": "code",
   "execution_count": 71,
   "metadata": {},
   "outputs": [],
   "source": [
    "import random\n",
    "def splitDataset(dataset, splitRatio):\n",
    "    trainSize = int(len(dataset) * splitRatio)\n",
    "    trainSet = []\n",
    "    copy = list(dataset)\n",
    "    while len(trainSet) < trainSize:\n",
    "        index = random.randrange(len(copy))\n",
    "        trainSet.append(copy.pop(index))\n",
    "    return [trainSet, copy]"
   ]
  },
  {
   "cell_type": "code",
   "execution_count": 74,
   "metadata": {},
   "outputs": [
    {
     "data": {
      "text/plain": [
       "1209"
      ]
     },
     "execution_count": 74,
     "metadata": {},
     "output_type": "execute_result"
    }
   ],
   "source": [
    "splitRatio = 0.7\n",
    "newDF = df.values.tolist()\n",
    "train, teste = splitDataset(newDF, splitRatio)"
   ]
  },
  {
   "cell_type": "code",
   "execution_count": 57,
   "metadata": {},
   "outputs": [],
   "source": [
    "\n",
    "#Separating using dataframe\n",
    "'''\n",
    "dados = df.drop([\"classes\"],axis=1)\n",
    "classe = df[\"classes\"]\n",
    "train_x, train_y\n",
    "'''\n",
    "\n",
    "\n"
   ]
  },
  {
   "cell_type": "markdown",
   "metadata": {},
   "source": [
    "## Questão 2\n",
    "Crie uma versão de sua implementação usando as funções disponíveis na biblioteca SciKitLearn para o Naive Bayes ([veja aqui](http://scikit-learn.org/stable/modules/naive_bayes.html)) "
   ]
  },
  {
   "cell_type": "markdown",
   "metadata": {},
   "source": [
    "## Questão 3\n",
    "\n",
    "Analise a acurácia dos dois algoritmos e discuta a sua solução."
   ]
  }
 ],
 "metadata": {
  "kernelspec": {
   "display_name": "Python 3",
   "language": "python",
   "name": "python3"
  },
  "language_info": {
   "codemirror_mode": {
    "name": "ipython",
    "version": 3
   },
   "file_extension": ".py",
   "mimetype": "text/x-python",
   "name": "python",
   "nbconvert_exporter": "python",
   "pygments_lexer": "ipython3",
   "version": "3.6.8"
  }
 },
 "nbformat": 4,
 "nbformat_minor": 2
}
