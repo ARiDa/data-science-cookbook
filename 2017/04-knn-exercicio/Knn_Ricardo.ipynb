{
 "cells": [
  {
   "cell_type": "code",
   "execution_count": null,
   "metadata": {
    "collapsed": true
   },
   "outputs": [],
   "source": [
    "#Aula 4 - Exercídio de Classificação com kNN"
   ]
  },
  {
   "cell_type": "code",
   "execution_count": 1,
   "metadata": {
    "collapsed": true
   },
   "outputs": [],
   "source": []
  },
  {
   "cell_type": "code",
   "execution_count": 79,
   "metadata": {
    "collapsed": true
   },
   "outputs": [],
   "source": [
    "import numpy as np\n",
    "import pandas as pd\n",
    "import matplotlib.pyplot as plt\n",
    "\n",
    "from sklearn import datasets\n",
    "from sklearn.model_selection import train_test_split\n",
    "from sklearn import metrics\n",
    "from sklearn.neighbors import DistanceMetric\n",
    "from sklearn import preprocessing"
   ]
  },
  {
   "cell_type": "code",
   "execution_count": 80,
   "metadata": {
    "collapsed": true
   },
   "outputs": [],
   "source": [
    "p = '### Predicting... ###'"
   ]
  },
  {
   "cell_type": "code",
   "execution_count": 81,
   "metadata": {
    "collapsed": true
   },
   "outputs": [],
   "source": [
    "class KNNClassifier(object):\n",
    "    def __init__(self):\n",
    "        self.X_train = None\n",
    "        self.Y_train = None\n",
    "        self.k = 1\n",
    "        self.distance = 'euclidean'\n",
    "\n",
    "    def dist_q(self, a, b):\n",
    "        d = DistanceMetric.get_metric(self.distance)\n",
    "        matD = d.pairwise([a,b])\n",
    "        return matD[0,-1]\n",
    "\n",
    "    def closest(self, row):\n",
    "        dd = [self.dist_q(row, item) for _,item in self.X_train.iterrows()]\n",
    "        v = sorted(dd)[:self.k]\n",
    "       \n",
    "        \n",
    "        n = [dd.index(x) for x in v]\n",
    "       \n",
    "        vt = self.Y_train.iloc[n]\n",
    "        vt = np.array(vt)\n",
    "        \n",
    "        label = np.argmax(np.bincount(vt))\n",
    "        return label\n",
    "\n",
    "    def fit(self, training_data, training_labels, k=1, distance='euclidean'):\n",
    "        self.X_train = training_data\n",
    "        self.Y_train = training_labels\n",
    "        self.k = k\n",
    "        self.distance = distance\n",
    "\n",
    "    def predict(self, to_classify):\n",
    "        print(p)\n",
    "        pr = []\n",
    "        for _,row in to_classify.iterrows():\n",
    "            label = self.closest(row)\n",
    "           \n",
    "            pr.append(label)\n",
    "        return pr"
   ]
  },
  {
   "cell_type": "code",
   "execution_count": 85,
   "metadata": {},
   "outputs": [],
   "source": [
    "dataset = pd.read_csv('train.csv')\n",
    "\n",
    "#Remoção de elementos não relevantes\n",
    "del dataset['Cabin'] \n",
    "del dataset['Ticket'] \n",
    "del dataset['PassengerId'] \n",
    "del dataset['Name']\n",
    "\n",
    "#Mapemaneto / valores NaN\n",
    "dataset['Age'] = dataset.Age.fillna(dataset.Age.mean())\n",
    "dataset = dataset.where((pd.notnull(dataset)), 0)\n",
    "for row in [\"Sex\", \"Embarked\"]:\n",
    "    dataset[row] = dataset[row].astype('category')\n",
    "    dataset[row] = dataset[row].cat.codes\n",
    "datasetCopy = dataset.copy()\n",
    "\n",
    "#Separando o dataset para teinamento\n",
    "list(dataset)\n",
    "Y = dataset['Survived'].copy()\n",
    "del dataset['Survived']\n",
    "X = dataset\n",
    "\n",
    "X_train, X_test, Y_train, Y_test = train_test_split(X,Y,test_size = 0.3)\n",
    "\n"
   ]
  },
  {
   "cell_type": "code",
   "execution_count": 86,
   "metadata": {},
   "outputs": [
    {
     "name": "stdout",
     "output_type": "stream",
     "text": [
      "### Predicting... ###\n",
      "0.753731343284\n"
     ]
    }
   ],
   "source": [
    "knn = KNNClassifier()\n",
    "knn.fit(X_train, Y_train, k=10, distance='minkowski')\n",
    "res = knn.predict(X_test)\n",
    "sc = metrics.accuracy_score(y_pred = res, y_true = Y_test)\n",
    "print(sc)"
   ]
  },
  {
   "cell_type": "code",
   "execution_count": 87,
   "metadata": {},
   "outputs": [
    {
     "data": {
      "text/html": [
       "<div>\n",
       "<style>\n",
       "    .dataframe thead tr:only-child th {\n",
       "        text-align: right;\n",
       "    }\n",
       "\n",
       "    .dataframe thead th {\n",
       "        text-align: left;\n",
       "    }\n",
       "\n",
       "    .dataframe tbody tr th {\n",
       "        vertical-align: top;\n",
       "    }\n",
       "</style>\n",
       "<table border=\"1\" class=\"dataframe\">\n",
       "  <thead>\n",
       "    <tr style=\"text-align: right;\">\n",
       "      <th></th>\n",
       "      <th>Survived</th>\n",
       "      <th>Pclass</th>\n",
       "      <th>Sex</th>\n",
       "      <th>Age</th>\n",
       "      <th>SibSp</th>\n",
       "      <th>Parch</th>\n",
       "      <th>Fare</th>\n",
       "      <th>Embarked</th>\n",
       "    </tr>\n",
       "  </thead>\n",
       "  <tbody>\n",
       "    <tr>\n",
       "      <th>Survived</th>\n",
       "      <td>1.000000</td>\n",
       "      <td>-0.338481</td>\n",
       "      <td>-0.543351</td>\n",
       "      <td>-0.069809</td>\n",
       "      <td>-0.035322</td>\n",
       "      <td>0.081629</td>\n",
       "      <td>0.257307</td>\n",
       "      <td>-0.176509</td>\n",
       "    </tr>\n",
       "    <tr>\n",
       "      <th>Pclass</th>\n",
       "      <td>-0.338481</td>\n",
       "      <td>1.000000</td>\n",
       "      <td>0.131900</td>\n",
       "      <td>-0.331339</td>\n",
       "      <td>0.083081</td>\n",
       "      <td>0.018443</td>\n",
       "      <td>-0.549500</td>\n",
       "      <td>0.173511</td>\n",
       "    </tr>\n",
       "    <tr>\n",
       "      <th>Sex</th>\n",
       "      <td>-0.543351</td>\n",
       "      <td>0.131900</td>\n",
       "      <td>1.000000</td>\n",
       "      <td>0.084153</td>\n",
       "      <td>-0.114631</td>\n",
       "      <td>-0.245489</td>\n",
       "      <td>-0.182333</td>\n",
       "      <td>0.118492</td>\n",
       "    </tr>\n",
       "    <tr>\n",
       "      <th>Age</th>\n",
       "      <td>-0.069809</td>\n",
       "      <td>-0.331339</td>\n",
       "      <td>0.084153</td>\n",
       "      <td>1.000000</td>\n",
       "      <td>-0.232625</td>\n",
       "      <td>-0.179191</td>\n",
       "      <td>0.091566</td>\n",
       "      <td>-0.039610</td>\n",
       "    </tr>\n",
       "    <tr>\n",
       "      <th>SibSp</th>\n",
       "      <td>-0.035322</td>\n",
       "      <td>0.083081</td>\n",
       "      <td>-0.114631</td>\n",
       "      <td>-0.232625</td>\n",
       "      <td>1.000000</td>\n",
       "      <td>0.414838</td>\n",
       "      <td>0.159651</td>\n",
       "      <td>0.071480</td>\n",
       "    </tr>\n",
       "    <tr>\n",
       "      <th>Parch</th>\n",
       "      <td>0.081629</td>\n",
       "      <td>0.018443</td>\n",
       "      <td>-0.245489</td>\n",
       "      <td>-0.179191</td>\n",
       "      <td>0.414838</td>\n",
       "      <td>1.000000</td>\n",
       "      <td>0.216225</td>\n",
       "      <td>0.043351</td>\n",
       "    </tr>\n",
       "    <tr>\n",
       "      <th>Fare</th>\n",
       "      <td>0.257307</td>\n",
       "      <td>-0.549500</td>\n",
       "      <td>-0.182333</td>\n",
       "      <td>0.091566</td>\n",
       "      <td>0.159651</td>\n",
       "      <td>0.216225</td>\n",
       "      <td>1.000000</td>\n",
       "      <td>-0.230365</td>\n",
       "    </tr>\n",
       "    <tr>\n",
       "      <th>Embarked</th>\n",
       "      <td>-0.176509</td>\n",
       "      <td>0.173511</td>\n",
       "      <td>0.118492</td>\n",
       "      <td>-0.039610</td>\n",
       "      <td>0.071480</td>\n",
       "      <td>0.043351</td>\n",
       "      <td>-0.230365</td>\n",
       "      <td>1.000000</td>\n",
       "    </tr>\n",
       "  </tbody>\n",
       "</table>\n",
       "</div>"
      ],
      "text/plain": [
       "          Survived    Pclass       Sex       Age     SibSp     Parch  \\\n",
       "Survived  1.000000 -0.338481 -0.543351 -0.069809 -0.035322  0.081629   \n",
       "Pclass   -0.338481  1.000000  0.131900 -0.331339  0.083081  0.018443   \n",
       "Sex      -0.543351  0.131900  1.000000  0.084153 -0.114631 -0.245489   \n",
       "Age      -0.069809 -0.331339  0.084153  1.000000 -0.232625 -0.179191   \n",
       "SibSp    -0.035322  0.083081 -0.114631 -0.232625  1.000000  0.414838   \n",
       "Parch     0.081629  0.018443 -0.245489 -0.179191  0.414838  1.000000   \n",
       "Fare      0.257307 -0.549500 -0.182333  0.091566  0.159651  0.216225   \n",
       "Embarked -0.176509  0.173511  0.118492 -0.039610  0.071480  0.043351   \n",
       "\n",
       "              Fare  Embarked  \n",
       "Survived  0.257307 -0.176509  \n",
       "Pclass   -0.549500  0.173511  \n",
       "Sex      -0.182333  0.118492  \n",
       "Age       0.091566 -0.039610  \n",
       "SibSp     0.159651  0.071480  \n",
       "Parch     0.216225  0.043351  \n",
       "Fare      1.000000 -0.230365  \n",
       "Embarked -0.230365  1.000000  "
      ]
     },
     "execution_count": 87,
     "metadata": {},
     "output_type": "execute_result"
    }
   ],
   "source": [
    "#Correlação\n",
    "c = datasetCopy.corr()\n",
    "c"
   ]
  },
  {
   "cell_type": "code",
   "execution_count": 88,
   "metadata": {
    "collapsed": true
   },
   "outputs": [],
   "source": [
    "#Normalizando dados\n",
    "dNorm = pd.DataFrame(preprocessing.scale(dataset))"
   ]
  },
  {
   "cell_type": "code",
   "execution_count": 89,
   "metadata": {},
   "outputs": [
    {
     "data": {
      "text/html": [
       "<div>\n",
       "<style>\n",
       "    .dataframe thead tr:only-child th {\n",
       "        text-align: right;\n",
       "    }\n",
       "\n",
       "    .dataframe thead th {\n",
       "        text-align: left;\n",
       "    }\n",
       "\n",
       "    .dataframe tbody tr th {\n",
       "        vertical-align: top;\n",
       "    }\n",
       "</style>\n",
       "<table border=\"1\" class=\"dataframe\">\n",
       "  <thead>\n",
       "    <tr style=\"text-align: right;\">\n",
       "      <th></th>\n",
       "      <th>0</th>\n",
       "      <th>1</th>\n",
       "      <th>2</th>\n",
       "      <th>3</th>\n",
       "      <th>4</th>\n",
       "      <th>5</th>\n",
       "      <th>6</th>\n",
       "    </tr>\n",
       "  </thead>\n",
       "  <tbody>\n",
       "    <tr>\n",
       "      <th>0</th>\n",
       "      <td>0.827377</td>\n",
       "      <td>0.737695</td>\n",
       "      <td>-0.592481</td>\n",
       "      <td>0.432793</td>\n",
       "      <td>-0.473674</td>\n",
       "      <td>-0.502445</td>\n",
       "      <td>0.587966</td>\n",
       "    </tr>\n",
       "    <tr>\n",
       "      <th>1</th>\n",
       "      <td>-1.566107</td>\n",
       "      <td>-1.355574</td>\n",
       "      <td>0.638789</td>\n",
       "      <td>0.432793</td>\n",
       "      <td>-0.473674</td>\n",
       "      <td>0.786845</td>\n",
       "      <td>-1.912644</td>\n",
       "    </tr>\n",
       "    <tr>\n",
       "      <th>2</th>\n",
       "      <td>0.827377</td>\n",
       "      <td>-1.355574</td>\n",
       "      <td>-0.284663</td>\n",
       "      <td>-0.474545</td>\n",
       "      <td>-0.473674</td>\n",
       "      <td>-0.488854</td>\n",
       "      <td>0.587966</td>\n",
       "    </tr>\n",
       "    <tr>\n",
       "      <th>3</th>\n",
       "      <td>-1.566107</td>\n",
       "      <td>-1.355574</td>\n",
       "      <td>0.407926</td>\n",
       "      <td>0.432793</td>\n",
       "      <td>-0.473674</td>\n",
       "      <td>0.420730</td>\n",
       "      <td>0.587966</td>\n",
       "    </tr>\n",
       "    <tr>\n",
       "      <th>4</th>\n",
       "      <td>0.827377</td>\n",
       "      <td>0.737695</td>\n",
       "      <td>0.407926</td>\n",
       "      <td>-0.474545</td>\n",
       "      <td>-0.473674</td>\n",
       "      <td>-0.486337</td>\n",
       "      <td>0.587966</td>\n",
       "    </tr>\n",
       "    <tr>\n",
       "      <th>5</th>\n",
       "      <td>0.827377</td>\n",
       "      <td>0.737695</td>\n",
       "      <td>0.000000</td>\n",
       "      <td>-0.474545</td>\n",
       "      <td>-0.473674</td>\n",
       "      <td>-0.478116</td>\n",
       "      <td>-0.662339</td>\n",
       "    </tr>\n",
       "    <tr>\n",
       "      <th>6</th>\n",
       "      <td>-1.566107</td>\n",
       "      <td>0.737695</td>\n",
       "      <td>1.870059</td>\n",
       "      <td>-0.474545</td>\n",
       "      <td>-0.473674</td>\n",
       "      <td>0.395814</td>\n",
       "      <td>0.587966</td>\n",
       "    </tr>\n",
       "  </tbody>\n",
       "</table>\n",
       "</div>"
      ],
      "text/plain": [
       "          0         1         2         3         4         5         6\n",
       "0  0.827377  0.737695 -0.592481  0.432793 -0.473674 -0.502445  0.587966\n",
       "1 -1.566107 -1.355574  0.638789  0.432793 -0.473674  0.786845 -1.912644\n",
       "2  0.827377 -1.355574 -0.284663 -0.474545 -0.473674 -0.488854  0.587966\n",
       "3 -1.566107 -1.355574  0.407926  0.432793 -0.473674  0.420730  0.587966\n",
       "4  0.827377  0.737695  0.407926 -0.474545 -0.473674 -0.486337  0.587966\n",
       "5  0.827377  0.737695  0.000000 -0.474545 -0.473674 -0.478116 -0.662339\n",
       "6 -1.566107  0.737695  1.870059 -0.474545 -0.473674  0.395814  0.587966"
      ]
     },
     "execution_count": 89,
     "metadata": {},
     "output_type": "execute_result"
    }
   ],
   "source": [
    "dNorm.head(7)"
   ]
  },
  {
   "cell_type": "code",
   "execution_count": 90,
   "metadata": {},
   "outputs": [],
   "source": [
    "    dNorm[0] *= np.absolute(c['Survived']['Pclass'])\n",
    "    dNorm[1] *= np.absolute(c['Survived']['Sex'])\n",
    "    dNorm[2] *= np.absolute(c['Survived']['Age'])\n",
    "    dNorm[3] *= np.absolute(c['Survived']['SibSp'])\n",
    "    dNorm[4] *= np.absolute(c['Survived']['Parch'])\n",
    "    dNorm[5] *= np.absolute(c['Survived']['Fare'])\n",
    "    dNorm[6] *= np.absolute(c['Survived']['Embarked'])"
   ]
  },
  {
   "cell_type": "code",
   "execution_count": 91,
   "metadata": {},
   "outputs": [
    {
     "data": {
      "text/html": [
       "<div>\n",
       "<style>\n",
       "    .dataframe thead tr:only-child th {\n",
       "        text-align: right;\n",
       "    }\n",
       "\n",
       "    .dataframe thead th {\n",
       "        text-align: left;\n",
       "    }\n",
       "\n",
       "    .dataframe tbody tr th {\n",
       "        vertical-align: top;\n",
       "    }\n",
       "</style>\n",
       "<table border=\"1\" class=\"dataframe\">\n",
       "  <thead>\n",
       "    <tr style=\"text-align: right;\">\n",
       "      <th></th>\n",
       "      <th>0</th>\n",
       "      <th>1</th>\n",
       "      <th>2</th>\n",
       "      <th>3</th>\n",
       "      <th>4</th>\n",
       "      <th>5</th>\n",
       "      <th>6</th>\n",
       "    </tr>\n",
       "  </thead>\n",
       "  <tbody>\n",
       "    <tr>\n",
       "      <th>0</th>\n",
       "      <td>0.280052</td>\n",
       "      <td>0.400828</td>\n",
       "      <td>-0.041360</td>\n",
       "      <td>0.015287</td>\n",
       "      <td>-0.038666</td>\n",
       "      <td>-0.129282</td>\n",
       "      <td>0.103781</td>\n",
       "    </tr>\n",
       "    <tr>\n",
       "      <th>1</th>\n",
       "      <td>-0.530097</td>\n",
       "      <td>-0.736553</td>\n",
       "      <td>0.044593</td>\n",
       "      <td>0.015287</td>\n",
       "      <td>-0.038666</td>\n",
       "      <td>0.202460</td>\n",
       "      <td>-0.337599</td>\n",
       "    </tr>\n",
       "    <tr>\n",
       "      <th>2</th>\n",
       "      <td>0.280052</td>\n",
       "      <td>-0.736553</td>\n",
       "      <td>-0.019872</td>\n",
       "      <td>-0.016762</td>\n",
       "      <td>-0.038666</td>\n",
       "      <td>-0.125785</td>\n",
       "      <td>0.103781</td>\n",
       "    </tr>\n",
       "    <tr>\n",
       "      <th>3</th>\n",
       "      <td>-0.530097</td>\n",
       "      <td>-0.736553</td>\n",
       "      <td>0.028477</td>\n",
       "      <td>0.015287</td>\n",
       "      <td>-0.038666</td>\n",
       "      <td>0.108257</td>\n",
       "      <td>0.103781</td>\n",
       "    </tr>\n",
       "    <tr>\n",
       "      <th>4</th>\n",
       "      <td>0.280052</td>\n",
       "      <td>0.400828</td>\n",
       "      <td>0.028477</td>\n",
       "      <td>-0.016762</td>\n",
       "      <td>-0.038666</td>\n",
       "      <td>-0.125138</td>\n",
       "      <td>0.103781</td>\n",
       "    </tr>\n",
       "    <tr>\n",
       "      <th>5</th>\n",
       "      <td>0.280052</td>\n",
       "      <td>0.400828</td>\n",
       "      <td>0.000000</td>\n",
       "      <td>-0.016762</td>\n",
       "      <td>-0.038666</td>\n",
       "      <td>-0.123022</td>\n",
       "      <td>-0.116909</td>\n",
       "    </tr>\n",
       "    <tr>\n",
       "      <th>6</th>\n",
       "      <td>-0.530097</td>\n",
       "      <td>0.400828</td>\n",
       "      <td>0.130546</td>\n",
       "      <td>-0.016762</td>\n",
       "      <td>-0.038666</td>\n",
       "      <td>0.101845</td>\n",
       "      <td>0.103781</td>\n",
       "    </tr>\n",
       "  </tbody>\n",
       "</table>\n",
       "</div>"
      ],
      "text/plain": [
       "          0         1         2         3         4         5         6\n",
       "0  0.280052  0.400828 -0.041360  0.015287 -0.038666 -0.129282  0.103781\n",
       "1 -0.530097 -0.736553  0.044593  0.015287 -0.038666  0.202460 -0.337599\n",
       "2  0.280052 -0.736553 -0.019872 -0.016762 -0.038666 -0.125785  0.103781\n",
       "3 -0.530097 -0.736553  0.028477  0.015287 -0.038666  0.108257  0.103781\n",
       "4  0.280052  0.400828  0.028477 -0.016762 -0.038666 -0.125138  0.103781\n",
       "5  0.280052  0.400828  0.000000 -0.016762 -0.038666 -0.123022 -0.116909\n",
       "6 -0.530097  0.400828  0.130546 -0.016762 -0.038666  0.101845  0.103781"
      ]
     },
     "execution_count": 91,
     "metadata": {},
     "output_type": "execute_result"
    }
   ],
   "source": [
    "dNorm.head(7)"
   ]
  },
  {
   "cell_type": "code",
   "execution_count": 92,
   "metadata": {
    "collapsed": true
   },
   "outputs": [],
   "source": [
    "X = dNorm\n",
    "X_train, X_test, Y_train, Y_test = train_test_split(X,Y,test_size=0.25)"
   ]
  },
  {
   "cell_type": "code",
   "execution_count": 93,
   "metadata": {},
   "outputs": [
    {
     "name": "stdout",
     "output_type": "stream",
     "text": [
      "### Predicting... ###\n",
      "0.811659192825\n"
     ]
    }
   ],
   "source": [
    "knn = KNNClassifier()\n",
    "knn.fit(X_train, Y_train, k=10, distance='euclidean')\n",
    "res = knn.predict(X_test)\n",
    "sc = metrics.accuracy_score(y_pred = res, y_true = Y_test)\n",
    "print(sc)"
   ]
  },
  {
   "cell_type": "code",
   "execution_count": 97,
   "metadata": {},
   "outputs": [
    {
     "name": "stdout",
     "output_type": "stream",
     "text": [
      "### Predicting... ###\n",
      "K= 1  Score= 0.784753363229\n",
      "### Predicting... ###\n",
      "K= 3  Score= 0.816143497758\n",
      "### Predicting... ###\n",
      "K= 5  Score= 0.820627802691\n",
      "### Predicting... ###\n",
      "K= 7  Score= 0.829596412556\n",
      "### Predicting... ###\n",
      "K= 9  Score= 0.793721973094\n",
      "### Predicting... ###\n",
      "K= 11  Score= 0.811659192825\n",
      "### Predicting... ###\n",
      "K= 13  Score= 0.829596412556\n",
      "### Predicting... ###\n",
      "K= 15  Score= 0.80269058296\n",
      "### Predicting... ###\n",
      "K= 17  Score= 0.807174887892\n",
      "### Predicting... ###\n",
      "K= 19  Score= 0.811659192825\n"
     ]
    }
   ],
   "source": [
    "knn = KNNClassifier()\n",
    "acc = []\n",
    "\n",
    "for x in range(0,10):\n",
    "    k = 1+x*2\n",
    "    knn.fit(X_train, Y_train, k=k, distance='euclidean')\n",
    "    res = knn.predict(X_test)\n",
    "    sc = metrics.accuracy_score(y_pred = res, y_true = Y_test)\n",
    "    print('K=', k, ' Score=', sc)\n",
    "    acc.append(sc)"
   ]
  },
  {
   "cell_type": "code",
   "execution_count": 99,
   "metadata": {},
   "outputs": [],
   "source": [
    "fig,ex = plt.subplots()\n",
    "ex.plot([1+x*2 for x in range(0,10)],acc,'g',linewidth=4)\n",
    "ex.set_ylabel('Acurracy')\n",
    "ex.set_xlabel('Vizinhos')\n",
    "plt.grid()\n",
    "#plt.show()"
   ]
  },
  {
   "cell_type": "code",
   "execution_count": 100,
   "metadata": {},
   "outputs": [
    {
     "name": "stdout",
     "output_type": "stream",
     "text": [
      "### Predicting... ###\n"
     ]
    },
    {
     "data": {
      "text/plain": [
       "0.82959641255605376"
      ]
     },
     "execution_count": 100,
     "metadata": {},
     "output_type": "execute_result"
    }
   ],
   "source": [
    "maxAcc = max(acc)\n",
    "mK = acc.index(maxAcc)*4 + 1\n",
    "\n",
    "knn.fit(X_train, Y_train, k=mK, distance='euclidean')\n",
    "res = knn.predict(X_test)\n",
    "sc = metrics.accuracy_score(y_pred = res, y_true = Y_test)\n",
    "sc"
   ]
  },
  {
   "cell_type": "code",
   "execution_count": 44,
   "metadata": {},
   "outputs": [
    {
     "name": "stdout",
     "output_type": "stream",
     "text": [
      "             precision    recall  f1-score   support\n",
      "\n",
      "          0       0.88      0.80      0.84       158\n",
      "          1       0.60      0.74      0.66        65\n",
      "\n",
      "avg / total       0.80      0.78      0.79       223\n",
      "\n"
     ]
    }
   ],
   "source": [
    "print(metrics.classification_report(res, Y_test))"
   ]
  },
  {
   "cell_type": "code",
   "execution_count": null,
   "metadata": {
    "collapsed": true
   },
   "outputs": [],
   "source": []
  }
 ],
 "metadata": {
  "kernelspec": {
   "display_name": "Python 3",
   "language": "python",
   "name": "python3"
  },
  "language_info": {
   "codemirror_mode": {
    "name": "ipython",
    "version": 3
   },
   "file_extension": ".py",
   "mimetype": "text/x-python",
   "name": "python",
   "nbconvert_exporter": "python",
   "pygments_lexer": "ipython3",
   "version": "3.6.2"
  }
 },
 "nbformat": 4,
 "nbformat_minor": 2
}
