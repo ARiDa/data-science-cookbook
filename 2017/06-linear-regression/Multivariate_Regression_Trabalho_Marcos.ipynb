{
 "cells": [
  {
   "cell_type": "markdown",
   "metadata": {},
   "source": [
    "# Regressão Linear Multivariada - Trabalho\n",
    "\n",
    "## Estudo de caso: Qualidade de Vinhos\n",
    "\n",
    "Nesta trabalho, treinaremos um modelo de regressão linear usando descendência de gradiente estocástico no conjunto de dados da Qualidade do Vinho. O exemplo pressupõe que uma cópia CSV do conjunto de dados está no diretório de trabalho atual com o nome do arquivo *winequality-white.csv*.\n",
    "\n",
    "O conjunto de dados de qualidade do vinho envolve a previsão da qualidade dos vinhos brancos em uma escala, com medidas químicas de cada vinho. É um problema de classificação multiclasse, mas também pode ser enquadrado como um problema de regressão. O número de observações para cada classe não é equilibrado. Existem 4.898 observações com 11 variáveis de entrada e 1 variável de saída. Os nomes das variáveis são os seguintes:\n",
    "\n",
    "1. Fixed acidity.\n",
    "2. Volatile acidity.\n",
    "3. Citric acid.\n",
    "4. Residual sugar.\n",
    "5. Chlorides.\n",
    "6. Free sulfur dioxide. \n",
    "7. Total sulfur dioxide. \n",
    "8. Density.\n",
    "9. pH.\n",
    "10. Sulphates.\n",
    "11. Alcohol.\n",
    "12. Quality (score between 0 and 10).\n",
    "\n",
    "O desempenho de referencia de predição do valor médio é um RMSE de aproximadamente 0.148 pontos de qualidade.\n",
    "\n",
    "Utilize o exemplo apresentado no tutorial e altere-o de forma a carregar os dados e analisar a acurácia de sua solução. \n"
   ]
  },
  {
   "cell_type": "code",
   "execution_count": 58,
   "metadata": {},
   "outputs": [],
   "source": [
    "import pandas as pd\n",
    "import numpy as np\n",
    "from sklearn.model_selection import train_test_split \n",
    "from sklearn.preprocessing import normalize\n",
    "from math import sqrt\n",
    "\n",
    "\n",
    "def predict(row, coefficients):    \n",
    "    yhat = coefficients[0]\n",
    "    for i in range(len(row)-1):\n",
    "        yhat += coefficients[i + 1] * row[i]\n",
    "    return yhat\n",
    "\n",
    "\n",
    "def coefficients_sgd(train, l_rate, n_epoch):\n",
    "    coef = [0.0 for i in range(len(train[0]))]\n",
    "    print ('Coeficiente Inicial={0}' % (coef))\n",
    "    for epoch in range(n_epoch):\n",
    "        sum_error = 0\n",
    "        for row in train:\n",
    "            yhat = predict(row, coef)\n",
    "            error = yhat - row[-1]\n",
    "            sum_error += error**2\n",
    "            coef[0] = coef[0] - l_rate * error\n",
    "            for i in range(len(row)-1):\n",
    "                coef[i + 1] = coef[i + 1] - l_rate * error * row[i] \n",
    "        print(('epoch=%d, lrate=%.3f, error=%.3f' % (epoch, l_rate, sum_error)))\n",
    "    return coef\n",
    "\n",
    "\n",
    "def rmse_metric(actual, predicted):\n",
    "  sum_error = 0.0\n",
    "  for i in range(len(actual)):\n",
    "    prediction_error = predicted[i] - actual[i]\n",
    "    sum_error += (prediction_error ** 2)\n",
    "  mean_error = sum_error / float(len(actual))\n",
    "  return sqrt(mean_error)\n",
    "\n",
    "dataset = pd.read_csv(\"winequality-white.csv\", delimiter=\";\")\n",
    "dataset = dataset.iloc[:,:].values\n",
    "dataset = normalize(dataset)\n",
    "data_train, data_test = train_test_split(dataset, test_size=0.2, random_state=0)\n",
    "\n",
    "# print(data_train)"
   ]
  },
  {
   "cell_type": "code",
   "execution_count": 44,
   "metadata": {},
   "outputs": [
    {
     "name": "stdout",
     "output_type": "stream",
     "text": [
      "Coeficiente Inicial={0}\n",
      "epoch=0, lrate=0.010, error=1.390\n",
      "epoch=1, lrate=0.010, error=1.169\n",
      "epoch=2, lrate=0.010, error=1.025\n",
      "epoch=3, lrate=0.010, error=0.902\n",
      "epoch=4, lrate=0.010, error=0.797\n",
      "epoch=5, lrate=0.010, error=0.708\n",
      "epoch=6, lrate=0.010, error=0.632\n",
      "epoch=7, lrate=0.010, error=0.567\n",
      "epoch=8, lrate=0.010, error=0.512\n",
      "epoch=9, lrate=0.010, error=0.465\n",
      "epoch=10, lrate=0.010, error=0.425\n",
      "epoch=11, lrate=0.010, error=0.391\n",
      "epoch=12, lrate=0.010, error=0.361\n",
      "epoch=13, lrate=0.010, error=0.337\n",
      "epoch=14, lrate=0.010, error=0.316\n",
      "epoch=15, lrate=0.010, error=0.298\n",
      "epoch=16, lrate=0.010, error=0.282\n",
      "epoch=17, lrate=0.010, error=0.269\n",
      "epoch=18, lrate=0.010, error=0.258\n",
      "epoch=19, lrate=0.010, error=0.249\n",
      "epoch=20, lrate=0.010, error=0.240\n",
      "epoch=21, lrate=0.010, error=0.234\n",
      "epoch=22, lrate=0.010, error=0.228\n",
      "epoch=23, lrate=0.010, error=0.223\n",
      "epoch=24, lrate=0.010, error=0.218\n",
      "epoch=25, lrate=0.010, error=0.215\n",
      "epoch=26, lrate=0.010, error=0.212\n",
      "epoch=27, lrate=0.010, error=0.209\n",
      "epoch=28, lrate=0.010, error=0.207\n",
      "epoch=29, lrate=0.010, error=0.205\n",
      "epoch=30, lrate=0.010, error=0.203\n",
      "epoch=31, lrate=0.010, error=0.202\n",
      "epoch=32, lrate=0.010, error=0.200\n",
      "epoch=33, lrate=0.010, error=0.199\n",
      "epoch=34, lrate=0.010, error=0.198\n",
      "epoch=35, lrate=0.010, error=0.198\n",
      "epoch=36, lrate=0.010, error=0.197\n",
      "epoch=37, lrate=0.010, error=0.196\n",
      "epoch=38, lrate=0.010, error=0.196\n",
      "epoch=39, lrate=0.010, error=0.195\n",
      "epoch=40, lrate=0.010, error=0.195\n",
      "epoch=41, lrate=0.010, error=0.195\n",
      "epoch=42, lrate=0.010, error=0.194\n",
      "epoch=43, lrate=0.010, error=0.194\n",
      "epoch=44, lrate=0.010, error=0.194\n",
      "epoch=45, lrate=0.010, error=0.194\n",
      "epoch=46, lrate=0.010, error=0.193\n",
      "epoch=47, lrate=0.010, error=0.193\n",
      "epoch=48, lrate=0.010, error=0.193\n",
      "epoch=49, lrate=0.010, error=0.193\n",
      "[0.03686037498482199, 0.16601797893593256, 0.004796408125562502, 0.0078139804335725, 0.005237382989502249, 0.0006450326976284741, 0.007540716614910882, -0.03409855286952567, 0.026488710108850427, 0.08639950546158556, 0.01310656213790981, 0.332228979081506]\n"
     ]
    }
   ],
   "source": [
    "l_rate = 0.01\n",
    "n_epoch = 50\n",
    "\n",
    "coef = coefficients_sgd(data_train.tolist(), l_rate, n_epoch)\n",
    "print(coef)"
   ]
  },
  {
   "cell_type": "code",
   "execution_count": 59,
   "metadata": {},
   "outputs": [],
   "source": [
    "def test_predict(dataset, coefficients):\n",
    "    y_pred = []\n",
    "    for row in dataset:\n",
    "        yhat = coefficients[0]\n",
    "        for i in range(len(row)-1):\n",
    "            yhat += coefficients[i + 1] * row[i]\n",
    "        y_pred += [yhat]\n",
    "    return y_pred"
   ]
  },
  {
   "cell_type": "code",
   "execution_count": 60,
   "metadata": {},
   "outputs": [],
   "source": [
    "y_pred = test_predict(data_test, coef)"
   ]
  },
  {
   "cell_type": "code",
   "execution_count": 61,
   "metadata": {},
   "outputs": [
    {
     "ename": "TypeError",
     "evalue": "only length-1 arrays can be converted to Python scalars",
     "output_type": "error",
     "traceback": [
      "\u001b[0;31m---------------------------------------------------------------------------\u001b[0m",
      "\u001b[0;31mTypeError\u001b[0m                                 Traceback (most recent call last)",
      "\u001b[0;32m<ipython-input-61-2bea7e017228>\u001b[0m in \u001b[0;36m<module>\u001b[0;34m()\u001b[0m\n\u001b[0;32m----> 1\u001b[0;31m \u001b[0mprint\u001b[0m\u001b[0;34m(\u001b[0m\u001b[0mrmse_metric\u001b[0m\u001b[0;34m(\u001b[0m\u001b[0mdata_test\u001b[0m\u001b[0;34m[\u001b[0m\u001b[0;34m:\u001b[0m\u001b[0;34m,\u001b[0m\u001b[0;34m:\u001b[0m\u001b[0;34m-\u001b[0m\u001b[0;36m1\u001b[0m\u001b[0;34m]\u001b[0m\u001b[0;34m,\u001b[0m \u001b[0my_pred\u001b[0m\u001b[0;34m)\u001b[0m\u001b[0;34m)\u001b[0m\u001b[0;34m\u001b[0m\u001b[0m\n\u001b[0m",
      "\u001b[0;32m<ipython-input-58-d8d12ee866e9>\u001b[0m in \u001b[0;36mrmse_metric\u001b[0;34m(actual, predicted)\u001b[0m\n\u001b[1;32m     35\u001b[0m     \u001b[0msum_error\u001b[0m \u001b[0;34m+=\u001b[0m \u001b[0;34m(\u001b[0m\u001b[0mprediction_error\u001b[0m \u001b[0;34m**\u001b[0m \u001b[0;36m2\u001b[0m\u001b[0;34m)\u001b[0m\u001b[0;34m\u001b[0m\u001b[0m\n\u001b[1;32m     36\u001b[0m   \u001b[0mmean_error\u001b[0m \u001b[0;34m=\u001b[0m \u001b[0msum_error\u001b[0m \u001b[0;34m/\u001b[0m \u001b[0mfloat\u001b[0m\u001b[0;34m(\u001b[0m\u001b[0mlen\u001b[0m\u001b[0;34m(\u001b[0m\u001b[0mactual\u001b[0m\u001b[0;34m)\u001b[0m\u001b[0;34m)\u001b[0m\u001b[0;34m\u001b[0m\u001b[0m\n\u001b[0;32m---> 37\u001b[0;31m   \u001b[0;32mreturn\u001b[0m \u001b[0msqrt\u001b[0m\u001b[0;34m(\u001b[0m\u001b[0mmean_error\u001b[0m\u001b[0;34m)\u001b[0m\u001b[0;34m\u001b[0m\u001b[0m\n\u001b[0m\u001b[1;32m     38\u001b[0m \u001b[0;34m\u001b[0m\u001b[0m\n\u001b[1;32m     39\u001b[0m \u001b[0mdataset\u001b[0m \u001b[0;34m=\u001b[0m \u001b[0mpd\u001b[0m\u001b[0;34m.\u001b[0m\u001b[0mread_csv\u001b[0m\u001b[0;34m(\u001b[0m\u001b[0;34m\"winequality-white.csv\"\u001b[0m\u001b[0;34m,\u001b[0m \u001b[0mdelimiter\u001b[0m\u001b[0;34m=\u001b[0m\u001b[0;34m\";\"\u001b[0m\u001b[0;34m)\u001b[0m\u001b[0;34m\u001b[0m\u001b[0m\n",
      "\u001b[0;31mTypeError\u001b[0m: only length-1 arrays can be converted to Python scalars"
     ]
    }
   ],
   "source": [
    "print(rmse_metric(data_test[:,:-1], y_pred))"
   ]
  }
 ],
 "metadata": {
  "kernelspec": {
   "display_name": "Python 3",
   "language": "python",
   "name": "python3"
  },
  "language_info": {
   "codemirror_mode": {
    "name": "ipython",
    "version": 3
   },
   "file_extension": ".py",
   "mimetype": "text/x-python",
   "name": "python",
   "nbconvert_exporter": "python",
   "pygments_lexer": "ipython3",
   "version": "3.6.3"
  }
 },
 "nbformat": 4,
 "nbformat_minor": 2
}
