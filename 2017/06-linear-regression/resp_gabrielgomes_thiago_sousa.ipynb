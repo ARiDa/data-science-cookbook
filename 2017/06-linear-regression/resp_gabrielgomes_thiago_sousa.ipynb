{
 "cells": [
  {
   "cell_type": "markdown",
   "metadata": {},
   "source": [
    "# Regressão Linear Simples - Trabalho\n",
    "##### Thiago de Sousa - 374204 e Gabriel Gomes - 374178\n",
    "\n",
    "## Estudo de caso: Seguro de automóvel sueco\n",
    "\n",
    "Agora, sabemos como implementar um modelo de regressão linear simples. Vamos aplicá-lo ao conjunto de dados do seguro de automóveis sueco. Esta seção assume que você baixou o conjunto de dados para o arquivo insurance.csv, o qual está disponível no notebook respectivo.\n",
    "\n",
    "O conjunto de dados envolve a previsão do pagamento total de todas as reclamações em milhares de Kronor sueco, dado o número total de reclamações. É um dataset composto por 63 observações com 1 variável de entrada e 1 variável de saída. Os nomes das variáveis são os seguintes:\n",
    "\n",
    "1. Número de reivindicações.\n",
    "2. Pagamento total para todas as reclamações em milhares de Kronor sueco.\n",
    "\n",
    "Voce deve adicionar algumas funções acessórias à regressão linear simples. Especificamente, uma função para carregar o arquivo CSV chamado *load_csv ()*, uma função para converter um conjunto de dados carregado para números chamado *str_column_to_float ()*, uma função para avaliar um algoritmo usando um conjunto de treino e teste chamado *split_train_split ()*, a função para calcular RMSE chamado *rmse_metric ()* e uma função para avaliar um algoritmo chamado *evaluate_algorithm()*.\n",
    "\n",
    "Utilize um conjunto de dados de treinamento de 60% dos dados para preparar o modelo. As previsões devem ser feitas nos restantes 40%. \n",
    "\n",
    "Compare a performabce do seu algoritmo com o algoritmo baseline, o qual utiliza a média dos pagamentos realizados para realizar a predição ( a média é 72,251 mil Kronor).\n"
   ]
  },
  {
   "cell_type": "code",
   "execution_count": 4,
   "metadata": {
    "collapsed": true
   },
   "outputs": [],
   "source": [
    "import csv\n",
    "import matplotlib.pyplot as plt\n",
    "from math import sqrt\n",
    "from random import randrange"
   ]
  },
  {
   "cell_type": "code",
   "execution_count": 5,
   "metadata": {},
   "outputs": [],
   "source": [
    "def str_column_to_float(data):\n",
    "    newData = []\n",
    "    for lines in data:\n",
    "        aux = [float(x) for x in lines]\n",
    "        newData.append(aux)\n",
    "    return newData\n",
    "\n",
    "def load_csv(filename):\n",
    "    lines = csv.reader(open(filename + \".csv\", \"r\"))\n",
    "    data = list(lines)\n",
    "    return str_column_to_float(data)\n",
    "\n",
    "def split_train_test(data, test_size=0.4):\n",
    "    dataTrain = list(data)\n",
    "    dataTest = []\n",
    "    size = int(len(dataTrain)*test_size)\n",
    "    for _ in range(size):\n",
    "        idx = randrange(len(dataTrain))\n",
    "        dataTest.append(dataTrain.pop(idx))\n",
    "    return [dataTrain, dataTest]\n",
    "\n",
    "def mean(values):\n",
    "    return sum(values)/len(values)\n",
    "\n",
    "def variance(values, mean):\n",
    "    return sum([(x-mean)**2 for x in values])\n",
    "\n",
    "def covariance(x, mean_x, y, mean_y):\n",
    "    covar = 0.0\n",
    "    for i in range(len(x)):\n",
    "        covar += (x[i] - mean_x) * (y[i] - mean_y)\n",
    "    return covar\n",
    "\n",
    "def coefficients(dataset):\n",
    "    x = [row[0] for row in dataset]\n",
    "    y = [row[1] for row in dataset]\n",
    "    x_mean, y_mean = mean(x), mean(y)\n",
    "    b1 = covariance(x, x_mean, y, y_mean) / variance(x, x_mean)\n",
    "    b0 = y_mean - b1 * x_mean\n",
    "    return [b0, b1]\n",
    "\n",
    "def simple_linear_regression(train, test):\n",
    "    predictions = list()\n",
    "    b0, b1 = coefficients(train)\n",
    "    for row in test:\n",
    "        ypred = b0 + b1 * row[0]\n",
    "        predictions.append(ypred)\n",
    "    return predictions\n",
    "\n",
    "def rmse_metric(actual, predicted):\n",
    "    sum_error = 0.0\n",
    "    for i in range(len(actual)):\n",
    "        prediction_error = predicted[i] - actual[i]\n",
    "        sum_error += (prediction_error ** 2)\n",
    "    mean_error = sum_error / float(len(actual))\n",
    "    return sqrt(mean_error)\n",
    "\n",
    "def evaluate_algorithm(train_set, test_set, algorithm):\n",
    "    predicted = algorithm(train_set, test_set)\n",
    "    actual = [row[-1] for row in test_set]\n",
    "    rmse = rmse_metric(actual, predicted)\n",
    "    return rmse\n",
    "\n",
    "def baseline(train_set, test_set):\n",
    "    pays = [row[-1] for row in train_set]\n",
    "    meanValue = mean(pays)\n",
    "    predictions = [meanValue for i in range(len(test_set))]\n",
    "    return predictions\n"
   ]
  },
  {
   "cell_type": "code",
   "execution_count": 6,
   "metadata": {},
   "outputs": [
    {
     "name": "stdout",
     "output_type": "stream",
     "text": [
      "A Regressão Linear Simples obteve os coeficientes: alfa = 20.68 e beta = 3.42\n",
      "O erro RMSE desse algoritmo é 30.10\n",
      "O erro RMSE para o baseline (média dos pagamentos) é 112.82\n",
      "\n",
      "Primeiras 10 predições:\n",
      "Y real: 0.00 \t| Y previsto: 20.68 \t | Y baseline: 95.87\n",
      "Y real: 422.20 \t| Y previsto: 444.50 \t | Y baseline: 95.87\n",
      "Y real: 217.60 \t| Y previsto: 229.17 \t | Y baseline: 95.87\n",
      "Y real: 32.10 \t| Y previsto: 71.95 \t | Y baseline: 95.87\n",
      "Y real: 58.10 \t| Y previsto: 61.69 \t | Y baseline: 95.87\n",
      "Y real: 77.50 \t| Y previsto: 68.53 \t | Y baseline: 95.87\n",
      "Y real: 57.20 \t| Y previsto: 58.27 \t | Y baseline: 95.87\n",
      "Y real: 12.60 \t| Y previsto: 34.35 \t | Y baseline: 95.87\n",
      "Y real: 50.90 \t| Y previsto: 41.18 \t | Y baseline: 95.87\n",
      "Y real: 48.70 \t| Y previsto: 51.44 \t | Y baseline: 95.87\n"
     ]
    }
   ],
   "source": [
    "data = load_csv(\"insurance\")\n",
    "[trainData, testData] = split_train_test(data, test_size=0.4)\n",
    "\n",
    "coef = coefficients(trainData)\n",
    "predRegre = simple_linear_regression(trainData, testData)\n",
    "predBase = baseline(trainData, testData)\n",
    "\n",
    "avalRegre = evaluate_algorithm(trainData, testData, simple_linear_regression)\n",
    "avalBase = evaluate_algorithm(trainData, testData, baseline)\n",
    "\n",
    "print(\"A Regressão Linear Simples obteve os coeficientes: alfa = {:.2f} e beta = {:.2f}\".format(coef[0], coef[1]))\n",
    "print(\"O erro RMSE desse algoritmo é {:.2f}\".format(avalRegre))\n",
    "print(\"O erro RMSE para o baseline (média dos pagamentos) é {:.2f}\".format(avalBase))\n",
    "\n",
    "print(\"\\nPrimeiras 10 predições:\")\n",
    "for i in range(10):\n",
    "    print(\"Y real: {:.2f} \\t| Y previsto: {:.2f} \\t | Y baseline: {:.2f}\".format(testData[i][-1], predRegre[i], predBase[i]))"
   ]
  },
  {
   "cell_type": "code",
   "execution_count": 8,
   "metadata": {},
   "outputs": [
    {
     "data": {
      "image/png": "[encoded data removed]",
      "text/plain": [
       "<matplotlib.figure.Figure at 0x7f9bbb943240>"
      ]
     },
     "metadata": {},
     "output_type": "display_data"
    }
   ],
   "source": [
    "\n",
    "X_train = [row[0] for row in trainData]; X_test = [row[0] for row in testData]\n",
    "Y_train = [row[1] for row in trainData]; Y_test = [row[1] for row in testData]\n",
    "predTrain = simple_linear_regression(trainData, trainData)\n",
    "predTest = predRegre\n",
    "\n",
    "plt.figure(figsize=[10, 5])\n",
    "\n",
    "plt.subplot(1,2,1); plt.title(\"Dados de Treino\")\n",
    "plt.scatter(X_train, Y_train, label=\"Train Data\")\n",
    "plt.plot(X_train, predTrain, 'r-', label=\"Regression Line\")\n",
    "plt.grid()\n",
    "plt.legend()\n",
    "\n",
    "plt.subplot(1,2,2); plt.title(\"Dados de Teste\")\n",
    "plt.scatter(X_test, Y_test, c=\"blue\", label=\"Test Data\")\n",
    "plt.plot(X_test, predTest, 'r-', label=\"Regression Line\")\n",
    "plt.grid()\n",
    "plt.legend()\n",
    "\n",
    "plt.show()"
   ]
  },
  {
   "cell_type": "code",
   "execution_count": null,
   "metadata": {
    "collapsed": true
   },
   "outputs": [],
   "source": []
  }
 ],
 "metadata": {
  "anaconda-cloud": {},
  "kernelspec": {
   "display_name": "Python [default]",
   "language": "python",
   "name": "python3"
  },
  "language_info": {
   "codemirror_mode": {
    "name": "ipython",
    "version": 3
   },
   "file_extension": ".py",
   "mimetype": "text/x-python",
   "name": "python",
   "nbconvert_exporter": "python",
   "pygments_lexer": "ipython3",
   "version": "3.5.3"
  }
 },
 "nbformat": 4,
 "nbformat_minor": 2
}
