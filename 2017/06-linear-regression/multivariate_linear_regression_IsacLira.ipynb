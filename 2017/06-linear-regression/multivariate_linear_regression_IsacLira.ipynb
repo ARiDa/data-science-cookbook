{
 "cells": [
  {
   "cell_type": "code",
   "execution_count": 426,
   "metadata": {},
   "outputs": [],
   "source": [
    "%matplotlib inline\n",
    "import numpy as np\n",
    "import pandas as pd\n",
    "from sklearn.preprocessing import normalize\n",
    "import matplotlib.pyplot as plt\n",
    "wineSet = pd.read_csv(\"winequality-white.csv\",';')"
   ]
  },
  {
   "cell_type": "code",
   "execution_count": 60,
   "metadata": {},
   "outputs": [
    {
     "data": {
      "text/plain": [
       "(4898, 14)"
      ]
     },
     "execution_count": 60,
     "metadata": {},
     "output_type": "execute_result"
    }
   ],
   "source": [
    "wineSetNorm = wineSet.copy()\n",
    "del wineSetNorm['quality']\n",
    "\n",
    "wineSetNorm = pd.DataFrame(normalize(wineSet,'l2'))\n",
    "cols = list(wineSetNorm.columns)\n",
    "cols.insert(0,'x0')\n",
    "wineSetNorm['x0'] = 1\n",
    "wineSetNorm = wineSetNorm[cols]\n",
    "wineSetNorm['12'] = wineSet.quality\n",
    "\n",
    "msk = np.random.rand(len(wineSet)) < 0.7\n",
    "train = wineSetNorm[msk]\n",
    "test = wineSetNorm[~msk]\n",
    "\n",
    "wineSetNorm.values.shape\n"
   ]
  },
  {
   "cell_type": "code",
   "execution_count": 70,
   "metadata": {},
   "outputs": [],
   "source": [
    "def coefficients(learnRate,train,epochs):\n",
    "    numFeatures = train.shape[1]-1\n",
    "    coeff = np.random.rand(numFeatures)\n",
    "    costFunc = []\n",
    "    for epoch in range(epochs):            \n",
    "        for row in train.values:              \n",
    "            xVet = row[0:-1]           \n",
    "            y = row[-1]\n",
    "            ypred = xVet.dot(coeff.T)\n",
    "            error = (ypred - y)\n",
    "            costFunc.append(error**2)\n",
    "            coeff = coeff - learnRate*error*xVet\n",
    "    return coeff, costFunc\n",
    "\n"
   ]
  },
  {
   "cell_type": "code",
   "execution_count": 71,
   "metadata": {
    "collapsed": true
   },
   "outputs": [],
   "source": [
    "def predict(testSet,coeff):\n",
    "    XTest = testSet.values[:,0:-1]\n",
    "    yTest = testSet.values[:,-1]\n",
    "    yPred = XTest.dot(coeff)\n",
    "\n",
    "    RMSE = np.sqrt(sum(yTest - yPred)**2/len(yTest))\n",
    "    return RMSE\n"
   ]
  },
  {
   "cell_type": "code",
   "execution_count": 153,
   "metadata": {},
   "outputs": [
    {
     "name": "stdout",
     "output_type": "stream",
     "text": [
      "0.0647444044523\n"
     ]
    }
   ],
   "source": [
    "epochs = 100\n",
    "coeff,costFunc = coefficients(0.001,train,epochs)\n",
    "\n",
    "\n",
    "RMSE = predict(test,coeff)\n",
    "print(RMSE)\n",
    "\n"
   ]
  },
  {
   "cell_type": "code",
   "execution_count": 150,
   "metadata": {},
   "outputs": [
    {
     "data": {
      "text/plain": [
       "(-10, 50)"
      ]
     },
     "execution_count": 150,
     "metadata": {},
     "output_type": "execute_result"
    },
    {
     "data": {
      "image/png": "[encoded data removed]",
      "text/plain": [
       "<matplotlib.figure.Figure at 0x7f2ef10eb710>"
      ]
     },
     "metadata": {},
     "output_type": "display_data"
    }
   ],
   "source": [
    "plt.plot((costFunc))\n",
    "plt.xlim([-10, 2000])\n",
    "plt.ylim([-10, 50])"
   ]
  },
  {
   "cell_type": "code",
   "execution_count": 154,
   "metadata": {},
   "outputs": [
    {
     "name": "stdout",
     "output_type": "stream",
     "text": [
      "0.0513572656698\n"
     ]
    }
   ],
   "source": [
    "# Normal Equation: Ordinary least Means Square\n",
    "XTrain = train.values[:,0:-1]\n",
    "yTrain = train.values[:,-1]\n",
    "coeff = np.linalg.pinv(XTrain).dot(yTrain)\n",
    "\n",
    "RMSE = predict(test,coeff)\n",
    "print(RMSE)\n",
    "\n"
   ]
  },
  {
   "cell_type": "code",
   "execution_count": null,
   "metadata": {
    "collapsed": true
   },
   "outputs": [],
   "source": []
  }
 ],
 "metadata": {
  "anaconda-cloud": {},
  "kernelspec": {
   "display_name": "Python 3",
   "language": "python",
   "name": "python3"
  },
  "language_info": {
   "codemirror_mode": {
    "name": "ipython",
    "version": 3
   },
   "file_extension": ".py",
   "mimetype": "text/x-python",
   "name": "python",
   "nbconvert_exporter": "python",
   "pygments_lexer": "ipython3",
   "version": "3.6.2"
  }
 },
 "nbformat": 4,
 "nbformat_minor": 1
}
